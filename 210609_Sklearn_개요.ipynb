{
  "nbformat": 4,
  "nbformat_minor": 0,
  "metadata": {
    "colab": {
      "name": "210609_Sklearn 개요.ipynb",
      "provenance": [],
      "authorship_tag": "ABX9TyOKfpDc+3BjCA+iO8cedgNx",
      "include_colab_link": true
    },
    "kernelspec": {
      "name": "python3",
      "display_name": "Python 3"
    },
    "language_info": {
      "name": "python"
    }
  },
  "cells": [
    {
      "cell_type": "markdown",
      "metadata": {
        "id": "view-in-github",
        "colab_type": "text"
      },
      "source": [
        "<a href=\"https://colab.research.google.com/github/nureeee/Machhine-Learning/blob/main/210609_Sklearn_%EA%B0%9C%EC%9A%94.ipynb\" target=\"_parent\"><img src=\"https://colab.research.google.com/assets/colab-badge.svg\" alt=\"Open In Colab\"/></a>"
      ]
    },
    {
      "cell_type": "markdown",
      "metadata": {
        "id": "JhfHEoVJdboH"
      },
      "source": [
        "# 사이킷런\n",
        "각종 유명한 머신러닝 기법들을 구현해 놓은 **라이브러리**\n",
        "* 라이브러리(library)란? 도구\n",
        "* 프레임워크(framework)?\n",
        "  - 축구장에서는 축구를 하고요.\n",
        "  - 농구장에선 농구를 하고요\n",
        "  - 야구장에서는 야구를 할거에요\n",
        "  - 딥러닝 프레임워크에서는? 딥러닝을 하겠지\n",
        "  - -> 딥러닝을 하기 위해 필요한 도구들이 준비되어 있는 환경들이 갖춰진 공간\n"
      ]
    },
    {
      "cell_type": "markdown",
      "metadata": {
        "id": "8Vn39woieREd"
      },
      "source": [
        "## 훈련하기 - fit\n",
        "* fit(x, y)\n",
        "- x : feature\n",
        "- y : label"
      ]
    },
    {
      "cell_type": "code",
      "metadata": {
        "id": "OYiCioaIXsGu"
      },
      "source": [
        "import numpy as np\n",
        "from sklearn.linear_model import LinearRegression"
      ],
      "execution_count": 1,
      "outputs": []
    },
    {
      "cell_type": "markdown",
      "metadata": {
        "id": "oCVzSmhieqoh"
      },
      "source": [
        "## LinearRegression 간단 소개\n",
        "데이터 x가 들어왔을 대 y예측하기 우ㅟ한 기울기와 편향을 학습\n",
        "$$\n",
        "y = WX + b\n",
        "$$\n",
        "\n",
        "위의 식에서 W :기울기 , b : 편향이라고 한다,\n",
        "즉 LinearRegression은 y의 오차를 줄이는 W, b를 학습한다\n",
        "\n"
      ]
    },
    {
      "cell_type": "code",
      "metadata": {
        "id": "8QjTMyzYeo0Q"
      },
      "source": [
        "X = np.array([1,2,3,5])\n",
        "y = np.array([3,5,7,11])"
      ],
      "execution_count": 2,
      "outputs": []
    },
    {
      "cell_type": "code",
      "metadata": {
        "colab": {
          "base_uri": "https://localhost:8080/",
          "height": 210
        },
        "id": "AZ11fLKhgVcO",
        "outputId": "b975327c-f963-4176-8adc-791c249bf785"
      },
      "source": [
        "# fit에 대한 이해\n",
        "model = LinearRegression()\n",
        "mosel.fit(X, y) # (feature, label)"
      ],
      "execution_count": 3,
      "outputs": [
        {
          "output_type": "error",
          "ename": "NameError",
          "evalue": "ignored",
          "traceback": [
            "\u001b[0;31m---------------------------------------------------------------------------\u001b[0m",
            "\u001b[0;31mNameError\u001b[0m                                 Traceback (most recent call last)",
            "\u001b[0;32m<ipython-input-3-d2ad495e06bc>\u001b[0m in \u001b[0;36m<module>\u001b[0;34m()\u001b[0m\n\u001b[1;32m      1\u001b[0m \u001b[0;31m# fit에 대한 이해\u001b[0m\u001b[0;34m\u001b[0m\u001b[0;34m\u001b[0m\u001b[0;34m\u001b[0m\u001b[0m\n\u001b[1;32m      2\u001b[0m \u001b[0mmodel\u001b[0m \u001b[0;34m=\u001b[0m \u001b[0mLinearRegression\u001b[0m\u001b[0;34m(\u001b[0m\u001b[0;34m)\u001b[0m\u001b[0;34m\u001b[0m\u001b[0;34m\u001b[0m\u001b[0m\n\u001b[0;32m----> 3\u001b[0;31m \u001b[0mmosel\u001b[0m\u001b[0;34m.\u001b[0m\u001b[0mfit\u001b[0m\u001b[0;34m(\u001b[0m\u001b[0mX\u001b[0m\u001b[0;34m,\u001b[0m \u001b[0my\u001b[0m\u001b[0;34m)\u001b[0m \u001b[0;31m# (feature, label)\u001b[0m\u001b[0;34m\u001b[0m\u001b[0;34m\u001b[0m\u001b[0m\n\u001b[0m",
            "\u001b[0;31mNameError\u001b[0m: name 'mosel' is not defined"
          ]
        }
      ]
    },
    {
      "cell_type": "markdown",
      "metadata": {
        "id": "Ytcx2lW7gpXw"
      },
      "source": [
        "### fit을 할 때는 feature는 무조건 2차원 배열"
      ]
    },
    {
      "cell_type": "code",
      "metadata": {
        "colab": {
          "base_uri": "https://localhost:8080/"
        },
        "id": "ZANxn-GFgowD",
        "outputId": "a054cfe2-7426-499f-b1da-78ca57ffc3a7"
      },
      "source": [
        "X.shape"
      ],
      "execution_count": 4,
      "outputs": [
        {
          "output_type": "execute_result",
          "data": {
            "text/plain": [
              "(4,)"
            ]
          },
          "metadata": {
            "tags": []
          },
          "execution_count": 4
        }
      ]
    },
    {
      "cell_type": "code",
      "metadata": {
        "colab": {
          "base_uri": "https://localhost:8080/"
        },
        "id": "esD8cYuAgxqZ",
        "outputId": "47d3545e-8296-49cd-cf90-b55707f9dede"
      },
      "source": [
        "X = X.reshape(-1, 1)\n",
        "X.shape"
      ],
      "execution_count": 5,
      "outputs": [
        {
          "output_type": "execute_result",
          "data": {
            "text/plain": [
              "(4, 1)"
            ]
          },
          "metadata": {
            "tags": []
          },
          "execution_count": 5
        }
      ]
    },
    {
      "cell_type": "code",
      "metadata": {
        "colab": {
          "base_uri": "https://localhost:8080/"
        },
        "id": "l9XVx_obg2Nh",
        "outputId": "81b49e9d-c4d2-4bc1-9629-9d2e8f239a7a"
      },
      "source": [
        "X # 2차원 열벡터 \n",
        "  # 1차원 행벡터는 들어갈 수 없고 2차원 열벡터로 들어갈 수 잇다!!\n",
        "  # feature의 개수는 4개지만 종류는 1가지(컬럼이 1가지)이다. "
      ],
      "execution_count": 6,
      "outputs": [
        {
          "output_type": "execute_result",
          "data": {
            "text/plain": [
              "array([[1],\n",
              "       [2],\n",
              "       [3],\n",
              "       [5]])"
            ]
          },
          "metadata": {
            "tags": []
          },
          "execution_count": 6
        }
      ]
    },
    {
      "cell_type": "code",
      "metadata": {
        "id": "9d9OgKrmg3Nh"
      },
      "source": [
        "# 또는 X = X[..., np]"
      ],
      "execution_count": 7,
      "outputs": []
    },
    {
      "cell_type": "code",
      "metadata": {
        "colab": {
          "base_uri": "https://localhost:8080/"
        },
        "id": "1jxryyklhNnK",
        "outputId": "18f56ee7-bebe-4c5c-d6d3-14c0cd7cd00a"
      },
      "source": [
        "model.fit(X, y)"
      ],
      "execution_count": 9,
      "outputs": [
        {
          "output_type": "execute_result",
          "data": {
            "text/plain": [
              "LinearRegression(copy_X=True, fit_intercept=True, n_jobs=None, normalize=False)"
            ]
          },
          "metadata": {
            "tags": []
          },
          "execution_count": 9
        }
      ]
    },
    {
      "cell_type": "markdown",
      "metadata": {
        "id": "goQxiPg1hT1y"
      },
      "source": [
        "## 예측하기 - predict\n",
        " * 특징\n",
        " - predict로 예측할 때는 반드시 훈련시 사용했던 데이터의 스칼라 개수가 맞아야 된다.\n"
      ]
    },
    {
      "cell_type": "code",
      "metadata": {
        "colab": {
          "base_uri": "https://localhost:8080/"
        },
        "id": "WrnWHT4uhQFp",
        "outputId": "8cb83855-37c5-4366-a3ae-1cb84ac505dd"
      },
      "source": [
        "#for_predict = np.array([4])  이렇게 하면 안됨 -->행벡터를 열벡터로 만들기\n",
        "for_predict = np.array([[4], [6]])\n",
        "for_predict.shape"
      ],
      "execution_count": 12,
      "outputs": [
        {
          "output_type": "execute_result",
          "data": {
            "text/plain": [
              "(2, 1)"
            ]
          },
          "metadata": {
            "tags": []
          },
          "execution_count": 12
        }
      ]
    },
    {
      "cell_type": "code",
      "metadata": {
        "colab": {
          "base_uri": "https://localhost:8080/"
        },
        "id": "F0DukUwJiOnb",
        "outputId": "fa2eda89-f75b-4594-e7d7-b9ae029374e3"
      },
      "source": [
        "model.predict(for_predict)"
      ],
      "execution_count": 13,
      "outputs": [
        {
          "output_type": "execute_result",
          "data": {
            "text/plain": [
              "array([ 9., 13.])"
            ]
          },
          "metadata": {
            "tags": []
          },
          "execution_count": 13
        }
      ]
    },
    {
      "cell_type": "markdown",
      "metadata": {
        "id": "_nfN08QAky9q"
      },
      "source": [
        "# [번외] LinearRegreeion 모델은 무엇을 어떻게 학습했나?\n",
        "'w'와 'b'를 학습했다"
      ]
    },
    {
      "cell_type": "code",
      "metadata": {
        "colab": {
          "base_uri": "https://localhost:8080/"
        },
        "id": "I4ZrP4ADiZD6",
        "outputId": "69c6b07d-dc3f-4bf3-cbf6-d70fda5c4b22"
      },
      "source": [
        "# w : coef\n",
        "# b : intercept_\n",
        "\n",
        "model.coef_"
      ],
      "execution_count": 15,
      "outputs": [
        {
          "output_type": "execute_result",
          "data": {
            "text/plain": [
              "array([2.])"
            ]
          },
          "metadata": {
            "tags": []
          },
          "execution_count": 15
        }
      ]
    },
    {
      "cell_type": "code",
      "metadata": {
        "colab": {
          "base_uri": "https://localhost:8080/"
        },
        "id": "qjf_oqCClL7O",
        "outputId": "9be905e1-284a-48d2-dfc9-c43397ca17ce"
      },
      "source": [
        "model.intercept_"
      ],
      "execution_count": 16,
      "outputs": [
        {
          "output_type": "execute_result",
          "data": {
            "text/plain": [
              "1.0"
            ]
          },
          "metadata": {
            "tags": []
          },
          "execution_count": 16
        }
      ]
    },
    {
      "cell_type": "markdown",
      "metadata": {
        "id": "WJuQ0dP0lfoJ"
      },
      "source": [
        "## 섭씨-> 화씨 변환 모델 만들기 ( 화씨 예측 모델 만들기)"
      ]
    },
    {
      "cell_type": "code",
      "metadata": {
        "id": "4R56euRnlP7J"
      },
      "source": [
        "c = np.arange(1, 20)\n",
        "f = c * 1.8 + 32\n"
      ],
      "execution_count": 17,
      "outputs": []
    },
    {
      "cell_type": "code",
      "metadata": {
        "colab": {
          "base_uri": "https://localhost:8080/"
        },
        "id": "i8WAbb0LlvdR",
        "outputId": "f5217c48-7dfd-49ae-d6c1-5362e65d3643"
      },
      "source": [
        "model = LinearRegression()\n",
        "model.fit(c.reshape(-1, 1), f)"
      ],
      "execution_count": 18,
      "outputs": [
        {
          "output_type": "execute_result",
          "data": {
            "text/plain": [
              "LinearRegression(copy_X=True, fit_intercept=True, n_jobs=None, normalize=False)"
            ]
          },
          "metadata": {
            "tags": []
          },
          "execution_count": 18
        }
      ]
    },
    {
      "cell_type": "code",
      "metadata": {
        "colab": {
          "base_uri": "https://localhost:8080/"
        },
        "id": "HD5PS3Cbl8kY",
        "outputId": "2c89ab5e-e678-4131-edf0-c65facba8b94"
      },
      "source": [
        "model.predict(np.array([[30]])) # 섭씨가 30일 때 화씨는 ?"
      ],
      "execution_count": 19,
      "outputs": [
        {
          "output_type": "execute_result",
          "data": {
            "text/plain": [
              "array([86.])"
            ]
          },
          "metadata": {
            "tags": []
          },
          "execution_count": 19
        }
      ]
    },
    {
      "cell_type": "code",
      "metadata": {
        "colab": {
          "base_uri": "https://localhost:8080/"
        },
        "id": "yY7OI5IRmEmZ",
        "outputId": "19fbcab4-92d3-4610-e614-03aff36f11f0"
      },
      "source": [
        "model.coef_"
      ],
      "execution_count": 20,
      "outputs": [
        {
          "output_type": "execute_result",
          "data": {
            "text/plain": [
              "array([1.8])"
            ]
          },
          "metadata": {
            "tags": []
          },
          "execution_count": 20
        }
      ]
    },
    {
      "cell_type": "code",
      "metadata": {
        "colab": {
          "base_uri": "https://localhost:8080/"
        },
        "id": "A17pBrSdmHv4",
        "outputId": "9bae4dab-8681-4049-f34e-1967a73f2efc"
      },
      "source": [
        "model.intercept_"
      ],
      "execution_count": 21,
      "outputs": [
        {
          "output_type": "execute_result",
          "data": {
            "text/plain": [
              "32.0"
            ]
          },
          "metadata": {
            "tags": []
          },
          "execution_count": 21
        }
      ]
    }
  ]
}