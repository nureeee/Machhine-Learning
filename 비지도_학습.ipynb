{
  "nbformat": 4,
  "nbformat_minor": 0,
  "metadata": {
    "colab": {
      "name": "비지도 학습.ipynb",
      "provenance": [],
      "authorship_tag": "ABX9TyMC2E1eEaN6WhWjH1rCvaVt",
      "include_colab_link": true
    },
    "kernelspec": {
      "name": "python3",
      "display_name": "Python 3"
    },
    "language_info": {
      "name": "python"
    }
  },
  "cells": [
    {
      "cell_type": "markdown",
      "metadata": {
        "id": "view-in-github",
        "colab_type": "text"
      },
      "source": [
        "<a href=\"https://colab.research.google.com/github/nureeee/Machhine-Learning/blob/main/%EB%B9%84%EC%A7%80%EB%8F%84_%ED%95%99%EC%8A%B5.ipynb\" target=\"_parent\"><img src=\"https://colab.research.google.com/assets/colab-badge.svg\" alt=\"Open In Colab\"/></a>"
      ]
    },
    {
      "cell_type": "markdown",
      "metadata": {
        "id": "v5HlFudYWRow"
      },
      "source": [
        "# 비지도 학습의 개요\n",
        "분산이 뚜렷한 데이터를 추출?\n",
        "비지도 학습(Unsupervised Learning)은 기계 학습의 일종으로, **데이터가 어떻게 구성되었는지를 알아내는 문제의 범주에 속한다.** 지도학습(Supervised Learning)과는 달리 **입력값에 대한 정답(목표치)가 주어지지 않는다.**\n"
      ]
    },
    {
      "cell_type": "markdown",
      "metadata": {
        "id": "BiwujrwDk8A9"
      },
      "source": [
        "* 차원 축소 : PCA, LDA, SVD\n",
        "* 군집화 : KMeans Clustering, DBSCAN Clustering\n",
        "  * 군집화 평가"
      ]
    },
    {
      "cell_type": "markdown",
      "metadata": {
        "id": "8mamFzK2k9IE"
      },
      "source": [
        "# 차원 축소\n",
        "* `feature`의 개수를 줄여주는 것이 기본!\n",
        "* 각각의 데이터들이 나타내고 있는 **특징**추출하는 역할을 하기도 한다.\n",
        "* 계산 비용을 감소하는 효과\n",
        "* **전반적인 데이터에 대한 이해도를 높이는 효과**"
      ]
    },
    {
      "cell_type": "code",
      "metadata": {
        "id": "DePMqMtraoM1"
      },
      "source": [
        "from sklearn.preprocessing import StandardScaler\n",
        "from sklearn.decomposition import PCA\n",
        "from sklearn import datasets\n",
        "import pandas as pd"
      ],
      "execution_count": null,
      "outputs": []
    },
    {
      "cell_type": "code",
      "metadata": {
        "colab": {
          "base_uri": "https://localhost:8080/"
        },
        "id": "asJaR9W1axzu",
        "outputId": "7b426c31-1bdc-4b2a-a7e6-838d15d68e9e"
      },
      "source": [
        "iris = datasets.load_iris()\n",
        "data = iris['data']\n",
        "\n",
        "data[:5]"
      ],
      "execution_count": null,
      "outputs": [
        {
          "output_type": "execute_result",
          "data": {
            "text/plain": [
              "array([[5.1, 3.5, 1.4, 0.2],\n",
              "       [4.9, 3. , 1.4, 0.2],\n",
              "       [4.7, 3.2, 1.3, 0.2],\n",
              "       [4.6, 3.1, 1.5, 0.2],\n",
              "       [5. , 3.6, 1.4, 0.2]])"
            ]
          },
          "metadata": {
            "tags": []
          },
          "execution_count": 5
        }
      ]
    },
    {
      "cell_type": "code",
      "metadata": {
        "colab": {
          "base_uri": "https://localhost:8080/",
          "height": 203
        },
        "id": "JNXjLZdnbFRr",
        "outputId": "fb100c24-723b-4918-f43e-ae83fcc00f1b"
      },
      "source": [
        "df = pd.DataFrame(data, columns=iris['feature_names'])\n",
        "df.head()"
      ],
      "execution_count": null,
      "outputs": [
        {
          "output_type": "execute_result",
          "data": {
            "text/html": [
              "<div>\n",
              "<style scoped>\n",
              "    .dataframe tbody tr th:only-of-type {\n",
              "        vertical-align: middle;\n",
              "    }\n",
              "\n",
              "    .dataframe tbody tr th {\n",
              "        vertical-align: top;\n",
              "    }\n",
              "\n",
              "    .dataframe thead th {\n",
              "        text-align: right;\n",
              "    }\n",
              "</style>\n",
              "<table border=\"1\" class=\"dataframe\">\n",
              "  <thead>\n",
              "    <tr style=\"text-align: right;\">\n",
              "      <th></th>\n",
              "      <th>sepal length (cm)</th>\n",
              "      <th>sepal width (cm)</th>\n",
              "      <th>petal length (cm)</th>\n",
              "      <th>petal width (cm)</th>\n",
              "    </tr>\n",
              "  </thead>\n",
              "  <tbody>\n",
              "    <tr>\n",
              "      <th>0</th>\n",
              "      <td>5.1</td>\n",
              "      <td>3.5</td>\n",
              "      <td>1.4</td>\n",
              "      <td>0.2</td>\n",
              "    </tr>\n",
              "    <tr>\n",
              "      <th>1</th>\n",
              "      <td>4.9</td>\n",
              "      <td>3.0</td>\n",
              "      <td>1.4</td>\n",
              "      <td>0.2</td>\n",
              "    </tr>\n",
              "    <tr>\n",
              "      <th>2</th>\n",
              "      <td>4.7</td>\n",
              "      <td>3.2</td>\n",
              "      <td>1.3</td>\n",
              "      <td>0.2</td>\n",
              "    </tr>\n",
              "    <tr>\n",
              "      <th>3</th>\n",
              "      <td>4.6</td>\n",
              "      <td>3.1</td>\n",
              "      <td>1.5</td>\n",
              "      <td>0.2</td>\n",
              "    </tr>\n",
              "    <tr>\n",
              "      <th>4</th>\n",
              "      <td>5.0</td>\n",
              "      <td>3.6</td>\n",
              "      <td>1.4</td>\n",
              "      <td>0.2</td>\n",
              "    </tr>\n",
              "  </tbody>\n",
              "</table>\n",
              "</div>"
            ],
            "text/plain": [
              "   sepal length (cm)  sepal width (cm)  petal length (cm)  petal width (cm)\n",
              "0                5.1               3.5                1.4               0.2\n",
              "1                4.9               3.0                1.4               0.2\n",
              "2                4.7               3.2                1.3               0.2\n",
              "3                4.6               3.1                1.5               0.2\n",
              "4                5.0               3.6                1.4               0.2"
            ]
          },
          "metadata": {
            "tags": []
          },
          "execution_count": 8
        }
      ]
    },
    {
      "cell_type": "code",
      "metadata": {
        "colab": {
          "base_uri": "https://localhost:8080/",
          "height": 203
        },
        "id": "RO2UJxu3bYlC",
        "outputId": "a8728868-86e3-4f43-d369-4c96c5c2d760"
      },
      "source": [
        "df['target'] = iris['target']\n",
        "df.head()"
      ],
      "execution_count": null,
      "outputs": [
        {
          "output_type": "execute_result",
          "data": {
            "text/html": [
              "<div>\n",
              "<style scoped>\n",
              "    .dataframe tbody tr th:only-of-type {\n",
              "        vertical-align: middle;\n",
              "    }\n",
              "\n",
              "    .dataframe tbody tr th {\n",
              "        vertical-align: top;\n",
              "    }\n",
              "\n",
              "    .dataframe thead th {\n",
              "        text-align: right;\n",
              "    }\n",
              "</style>\n",
              "<table border=\"1\" class=\"dataframe\">\n",
              "  <thead>\n",
              "    <tr style=\"text-align: right;\">\n",
              "      <th></th>\n",
              "      <th>sepal length (cm)</th>\n",
              "      <th>sepal width (cm)</th>\n",
              "      <th>petal length (cm)</th>\n",
              "      <th>petal width (cm)</th>\n",
              "      <th>target</th>\n",
              "    </tr>\n",
              "  </thead>\n",
              "  <tbody>\n",
              "    <tr>\n",
              "      <th>0</th>\n",
              "      <td>5.1</td>\n",
              "      <td>3.5</td>\n",
              "      <td>1.4</td>\n",
              "      <td>0.2</td>\n",
              "      <td>0</td>\n",
              "    </tr>\n",
              "    <tr>\n",
              "      <th>1</th>\n",
              "      <td>4.9</td>\n",
              "      <td>3.0</td>\n",
              "      <td>1.4</td>\n",
              "      <td>0.2</td>\n",
              "      <td>0</td>\n",
              "    </tr>\n",
              "    <tr>\n",
              "      <th>2</th>\n",
              "      <td>4.7</td>\n",
              "      <td>3.2</td>\n",
              "      <td>1.3</td>\n",
              "      <td>0.2</td>\n",
              "      <td>0</td>\n",
              "    </tr>\n",
              "    <tr>\n",
              "      <th>3</th>\n",
              "      <td>4.6</td>\n",
              "      <td>3.1</td>\n",
              "      <td>1.5</td>\n",
              "      <td>0.2</td>\n",
              "      <td>0</td>\n",
              "    </tr>\n",
              "    <tr>\n",
              "      <th>4</th>\n",
              "      <td>5.0</td>\n",
              "      <td>3.6</td>\n",
              "      <td>1.4</td>\n",
              "      <td>0.2</td>\n",
              "      <td>0</td>\n",
              "    </tr>\n",
              "  </tbody>\n",
              "</table>\n",
              "</div>"
            ],
            "text/plain": [
              "   sepal length (cm)  sepal width (cm)  ...  petal width (cm)  target\n",
              "0                5.1               3.5  ...               0.2       0\n",
              "1                4.9               3.0  ...               0.2       0\n",
              "2                4.7               3.2  ...               0.2       0\n",
              "3                4.6               3.1  ...               0.2       0\n",
              "4                5.0               3.6  ...               0.2       0\n",
              "\n",
              "[5 rows x 5 columns]"
            ]
          },
          "metadata": {
            "tags": []
          },
          "execution_count": 9
        }
      ]
    },
    {
      "cell_type": "markdown",
      "metadata": {
        "id": "-nJ85hFbbgoi"
      },
      "source": [
        "# PCA차원축소\n",
        "* 분산 - 데이터가 펼쳐진 정도\n",
        "* 데이터가 얼마나 커지는가를 중점으로 본다\n",
        "- 주성분 분석(PCA)는 선형 차원 축소 기법이다. 매우 인기 있게 사용되는 차원 축소 기법이다.\n",
        "\n",
        "* 주요 특징중 하나는 **분산(variance)을 최대한 보존**한다는 점"
      ]
    },
    {
      "cell_type": "markdown",
      "metadata": {
        "id": "1kLVF-bjlH1q"
      },
      "source": [
        "* `components` : PCA의 결과의 개수"
      ]
    },
    {
      "cell_type": "code",
      "metadata": {
        "id": "Wd7U7xTCciVE"
      },
      "source": [
        "pca = PCA(n_components=2)\n"
      ],
      "execution_count": null,
      "outputs": []
    },
    {
      "cell_type": "code",
      "metadata": {
        "id": "Qp9DHCvtfViS"
      },
      "source": [
        "data_scaled = StandardScaler().fit_transform(df.iloc[:, :-1])"
      ],
      "execution_count": null,
      "outputs": []
    },
    {
      "cell_type": "code",
      "metadata": {
        "colab": {
          "base_uri": "https://localhost:8080/"
        },
        "id": "FpeH7M0Lfq06",
        "outputId": "47f59d50-7ce1-4619-c7e4-8e97ae616fb9"
      },
      "source": [
        "data_scaled.shape"
      ],
      "execution_count": null,
      "outputs": [
        {
          "output_type": "execute_result",
          "data": {
            "text/plain": [
              "(150, 4)"
            ]
          },
          "metadata": {
            "tags": []
          },
          "execution_count": 13
        }
      ]
    },
    {
      "cell_type": "code",
      "metadata": {
        "colab": {
          "base_uri": "https://localhost:8080/"
        },
        "id": "kaq9W38wf3XJ",
        "outputId": "88b47823-45e0-4f69-fe86-78d5681e0158"
      },
      "source": [
        "pca_data = pca.fit_transform(data_scaled) # 데이터를 추출하는 용도로만 사용 변환은 아니다.\n",
        "pca_data.shape"
      ],
      "execution_count": null,
      "outputs": [
        {
          "output_type": "execute_result",
          "data": {
            "text/plain": [
              "(150, 2)"
            ]
          },
          "metadata": {
            "tags": []
          },
          "execution_count": 15
        }
      ]
    },
    {
      "cell_type": "markdown",
      "metadata": {
        "id": "QWppr9tvgG7R"
      },
      "source": [
        "# 시각화"
      ]
    },
    {
      "cell_type": "code",
      "metadata": {
        "id": "dnKVLqGUlNVr"
      },
      "source": [
        "import matplotlib.pyplot as plt\n",
        "import seaborn as sns\n"
      ],
      "execution_count": null,
      "outputs": []
    },
    {
      "cell_type": "code",
      "metadata": {
        "colab": {
          "base_uri": "https://localhost:8080/",
          "height": 265
        },
        "id": "30j4AzADpgsT",
        "outputId": "0a2e7516-d6b6-43bd-bc8b-4b87787fceba"
      },
      "source": [
        "plt.scatter(\n",
        "    pca_data[:, 0],\n",
        "    pca_data[:, 1],\n",
        "    c=df['target']\n",
        ")\n",
        "plt.show()\n",
        "# 4차원을 2차원으로 줄임????\n"
      ],
      "execution_count": null,
      "outputs": [
        {
          "output_type": "display_data",
          "data": {
            "image/png": "[encoded data removed]",
            "text/plain": [
              "<Figure size 432x288 with 1 Axes>"
            ]
          },
          "metadata": {
            "tags": [],
            "needs_background": "light"
          }
        }
      ]
    },
    {
      "cell_type": "markdown",
      "metadata": {
        "id": "rukFMqAgpv7Q"
      },
      "source": [
        "## PCA에서 component의 값을 1 미만으로 넣으면 (보통  0.99) 분산을 기준으로 차원을 축소"
      ]
    },
    {
      "cell_type": "markdown",
      "metadata": {
        "id": "1gDcHvNVtyFN"
      },
      "source": [
        "데이터들을 가장 잘 표현해 줄수 있는 방향??\n"
      ]
    },
    {
      "cell_type": "code",
      "metadata": {
        "id": "T0V3KWWysTWG"
      },
      "source": [
        "pca = PCA(n_components=0.99) # 자동으로 주성분 탐색"
      ],
      "execution_count": null,
      "outputs": []
    },
    {
      "cell_type": "code",
      "metadata": {
        "colab": {
          "base_uri": "https://localhost:8080/"
        },
        "id": "yTcD1C-tsiZ4",
        "outputId": "560bf579-8146-424e-aa19-ed96fb97bc57"
      },
      "source": [
        "pca_data = pca.fit_transform(data_scaled)\n",
        "pca_data[:5]"
      ],
      "execution_count": null,
      "outputs": [
        {
          "output_type": "execute_result",
          "data": {
            "text/plain": [
              "array([[-2.26470281,  0.4800266 , -0.12770602],\n",
              "       [-2.08096115, -0.67413356, -0.23460885],\n",
              "       [-2.36422905, -0.34190802,  0.04420148],\n",
              "       [-2.29938422, -0.59739451,  0.09129011],\n",
              "       [-2.38984217,  0.64683538,  0.0157382 ]])"
            ]
          },
          "metadata": {
            "tags": []
          },
          "execution_count": 22
        }
      ]
    },
    {
      "cell_type": "code",
      "metadata": {
        "colab": {
          "base_uri": "https://localhost:8080/",
          "height": 319
        },
        "id": "2XdQ9DSPsw23",
        "outputId": "9a348bc1-873a-435a-e206-c51e678699eb"
      },
      "source": [
        "from mpl_toolkits.mplot3d import Axes3D\n",
        "import numpy as np \n",
        "\n",
        "fig = plt.figure(figsize=(10, 5))\n",
        "ax = fig.add_subplot(111, projection='3d') # Axe3D object\n",
        "\n",
        "sample_size = 50\n",
        "ax.scatter(pca_data[:, 0], pca_data[:, 1], pca_data[:, 2], alpha=0.6, c=df['target'])\n",
        "plt.savefig('./tmp.svg')\n",
        "plt.title(\"ax.plot\")\n",
        "plt.show()"
      ],
      "execution_count": null,
      "outputs": [
        {
          "output_type": "display_data",
          "data": {
            "image/png": "[encoded data removed]",
            "text/plain": [
              "<Figure size 720x360 with 1 Axes>"
            ]
          },
          "metadata": {
            "tags": [],
            "needs_background": "light"
          }
        }
      ]
    },
    {
      "cell_type": "markdown",
      "metadata": {
        "id": "x0TYGgCwtNqG"
      },
      "source": [
        "# LDA ( Linaer Discriminant Analysis ) : 선형 판별 분석법 (PCA와 유사)\n",
        "* LDA는 클래스 분리를 최대화하는 축을 찾기 위해 클래스 간 분산과 내부 분산의 비율을 최대화 하는 방식으로 축소합니다.\n",
        "* 클래스 간 분산이 최대가 되고, > 클래스 끼리는 널찍이 떨어져 있는 것이 좋다. \n",
        "* 크래스 내부 분산이 최소가 되면 > 같은 클래스 끼리는 가까이 있는ㄴ게 좋다"
      ]
    },
    {
      "cell_type": "code",
      "metadata": {
        "id": "NsF4b32W08nQ"
      },
      "source": [
        "from sklearn.discriminant_analysis import LinearDiscriminantAnalysis\n",
        "from sklearn.preprocessing import StandardScaler"
      ],
      "execution_count": null,
      "outputs": []
    },
    {
      "cell_type": "code",
      "metadata": {
        "colab": {
          "base_uri": "https://localhost:8080/",
          "height": 203
        },
        "id": "zkOvRblD1Fnn",
        "outputId": "120127f9-42b3-4f81-d835-a0bdc6e318db"
      },
      "source": [
        "df.head()"
      ],
      "execution_count": null,
      "outputs": [
        {
          "output_type": "execute_result",
          "data": {
            "text/html": [
              "<div>\n",
              "<style scoped>\n",
              "    .dataframe tbody tr th:only-of-type {\n",
              "        vertical-align: middle;\n",
              "    }\n",
              "\n",
              "    .dataframe tbody tr th {\n",
              "        vertical-align: top;\n",
              "    }\n",
              "\n",
              "    .dataframe thead th {\n",
              "        text-align: right;\n",
              "    }\n",
              "</style>\n",
              "<table border=\"1\" class=\"dataframe\">\n",
              "  <thead>\n",
              "    <tr style=\"text-align: right;\">\n",
              "      <th></th>\n",
              "      <th>sepal length (cm)</th>\n",
              "      <th>sepal width (cm)</th>\n",
              "      <th>petal length (cm)</th>\n",
              "      <th>petal width (cm)</th>\n",
              "      <th>target</th>\n",
              "    </tr>\n",
              "  </thead>\n",
              "  <tbody>\n",
              "    <tr>\n",
              "      <th>0</th>\n",
              "      <td>5.1</td>\n",
              "      <td>3.5</td>\n",
              "      <td>1.4</td>\n",
              "      <td>0.2</td>\n",
              "      <td>0</td>\n",
              "    </tr>\n",
              "    <tr>\n",
              "      <th>1</th>\n",
              "      <td>4.9</td>\n",
              "      <td>3.0</td>\n",
              "      <td>1.4</td>\n",
              "      <td>0.2</td>\n",
              "      <td>0</td>\n",
              "    </tr>\n",
              "    <tr>\n",
              "      <th>2</th>\n",
              "      <td>4.7</td>\n",
              "      <td>3.2</td>\n",
              "      <td>1.3</td>\n",
              "      <td>0.2</td>\n",
              "      <td>0</td>\n",
              "    </tr>\n",
              "    <tr>\n",
              "      <th>3</th>\n",
              "      <td>4.6</td>\n",
              "      <td>3.1</td>\n",
              "      <td>1.5</td>\n",
              "      <td>0.2</td>\n",
              "      <td>0</td>\n",
              "    </tr>\n",
              "    <tr>\n",
              "      <th>4</th>\n",
              "      <td>5.0</td>\n",
              "      <td>3.6</td>\n",
              "      <td>1.4</td>\n",
              "      <td>0.2</td>\n",
              "      <td>0</td>\n",
              "    </tr>\n",
              "  </tbody>\n",
              "</table>\n",
              "</div>"
            ],
            "text/plain": [
              "   sepal length (cm)  sepal width (cm)  ...  petal width (cm)  target\n",
              "0                5.1               3.5  ...               0.2       0\n",
              "1                4.9               3.0  ...               0.2       0\n",
              "2                4.7               3.2  ...               0.2       0\n",
              "3                4.6               3.1  ...               0.2       0\n",
              "4                5.0               3.6  ...               0.2       0\n",
              "\n",
              "[5 rows x 5 columns]"
            ]
          },
          "metadata": {
            "tags": []
          },
          "execution_count": 25
        }
      ]
    },
    {
      "cell_type": "code",
      "metadata": {
        "colab": {
          "base_uri": "https://localhost:8080/"
        },
        "id": "KBGxN8_U1Hrd",
        "outputId": "af68dcbd-e2b6-44ba-8201-ee5fdf2d6d97"
      },
      "source": [
        "lda = LinearDiscriminantAnalysis(n_components=2) # 클래스가 3개여서 2개까지...???\n",
        "lda_data = lda.fit_transform(data_scaled, df['target'])\n",
        "lda_data.shape"
      ],
      "execution_count": null,
      "outputs": [
        {
          "output_type": "execute_result",
          "data": {
            "text/plain": [
              "(150, 2)"
            ]
          },
          "metadata": {
            "tags": []
          },
          "execution_count": 28
        }
      ]
    },
    {
      "cell_type": "code",
      "metadata": {
        "colab": {
          "base_uri": "https://localhost:8080/",
          "height": 269
        },
        "id": "z6HmAOxl1Z09",
        "outputId": "7f2c2d9a-0032-40a8-d6b8-334afa0cacdd"
      },
      "source": [
        "plt.scatter(lda_data[:, 0], lda_data[:, 1], c=df['target'])\n",
        "plt.show()"
      ],
      "execution_count": null,
      "outputs": [
        {
          "output_type": "display_data",
          "data": {
            "image/png": "[encoded data removed]",
            "text/plain": [
              "<Figure size 432x288 with 1 Axes>"
            ]
          },
          "metadata": {
            "tags": [],
            "needs_background": "light"
          }
        }
      ]
    },
    {
      "cell_type": "code",
      "metadata": {
        "colab": {
          "base_uri": "https://localhost:8080/",
          "height": 265
        },
        "id": "R134T_N319t0",
        "outputId": "5796b925-fd53-4531-a684-ed658148455a"
      },
      "source": [
        "plt.scatter(pa_data[:, 0], pa_data[:, 1], c=df['target'])\n",
        "plt.show()"
      ],
      "execution_count": null,
      "outputs": [
        {
          "output_type": "display_data",
          "data": {
            "image/png": "[encoded data removed]",
            "text/plain": [
              "<Figure size 432x288 with 1 Axes>"
            ]
          },
          "metadata": {
            "tags": [],
            "needs_background": "light"
          }
        }
      ]
    },
    {
      "cell_type": "markdown",
      "metadata": {
        "id": "d7Wdb1hy2CzN"
      },
      "source": [
        "# 군집 (Clustering)"
      ]
    },
    {
      "cell_type": "markdown",
      "metadata": {
        "id": "_oT5ZPde2WwM"
      },
      "source": [
        "## KMeans Clustering\n",
        "* 최근접 이웃 군집\n",
        "* 군집화에서  가장  대중적으로 사용되는 알고리즘\n",
        "* centroid라는 ** 중심점**을 기준으로 가장 가까운 데이터 포인트들을 선택해서 군집화 하는 기법\n",
        "----\n",
        "* 스팸 문자 분류\n",
        "* 뉴스 기사 분류"
      ]
    },
    {
      "cell_type": "code",
      "metadata": {
        "id": "xq6kcNA23KQ9"
      },
      "source": [
        "from sklearn.cluster import KMeans\n",
        "KMeans = KMeans(n_clusters=3) # 사용할 클러스터의 개수가 필요하다"
      ],
      "execution_count": null,
      "outputs": []
    },
    {
      "cell_type": "code",
      "metadata": {
        "colab": {
          "base_uri": "https://localhost:8080/"
        },
        "id": "EJ-KlECQ3p3I",
        "outputId": "d0d460c0-4b02-4cc3-f207-f11579b2b862"
      },
      "source": [
        "cluster_data = KMeans.fit_transform(iris['data'])\n",
        "cluster_data.shape # 150개의 데이터가 3개의 군집에 들어갔다."
      ],
      "execution_count": null,
      "outputs": [
        {
          "output_type": "execute_result",
          "data": {
            "text/plain": [
              "(150, 3)"
            ]
          },
          "metadata": {
            "tags": []
          },
          "execution_count": 36
        }
      ]
    },
    {
      "cell_type": "code",
      "metadata": {
        "colab": {
          "base_uri": "https://localhost:8080/"
        },
        "id": "Mk3BxL_K33A9",
        "outputId": "87ef1027-06f8-41cb-8e1c-ce29039f882e"
      },
      "source": [
        "KMeans.labels_"
      ],
      "execution_count": null,
      "outputs": [
        {
          "output_type": "execute_result",
          "data": {
            "text/plain": [
              "array([1, 1, 1, 1, 1, 1, 1, 1, 1, 1, 1, 1, 1, 1, 1, 1, 1, 1, 1, 1, 1, 1,\n",
              "       1, 1, 1, 1, 1, 1, 1, 1, 1, 1, 1, 1, 1, 1, 1, 1, 1, 1, 1, 1, 1, 1,\n",
              "       1, 1, 1, 1, 1, 1, 0, 0, 2, 0, 0, 0, 0, 0, 0, 0, 0, 0, 0, 0, 0, 0,\n",
              "       0, 0, 0, 0, 0, 0, 0, 0, 0, 0, 0, 2, 0, 0, 0, 0, 0, 0, 0, 0, 0, 0,\n",
              "       0, 0, 0, 0, 0, 0, 0, 0, 0, 0, 0, 0, 2, 0, 2, 2, 2, 2, 0, 2, 2, 2,\n",
              "       2, 2, 2, 0, 0, 2, 2, 2, 2, 0, 2, 0, 2, 0, 2, 2, 0, 0, 2, 2, 2, 2,\n",
              "       2, 0, 2, 2, 2, 2, 0, 2, 2, 2, 0, 2, 2, 2, 0, 2, 2, 0], dtype=int32)"
            ]
          },
          "metadata": {
            "tags": []
          },
          "execution_count": 37
        }
      ]
    },
    {
      "cell_type": "code",
      "metadata": {
        "colab": {
          "base_uri": "https://localhost:8080/",
          "height": 358
        },
        "id": "qwifNZY84X5M",
        "outputId": "258193df-b98d-4b7a-a579-d86f9dbbf404"
      },
      "source": [
        "plt.subplot(121)\n",
        "sns.countplot(KMeans.labels_)\n",
        "\n",
        "plt.subplot(122)\n",
        "sns.countplot(iris['target'])\n",
        "\n",
        "plt.show()"
      ],
      "execution_count": null,
      "outputs": [
        {
          "output_type": "stream",
          "text": [
            "/usr/local/lib/python3.7/dist-packages/seaborn/_decorators.py:43: FutureWarning: Pass the following variable as a keyword arg: x. From version 0.12, the only valid positional argument will be `data`, and passing other arguments without an explicit keyword will result in an error or misinterpretation.\n",
            "  FutureWarning\n",
            "/usr/local/lib/python3.7/dist-packages/seaborn/_decorators.py:43: FutureWarning: Pass the following variable as a keyword arg: x. From version 0.12, the only valid positional argument will be `data`, and passing other arguments without an explicit keyword will result in an error or misinterpretation.\n",
            "  FutureWarning\n"
          ],
          "name": "stderr"
        },
        {
          "output_type": "display_data",
          "data": {
            "image/png": "[encoded data removed]",
            "text/plain": [
              "<Figure size 432x288 with 2 Axes>"
            ]
          },
          "metadata": {
            "tags": [],
            "needs_background": "light"
          }
        }
      ]
    },
    {
      "cell_type": "markdown",
      "metadata": {
        "id": "nYyrCJJI41F0"
      },
      "source": [
        "## DBSCAN ()"
      ]
    },
    {
      "cell_type": "markdown",
      "metadata": {
        "id": "i8kS_5bC5wDk"
      },
      "source": [
        "밀도 기반 크러스터링\n",
        "* 밀도가 높은 부분을 클러스터링 하는 방식 \n",
        "* 어느점 ( 찍혀있는 데이터 포인터 중 하나 )을 기준으로 반경 x 내에 점이 n개 이상 있으면 하나의 군집으로 인식하는 방식\n",
        "* KMeans 에서는 n_cluster의 개수를 반드시 지정해서 클러스트의 개수를 미리 지정\n",
        "* DBSCAN은 클러스터의 개수를 미리 지정할 필요 없다.\n",
        "* 기하학적인 클러스터도 잘 찾아낸다.\n",
        " ----\n",
        " * epsilon : 거리\n",
        " * min_samples : epsilon거리 안 쪽에 있어야 하는 최소 샘플의 개수"
      ]
    },
    {
      "cell_type": "code",
      "metadata": {
        "id": "rfa-nI9r7xh8"
      },
      "source": [
        "from sklearn.cluster import DBSCAN\n",
        "dbscan = DBSCAN(eps=0.3, min_samples=2)"
      ],
      "execution_count": null,
      "outputs": []
    },
    {
      "cell_type": "code",
      "metadata": {
        "colab": {
          "base_uri": "https://localhost:8080/"
        },
        "id": "RZoFI1b38A_z",
        "outputId": "618b3497-0c3b-49ae-a4fc-0d133bf526e9"
      },
      "source": [
        "dbscan_data = dbscan.fit_predict(iris['data'])\n",
        "dbscan_data\n",
        "# 0을 포함한 양수는 군집 label\n",
        "# 음수는 군집 label에 못들어간 데이터 포인트  \n",
        "# eps가 클수록 군집을 크게 잡곡 분리한다.\n",
        "# > 군집에 포함시키는 거리가 길어진다? 아웃라이어가 줄어든다"
      ],
      "execution_count": null,
      "outputs": [
        {
          "output_type": "execute_result",
          "data": {
            "text/plain": [
              "array([ 0,  0,  0,  0,  0, -1,  0,  0,  0,  0,  0,  0,  0,  0, -1, -1, -1,\n",
              "        0, -1,  0,  1,  0, -1,  0,  0,  0,  0,  0,  0,  0,  0,  1, -1, -1,\n",
              "        0,  0,  0,  0,  0,  0,  0, -1,  0,  0, -1,  0,  0,  0,  0,  0,  2,\n",
              "        3,  2,  4,  5, -1,  3,  6,  5, -1, -1, -1, -1,  7, -1,  5,  8,  4,\n",
              "        9,  4, 10, -1, -1,  7,  5,  5, -1, -1,  7, -1,  4,  4,  4, -1,  8,\n",
              "       -1,  2,  9,  4,  4,  4,  7,  4,  6,  4,  4,  4,  5, -1,  4, -1, 11,\n",
              "       -1, 12, -1, 13, -1, 14, -1, -1, 15, -1, 16, 11, -1, -1, 12, -1, -1,\n",
              "       -1, 17, -1, 13, 10, 17, -1, 10, 10, 18, -1, 14, -1, 18, -1, -1, -1,\n",
              "       19, 12, 10, 16, 17, 20, 11, 17, 17, 20, 10, 15, 19, 10])"
            ]
          },
          "metadata": {
            "tags": []
          },
          "execution_count": 46
        }
      ]
    },
    {
      "cell_type": "markdown",
      "metadata": {
        "id": "1EoUh_kG8RDr"
      },
      "source": [
        "# 실루엣 스코어 (군집화 평가)"
      ]
    },
    {
      "cell_type": "markdown",
      "metadata": {
        "id": "k5R8Lmti9S79"
      },
      "source": [
        "\n",
        "크러스터링의 품질을 정량적으로 평가해주는 지표\n",
        "* 1 : 클러스터링의 품질이 좋다\n",
        "* 0 : 클러스터링의 품질이 안좋다 (클러스러링의 의미가 없다)\n",
        "* 음수 : 에초에 잘못 분류됨"
      ]
    },
    {
      "cell_type": "code",
      "metadata": {
        "id": "3gvuE7TT96yz"
      },
      "source": [
        "from sklearn.metrics import silhouette_score, silhouette_samples"
      ],
      "execution_count": null,
      "outputs": []
    },
    {
      "cell_type": "code",
      "metadata": {
        "colab": {
          "base_uri": "https://localhost:8080/"
        },
        "id": "0RcrQli0-AGz",
        "outputId": "b24040b4-db2c-4f92-e8c5-1a60637a2f35"
      },
      "source": [
        "# 정답을 알고있지만 비지도학습을 할 때???\n",
        "score = silhouette_score(data_scaled, KMeans.labels_) # (원본데이터, 군집한거??)\n",
        "score\n",
        "# 클러스트의 개수가 적어지면 품질이 좋아질 것 같다.\n"
      ],
      "execution_count": null,
      "outputs": [
        {
          "output_type": "execute_result",
          "data": {
            "text/plain": [
              "0.44366157397640527"
            ]
          },
          "metadata": {
            "tags": []
          },
          "execution_count": 53
        }
      ]
    },
    {
      "cell_type": "markdown",
      "metadata": {
        "id": "pXhNOSzS_NMX"
      },
      "source": [
        "샘플마다의 점수"
      ]
    },
    {
      "cell_type": "code",
      "metadata": {
        "colab": {
          "base_uri": "https://localhost:8080/"
        },
        "id": "HrQKE5od-R0L",
        "outputId": "35b2008e-eb0d-49f3-9a58-a39ee4e6ed84"
      },
      "source": [
        "samples = silhouette_samples(data_scaled, KMeans.labels_)\n",
        "samples[:5]"
      ],
      "execution_count": null,
      "outputs": [
        {
          "output_type": "execute_result",
          "data": {
            "text/plain": [
              "array([0.73318987, 0.57783809, 0.68201014, 0.62802187, 0.72693222])"
            ]
          },
          "metadata": {
            "tags": []
          },
          "execution_count": 55
        }
      ]
    },
    {
      "cell_type": "code",
      "metadata": {
        "colab": {
          "base_uri": "https://localhost:8080/"
        },
        "id": "dhfTPnVY_FET",
        "outputId": "23089939-2cbe-42ee-f9cd-75d831cfcf70"
      },
      "source": [
        "samples.mean()"
      ],
      "execution_count": null,
      "outputs": [
        {
          "output_type": "execute_result",
          "data": {
            "text/plain": [
              "0.44366157397640527"
            ]
          },
          "metadata": {
            "tags": []
          },
          "execution_count": 56
        }
      ]
    },
    {
      "cell_type": "code",
      "metadata": {
        "id": "0pAQ1tzx_JWT"
      },
      "source": [
        ""
      ],
      "execution_count": null,
      "outputs": []
    }
  ]
}