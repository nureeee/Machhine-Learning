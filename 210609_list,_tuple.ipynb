{
  "nbformat": 4,
  "nbformat_minor": 0,
  "metadata": {
    "colab": {
      "name": "210609_list, tuple.ipynb",
      "provenance": [],
      "authorship_tag": "ABX9TyOPw/iIOY4suiK7muEvvdO6",
      "include_colab_link": true
    },
    "kernelspec": {
      "name": "python3",
      "display_name": "Python 3"
    },
    "language_info": {
      "name": "python"
    }
  },
  "cells": [
    {
      "cell_type": "markdown",
      "metadata": {
        "id": "view-in-github",
        "colab_type": "text"
      },
      "source": [
        "<a href=\"https://colab.research.google.com/github/nureeee/Machhine-Learning/blob/main/210609_list%2C_tuple.ipynb\" target=\"_parent\"><img src=\"https://colab.research.google.com/assets/colab-badge.svg\" alt=\"Open In Colab\"/></a>"
      ]
    },
    {
      "cell_type": "markdown",
      "metadata": {
        "id": "XZew2lC_Jd52"
      },
      "source": [
        "어제 클래스 다하고...."
      ]
    },
    {
      "cell_type": "code",
      "metadata": {
        "id": "XZAllu0pJShE",
        "colab": {
          "base_uri": "https://localhost:8080/"
        },
        "outputId": "7cae924b-bfe3-41e7-b02c-b30fd6116419"
      },
      "source": [
        "list1 = [2, 7, 2, 5, 4]\n",
        "print(list1)"
      ],
      "execution_count": 2,
      "outputs": [
        {
          "output_type": "stream",
          "text": [
            "[2, 7, 2, 5, 4]\n"
          ],
          "name": "stdout"
        }
      ]
    },
    {
      "cell_type": "code",
      "metadata": {
        "colab": {
          "base_uri": "https://localhost:8080/"
        },
        "id": "oCfxxWjVHB5w",
        "outputId": "3e31351a-4064-4f44-ef43-644d40d6ae05"
      },
      "source": [
        "list1[-1] = '누리' # 마지막 리스트를 바꿔주기\n",
        "print(list1)"
      ],
      "execution_count": 5,
      "outputs": [
        {
          "output_type": "stream",
          "text": [
            "[2, 7, 2, 5, '누리']\n"
          ],
          "name": "stdout"
        }
      ]
    },
    {
      "cell_type": "code",
      "metadata": {
        "colab": {
          "base_uri": "https://localhost:8080/"
        },
        "id": "u3yGz_OGHOqO",
        "outputId": "5ab15342-740f-4a97-9677-bcf084ad714d"
      },
      "source": [
        "list1 = [1, 2, 4.5, '누리ㅃ짱', 5, 8,  '' ] # 서로 다른 타입의 데이터를 모을 수 있음\n",
        "list1"
      ],
      "execution_count": 16,
      "outputs": [
        {
          "output_type": "execute_result",
          "data": {
            "text/plain": [
              "[1, 2, 4.5, '누리ㅃ짱', 5, 8, '']"
            ]
          },
          "metadata": {
            "tags": []
          },
          "execution_count": 16
        }
      ]
    },
    {
      "cell_type": "code",
      "metadata": {
        "id": "lglrrplrHkrQ"
      },
      "source": [
        "tup1 = () # 데이터가 들어있지 않은 튜플 만들기"
      ],
      "execution_count": 9,
      "outputs": []
    },
    {
      "cell_type": "code",
      "metadata": {
        "colab": {
          "base_uri": "https://localhost:8080/"
        },
        "id": "CdIXPdvzIJmh",
        "outputId": "1be60388-f8c4-48ae-b205-859f8ac229b8"
      },
      "source": [
        "tup2 = (1, 2, 3, 4, 5, 2) #튜플에 정수 데리터 넣기\n",
        "print(tup2)"
      ],
      "execution_count": 11,
      "outputs": [
        {
          "output_type": "stream",
          "text": [
            "(1, 2, 3, 4, 5, 2)\n"
          ],
          "name": "stdout"
        }
      ]
    },
    {
      "cell_type": "code",
      "metadata": {
        "colab": {
          "base_uri": "https://localhost:8080/",
          "height": 175
        },
        "id": "GQXxDH5jIXha",
        "outputId": "ff73b882-638e-4187-fcde-0dfe317423b6"
      },
      "source": [
        "tup2[1] = '누링' # 튜플은 변경 불가"
      ],
      "execution_count": 12,
      "outputs": [
        {
          "output_type": "error",
          "ename": "TypeError",
          "evalue": "ignored",
          "traceback": [
            "\u001b[0;31m---------------------------------------------------------------------------\u001b[0m",
            "\u001b[0;31mTypeError\u001b[0m                                 Traceback (most recent call last)",
            "\u001b[0;32m<ipython-input-12-c33bddeae940>\u001b[0m in \u001b[0;36m<module>\u001b[0;34m()\u001b[0m\n\u001b[0;32m----> 1\u001b[0;31m \u001b[0mtup2\u001b[0m\u001b[0;34m[\u001b[0m\u001b[0;36m1\u001b[0m\u001b[0;34m]\u001b[0m \u001b[0;34m=\u001b[0m \u001b[0;34m'누링'\u001b[0m \u001b[0;31m# 튜플은 변경 불가\u001b[0m\u001b[0;34m\u001b[0m\u001b[0;34m\u001b[0m\u001b[0m\n\u001b[0m",
            "\u001b[0;31mTypeError\u001b[0m: 'tuple' object does not support item assignment"
          ]
        }
      ]
    },
    {
      "cell_type": "code",
      "metadata": {
        "colab": {
          "base_uri": "https://localhost:8080/",
          "height": 231
        },
        "id": "B-E1fc8DI4O7",
        "outputId": "629bcfcf-8caf-45fc-b031-84a23df10a07"
      },
      "source": [
        "tup3 =(1, 2, 3, 4, 2) #치명적인 실수 발생... 위에서 list함수를 그냥 리스트로 저장하여 \n",
        "#함수를 불러올 수 없다...ㅠㅠ\n",
        "list_tup = list(tup3)\n",
        "\n",
        "print(list_tup)#되돌리는 법을 모른다..."
      ],
      "execution_count": 17,
      "outputs": [
        {
          "output_type": "error",
          "ename": "TypeError",
          "evalue": "ignored",
          "traceback": [
            "\u001b[0;31m---------------------------------------------------------------------------\u001b[0m",
            "\u001b[0;31mTypeError\u001b[0m                                 Traceback (most recent call last)",
            "\u001b[0;32m<ipython-input-17-faa207ce6645>\u001b[0m in \u001b[0;36m<module>\u001b[0;34m()\u001b[0m\n\u001b[1;32m      1\u001b[0m \u001b[0mtup3\u001b[0m \u001b[0;34m=\u001b[0m\u001b[0;34m(\u001b[0m\u001b[0;36m1\u001b[0m\u001b[0;34m,\u001b[0m \u001b[0;36m2\u001b[0m\u001b[0;34m,\u001b[0m \u001b[0;36m3\u001b[0m\u001b[0;34m,\u001b[0m \u001b[0;36m4\u001b[0m\u001b[0;34m,\u001b[0m \u001b[0;36m2\u001b[0m\u001b[0;34m)\u001b[0m\u001b[0;34m\u001b[0m\u001b[0;34m\u001b[0m\u001b[0m\n\u001b[0;32m----> 2\u001b[0;31m \u001b[0mlist_tup\u001b[0m \u001b[0;34m=\u001b[0m \u001b[0mlist\u001b[0m\u001b[0;34m(\u001b[0m\u001b[0mtup3\u001b[0m\u001b[0;34m)\u001b[0m\u001b[0;34m\u001b[0m\u001b[0;34m\u001b[0m\u001b[0m\n\u001b[0m\u001b[1;32m      3\u001b[0m \u001b[0;34m\u001b[0m\u001b[0m\n\u001b[1;32m      4\u001b[0m \u001b[0mprint\u001b[0m\u001b[0;34m(\u001b[0m\u001b[0mlist_tup\u001b[0m\u001b[0;34m)\u001b[0m\u001b[0;34m\u001b[0m\u001b[0;34m\u001b[0m\u001b[0m\n",
            "\u001b[0;31mTypeError\u001b[0m: 'list' object is not callable"
          ]
        }
      ]
    },
    {
      "cell_type": "code",
      "metadata": {
        "colab": {
          "base_uri": "https://localhost:8080/",
          "height": 194
        },
        "id": "jyk7X_VgJbhW",
        "outputId": "42a566c1-e093-44fd-f9ef-f4b3cdff0f01"
      },
      "source": [
        "text1 = 'sentence'\n",
        "print(list(text1))"
      ],
      "execution_count": 19,
      "outputs": [
        {
          "output_type": "error",
          "ename": "TypeError",
          "evalue": "ignored",
          "traceback": [
            "\u001b[0;31m---------------------------------------------------------------------------\u001b[0m",
            "\u001b[0;31mTypeError\u001b[0m                                 Traceback (most recent call last)",
            "\u001b[0;32m<ipython-input-19-edd1f005814d>\u001b[0m in \u001b[0;36m<module>\u001b[0;34m()\u001b[0m\n\u001b[1;32m      1\u001b[0m \u001b[0mtext1\u001b[0m \u001b[0;34m=\u001b[0m \u001b[0;34m'sentence'\u001b[0m\u001b[0;34m\u001b[0m\u001b[0;34m\u001b[0m\u001b[0m\n\u001b[0;32m----> 2\u001b[0;31m \u001b[0mprint\u001b[0m\u001b[0;34m(\u001b[0m\u001b[0mlist\u001b[0m\u001b[0;34m(\u001b[0m\u001b[0mtext1\u001b[0m\u001b[0;34m)\u001b[0m\u001b[0;34m)\u001b[0m\u001b[0;34m\u001b[0m\u001b[0;34m\u001b[0m\u001b[0m\n\u001b[0m",
            "\u001b[0;31mTypeError\u001b[0m: 'list' object is not callable"
          ]
        }
      ]
    },
    {
      "cell_type": "code",
      "metadata": {
        "colab": {
          "base_uri": "https://localhost:8080/"
        },
        "id": "Aby9GGKTKnwx",
        "outputId": "8bf87e5c-d493-4965-ff86-91989a408785"
      },
      "source": [
        "#인덱싱과 슬라이싱\n",
        "list6 = [1, 3, 2, 6, 4, 5 ,3]\n",
        "\n",
        "print(list6[-2])"
      ],
      "execution_count": 20,
      "outputs": [
        {
          "output_type": "stream",
          "text": [
            "5\n"
          ],
          "name": "stdout"
        }
      ]
    },
    {
      "cell_type": "code",
      "metadata": {
        "colab": {
          "base_uri": "https://localhost:8080/"
        },
        "id": "yhzmPtKuLC9Q",
        "outputId": "6a150bb1-2a18-419c-a7c2-20fa25564407"
      },
      "source": [
        "list6[::2]"
      ],
      "execution_count": 21,
      "outputs": [
        {
          "output_type": "execute_result",
          "data": {
            "text/plain": [
              "[1, 2, 4, 3]"
            ]
          },
          "metadata": {
            "tags": []
          },
          "execution_count": 21
        }
      ]
    },
    {
      "cell_type": "code",
      "metadata": {
        "colab": {
          "base_uri": "https://localhost:8080/"
        },
        "id": "Y9OChycPLPgd",
        "outputId": "fcb6db76-d1af-444c-ca6e-1d31b99b4972"
      },
      "source": [
        "list1 = []\n",
        "print(list1)\n",
        "\n",
        "for i in range(10, 31, 10): # 데이터 추가하기\n",
        "    list1.append(i)\n",
        "    print(list1)\n"
      ],
      "execution_count": 25,
      "outputs": [
        {
          "output_type": "stream",
          "text": [
            "[]\n",
            "[10]\n",
            "[10, 20]\n",
            "[10, 20, 30]\n"
          ],
          "name": "stdout"
        }
      ]
    },
    {
      "cell_type": "code",
      "metadata": {
        "colab": {
          "base_uri": "https://localhost:8080/"
        },
        "id": "M5vd6jTLLxJK",
        "outputId": "33ca3dbc-ea96-4dd7-99c0-882925ecb218"
      },
      "source": [
        "list1.append([40, 50]) # 튜플 안에 리스트 집어 넣기\n",
        "print(list1)\n",
        "\n",
        "print(len(list1))"
      ],
      "execution_count": 27,
      "outputs": [
        {
          "output_type": "stream",
          "text": [
            "[10, 20, 30, [40, 50], [40, 50]]\n",
            "5\n"
          ],
          "name": "stdout"
        }
      ]
    },
    {
      "cell_type": "code",
      "metadata": {
        "colab": {
          "base_uri": "https://localhost:8080/"
        },
        "id": "t0poaW_1MFr8",
        "outputId": "2942c907-7502-42d8-8ba5-6cb23c3d39e2"
      },
      "source": [
        "a = [1, 2, 3, 4]\n",
        "b = [2, 3, 5]\n",
        "\n",
        "a.append(b) # a 안에 b리스트를 넣어준다\n",
        "a"
      ],
      "execution_count": 29,
      "outputs": [
        {
          "output_type": "execute_result",
          "data": {
            "text/plain": [
              "[1, 2, 3, 4, [2, 3, 5]]"
            ]
          },
          "metadata": {
            "tags": []
          },
          "execution_count": 29
        }
      ]
    },
    {
      "cell_type": "code",
      "metadata": {
        "colab": {
          "base_uri": "https://localhost:8080/"
        },
        "id": "xX2YzQtuNKoW",
        "outputId": "3cf1dd43-4e06-4dbe-a31a-132de13f4d8f"
      },
      "source": [
        "a.extend(b)\n",
        "a # a 안에 b의 리스트의 데이터를 넣어준다"
      ],
      "execution_count": 31,
      "outputs": [
        {
          "output_type": "execute_result",
          "data": {
            "text/plain": [
              "[1, 2, 3, 4, [2, 3, 5], 2, 3, 5, 2, 3, 5]"
            ]
          },
          "metadata": {
            "tags": []
          },
          "execution_count": 31
        }
      ]
    },
    {
      "cell_type": "code",
      "metadata": {
        "colab": {
          "base_uri": "https://localhost:8080/"
        },
        "id": "OqE6ESYFNW9J",
        "outputId": "91749016-ddb8-4c0b-e881-a5b4a169ddb0"
      },
      "source": [
        "# 원하는 위치에 추가하기\n",
        "a = [2, 3]\n",
        "a.insert(1, 40) # 인덱스 1번에 40을 끼워 넣겠다\n",
        "\n",
        "a"
      ],
      "execution_count": 32,
      "outputs": [
        {
          "output_type": "execute_result",
          "data": {
            "text/plain": [
              "[2, 40, 3]"
            ]
          },
          "metadata": {
            "tags": []
          },
          "execution_count": 32
        }
      ]
    },
    {
      "cell_type": "code",
      "metadata": {
        "colab": {
          "base_uri": "https://localhost:8080/"
        },
        "id": "Whqu45AMO2SU",
        "outputId": "5a3c84d8-8cdf-4445-c67a-9e7ccc5ec0b7"
      },
      "source": [
        "a = [2,1, 2,2, 'nuri', 5, 'good'] # 값을 사용하여 삭제할 때 사용\n",
        "a.remove('good')\n",
        "print(a)\n",
        "a.remove(2) #제일 앞에 있는 2 삭제\n",
        "print(a)"
      ],
      "execution_count": 37,
      "outputs": [
        {
          "output_type": "stream",
          "text": [
            "[2, 1, 2, 2, 'nuri', 5]\n",
            "[1, 2, 2, 'nuri', 5]\n"
          ],
          "name": "stdout"
        }
      ]
    },
    {
      "cell_type": "code",
      "metadata": {
        "colab": {
          "base_uri": "https://localhost:8080/"
        },
        "id": "LtpJshaOPVxG",
        "outputId": "fce23a09-7035-475b-b766-9aee00fabe6f"
      },
      "source": [
        "b = [1,2, 3, 4, 5, 6, 7]\n",
        "del b[2:5] # 슬라이싱으로 원하는 부분 삭제\n",
        "print(b)"
      ],
      "execution_count": 38,
      "outputs": [
        {
          "output_type": "stream",
          "text": [
            "[1, 2, 6, 7]\n"
          ],
          "name": "stdout"
        }
      ]
    },
    {
      "cell_type": "code",
      "metadata": {
        "colab": {
          "base_uri": "https://localhost:8080/"
        },
        "id": "DDxcQrGKQGMW",
        "outputId": "b989b490-eb08-4d18-b78a-34a18b50acb0"
      },
      "source": [
        "b = [1, 2, 3, 4, 5, 6, 7, 8, 9, 10]\n",
        "del b[::2] # 2간격 주면서 삭제\n",
        "print(b)"
      ],
      "execution_count": 40,
      "outputs": [
        {
          "output_type": "stream",
          "text": [
            "[2, 4, 6, 8, 10]\n"
          ],
          "name": "stdout"
        }
      ]
    },
    {
      "cell_type": "code",
      "metadata": {
        "colab": {
          "base_uri": "https://localhost:8080/"
        },
        "id": "WOSUQbQ0QSdB",
        "outputId": "a458bb4f-a058-4b72-e136-a1e940b60d0b"
      },
      "source": [
        "#pop 을 활용해서 지워보자규!~~\n",
        "a = [1, 2, 3, 4, 5, 2]\n",
        "d = a.pop(2) # 2번 인덱스를  뽑아준 후 삭제\n",
        "\n",
        "print(d) # 뽑아주고\n",
        "print(a) # 삭제"
      ],
      "execution_count": 41,
      "outputs": [
        {
          "output_type": "stream",
          "text": [
            "3\n",
            "[1, 2, 4, 5, 2]\n"
          ],
          "name": "stdout"
        }
      ]
    },
    {
      "cell_type": "code",
      "metadata": {
        "colab": {
          "base_uri": "https://localhost:8080/"
        },
        "id": "Eqc1n04dQ2vj",
        "outputId": "0e1ebcc4-7a88-4b31-a5ba-a4deb094690a"
      },
      "source": [
        "a = [1, 4, 2, 6, 19, 20]\n",
        "a.index(1) # a안의 원소 1의 인덱스 값을 알려줌"
      ],
      "execution_count": 45,
      "outputs": [
        {
          "output_type": "execute_result",
          "data": {
            "text/plain": [
              "0"
            ]
          },
          "metadata": {
            "tags": []
          },
          "execution_count": 45
        }
      ]
    },
    {
      "cell_type": "code",
      "metadata": {
        "colab": {
          "base_uri": "https://localhost:8080/"
        },
        "id": "bkFOhV6TRQsg",
        "outputId": "3fb77291-bf76-4cd6-da92-6295bdadccd1"
      },
      "source": [
        "a.index(19)"
      ],
      "execution_count": 46,
      "outputs": [
        {
          "output_type": "execute_result",
          "data": {
            "text/plain": [
              "4"
            ]
          },
          "metadata": {
            "tags": []
          },
          "execution_count": 46
        }
      ]
    },
    {
      "cell_type": "code",
      "metadata": {
        "colab": {
          "base_uri": "https://localhost:8080/"
        },
        "id": "2m98JdmrRcIZ",
        "outputId": "6cb0cc80-3826-4255-b9bf-f3e8f3f893ab"
      },
      "source": [
        "a = [1, 2, 3, 4, 5, 6]\n",
        "\n",
        "print(3 in a) # 3이 a에 들어있닝? ㅇㅇ\n",
        "print('nadal' in a) # nadal이 a에 들어있님ㅇ?? ㄴㄴ"
      ],
      "execution_count": 48,
      "outputs": [
        {
          "output_type": "stream",
          "text": [
            "True\n",
            "False\n"
          ],
          "name": "stdout"
        }
      ]
    },
    {
      "cell_type": "code",
      "metadata": {
        "colab": {
          "base_uri": "https://localhost:8080/"
        },
        "id": "PT84A66LR4lt",
        "outputId": "efcf3602-5ed2-4c6b-8d83-e47e8a9b4ca1"
      },
      "source": [
        "a = [1, 2, 3]\n",
        "b = a\n",
        "print(a, b)"
      ],
      "execution_count": 51,
      "outputs": [
        {
          "output_type": "stream",
          "text": [
            "[1, 2, 3] [1, 2, 3]\n"
          ],
          "name": "stdout"
        }
      ]
    },
    {
      "cell_type": "code",
      "metadata": {
        "colab": {
          "base_uri": "https://localhost:8080/"
        },
        "id": "RSKFfSzCSpTd",
        "outputId": "684d8dd4-cc1b-471b-9983-a78db1dc4f43"
      },
      "source": [
        "b[-1] = 30\n",
        "print(b)"
      ],
      "execution_count": 52,
      "outputs": [
        {
          "output_type": "stream",
          "text": [
            "[1, 2, 30]\n"
          ],
          "name": "stdout"
        }
      ]
    },
    {
      "cell_type": "code",
      "metadata": {
        "colab": {
          "base_uri": "https://localhost:8080/"
        },
        "id": "4auPGwKGSvYn",
        "outputId": "5aa6f340-233f-4e7b-87a9-0f1f900e2414"
      },
      "source": [
        "print(a)"
      ],
      "execution_count": 53,
      "outputs": [
        {
          "output_type": "stream",
          "text": [
            "[1, 2, 30]\n"
          ],
          "name": "stdout"
        }
      ]
    },
    {
      "cell_type": "code",
      "metadata": {
        "colab": {
          "base_uri": "https://localhost:8080/"
        },
        "id": "dU3lWyDSS7sa",
        "outputId": "c25a51b8-01ec-482c-c02f-bfcdba496fac"
      },
      "source": [
        "a = [1, 2]\n",
        "b = a.copy() # a를 복사해서 b에 저장한다\n",
        "b[-1] = 30\n",
        "print(a, b)"
      ],
      "execution_count": 54,
      "outputs": [
        {
          "output_type": "stream",
          "text": [
            "[1, 2] [1, 30]\n"
          ],
          "name": "stdout"
        }
      ]
    },
    {
      "cell_type": "markdown",
      "metadata": {
        "id": "reijhyYCTbpX"
      },
      "source": [
        "---"
      ]
    },
    {
      "cell_type": "code",
      "metadata": {
        "id": "caa-3QoiTFzW"
      },
      "source": [
        ""
      ],
      "execution_count": null,
      "outputs": []
    }
  ]
}