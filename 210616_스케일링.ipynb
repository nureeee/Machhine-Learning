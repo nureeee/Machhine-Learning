{
  "nbformat": 4,
  "nbformat_minor": 0,
  "metadata": {
    "colab": {
      "name": "210616_스케일링.ipynb",
      "provenance": [],
      "authorship_tag": "ABX9TyNQ3RmnVWZ+ZZSpYGqIHaHp",
      "include_colab_link": true
    },
    "kernelspec": {
      "name": "python3",
      "display_name": "Python 3"
    },
    "language_info": {
      "name": "python"
    }
  },
  "cells": [
    {
      "cell_type": "markdown",
      "metadata": {
        "id": "view-in-github",
        "colab_type": "text"
      },
      "source": [
        "<a href=\"https://colab.research.google.com/github/nureeee/Machhine-Learning/blob/main/210616_%EC%8A%A4%EC%BC%80%EC%9D%BC%EB%A7%81.ipynb\" target=\"_parent\"><img src=\"https://colab.research.google.com/assets/colab-badge.svg\" alt=\"Open In Colab\"/></a>"
      ]
    },
    {
      "cell_type": "markdown",
      "metadata": {
        "id": "v_-E7CjlfwJH"
      },
      "source": [
        "# 유방암 데이터세트 - SVM으로 스케일링 효과 확인"
      ]
    },
    {
      "cell_type": "markdown",
      "metadata": {
        "id": "vyyDIL-If5pz"
      },
      "source": [
        "## Scaler 사용해 보기"
      ]
    },
    {
      "cell_type": "code",
      "metadata": {
        "colab": {
          "base_uri": "https://localhost:8080/"
        },
        "id": "71xZ_2xMf9-m",
        "outputId": "32cd1d3f-cdc0-4bfd-b073-4c84f806d4ff"
      },
      "source": [
        "from sklearn.datasets import load_breast_cancer\n",
        "from sklearn.model_selection import train_test_split\n",
        "\n",
        "cancer = load_breast_cancer()\n",
        "\n",
        "x_train, x_test, y_train, y_test = train_test_split(\n",
        "    cancer['data'],\n",
        "    cancer['target'],\n",
        "    random_state=1\n",
        ")\n",
        "\n",
        "x_train.shape, x_test.shape"
      ],
      "execution_count": 2,
      "outputs": [
        {
          "output_type": "execute_result",
          "data": {
            "text/plain": [
              "((426, 30), (143, 30))"
            ]
          },
          "metadata": {
            "tags": []
          },
          "execution_count": 2
        }
      ]
    },
    {
      "cell_type": "markdown",
      "metadata": {
        "id": "jYM-VP9ighmD"
      },
      "source": [
        "# 스케일러 사용하고 원본과 비교"
      ]
    },
    {
      "cell_type": "code",
      "metadata": {
        "id": "ZrI0RSNagnyK"
      },
      "source": [
        "from sklearn.preprocessing import MinMaxScaler\n",
        "minmax_scaler = MinMaxScaler()\n",
        "\n"
      ],
      "execution_count": 3,
      "outputs": []
    },
    {
      "cell_type": "code",
      "metadata": {
        "colab": {
          "base_uri": "https://localhost:8080/"
        },
        "id": "jHiS6Db0g1zi",
        "outputId": "4b2fbb7f-b7fc-4f6b-ba1a-22e6403ff9f4"
      },
      "source": [
        "# 각 특성마다의 최대최소 계산 \n",
        "minmax_scaler.fit(x_train) # 변환이 일어나지 않음\n"
      ],
      "execution_count": 4,
      "outputs": [
        {
          "output_type": "execute_result",
          "data": {
            "text/plain": [
              "MinMaxScaler(copy=True, feature_range=(0, 1))"
            ]
          },
          "metadata": {
            "tags": []
          },
          "execution_count": 4
        }
      ]
    },
    {
      "cell_type": "code",
      "metadata": {
        "id": "E9rhKxcig_ry"
      },
      "source": [
        "# 실제 변환은 transform에서 해준당!!\n",
        "\n",
        "x_train_scaled = minmax_scaler.transform(x_train)"
      ],
      "execution_count": 5,
      "outputs": []
    },
    {
      "cell_type": "markdown",
      "metadata": {
        "id": "ojfZ5ehVhN1S"
      },
      "source": [
        "**원본 데이터와 비교하기**"
      ]
    },
    {
      "cell_type": "code",
      "metadata": {
        "colab": {
          "base_uri": "https://localhost:8080/"
        },
        "id": "FMNzdaaohSeK",
        "outputId": "42eade4d-0cac-4bca-c207-df4ded237980"
      },
      "source": [
        "print('스케일 조정 전 특성별 최소값 : \\n{}'.format(x_train.min(axis=0)))\n",
        "print('스케일 조정 전 특성별 최대값 : \\n{}'.format(x_train.max(axis=0)))\n",
        "\n",
        "print('스케일 조정 후 특성별 최소값 : \\n{}'.format(x_train_scaled.min(axis=0)))\n",
        "print('스케일 조정 후 특성별 최소값 : \\n{}'.format(x_train_scaled.max(axis=0)))"
      ],
      "execution_count": 8,
      "outputs": [
        {
          "output_type": "stream",
          "text": [
            "스케일 조정 전 특성별 최소값 : \n",
            "[6.981e+00 9.710e+00 4.379e+01 1.435e+02 5.263e-02 1.938e-02 0.000e+00\n",
            " 0.000e+00 1.060e-01 5.024e-02 1.153e-01 3.602e-01 7.570e-01 6.802e+00\n",
            " 1.713e-03 2.252e-03 0.000e+00 0.000e+00 9.539e-03 8.948e-04 7.930e+00\n",
            " 1.202e+01 5.041e+01 1.852e+02 7.117e-02 2.729e-02 0.000e+00 0.000e+00\n",
            " 1.566e-01 5.521e-02]\n",
            "스케일 조정 전 특성별 최대값 : \n",
            "[2.811e+01 3.928e+01 1.885e+02 2.501e+03 1.634e-01 2.867e-01 4.268e-01\n",
            " 2.012e-01 3.040e-01 9.575e-02 2.873e+00 4.885e+00 2.198e+01 5.422e+02\n",
            " 3.113e-02 1.354e-01 3.960e-01 5.279e-02 6.146e-02 2.984e-02 3.604e+01\n",
            " 4.954e+01 2.512e+02 4.254e+03 2.226e-01 9.379e-01 1.170e+00 2.910e-01\n",
            " 5.774e-01 1.486e-01]\n",
            "스케일 조정 후 특성별 최소값 : \n",
            "[0. 0. 0. 0. 0. 0. 0. 0. 0. 0. 0. 0. 0. 0. 0. 0. 0. 0. 0. 0. 0. 0. 0. 0.\n",
            " 0. 0. 0. 0. 0. 0.]\n",
            "스케일 조정 후 특성별 최소값 : \n",
            "[1. 1. 1. 1. 1. 1. 1. 1. 1. 1. 1. 1. 1. 1. 1. 1. 1. 1. 1. 1. 1. 1. 1. 1.\n",
            " 1. 1. 1. 1. 1. 1.]\n"
          ],
          "name": "stdout"
        }
      ]
    },
    {
      "cell_type": "markdown",
      "metadata": {
        "id": "Yf_J-ec6h09y"
      },
      "source": [
        "훈련 데이터를 바꿨으니까 테스트 테이터도 스케일링"
      ]
    },
    {
      "cell_type": "code",
      "metadata": {
        "colab": {
          "base_uri": "https://localhost:8080/"
        },
        "id": "5uk-XiMAiL8D",
        "outputId": "991e26d7-4ab0-4447-dd6e-6b4e15c13eac"
      },
      "source": [
        "x_test_scaled = minmax_scaler.transform(x_test)\n",
        "\n",
        "print('스케일 조정 후 특성별 최소값 : {}'.format(x_test_scaled.min(axis=0)))\n",
        "print('스케일 조정 후 특성별 최대값 : {}'.format(x_test_scaled.max(axis=0)))"
      ],
      "execution_count": 10,
      "outputs": [
        {
          "output_type": "stream",
          "text": [
            "스케일 조정 후 특성별 최소값 : [ 0.0336031   0.0226581   0.03144219  0.01141039  0.14128374  0.04406704\n",
            "  0.          0.          0.1540404  -0.00615249 -0.00137796  0.00594501\n",
            "  0.00430665  0.00079567  0.03919502  0.0112206   0.          0.\n",
            " -0.03191387  0.00664013  0.02660975  0.05810235  0.02031974  0.00943767\n",
            "  0.1094235   0.02637792  0.          0.         -0.00023764 -0.00182032]\n",
            "스케일 조정 후 특성별 최대값 : [0.9578778  0.81501522 0.95577362 0.89353128 0.81132075 1.21958701\n",
            " 0.87956888 0.9333996  0.93232323 1.0371347  0.42669616 0.49765736\n",
            " 0.44117231 0.28371044 0.48703131 0.73863671 0.76717172 0.62928585\n",
            " 1.33685792 0.39057253 0.89612238 0.79317697 0.84859804 0.74488793\n",
            " 0.9154725  1.13188961 1.07008547 0.92371134 1.20532319 1.63068851]\n"
          ],
          "name": "stdout"
        }
      ]
    },
    {
      "cell_type": "markdown",
      "metadata": {
        "id": "dM4FMV0GiUm1"
      },
      "source": [
        "# 항상 스케일러는 train set으로만 만들자 \n",
        "- test data set으로 만들면 원본 데이터의 원본 데이터의 분포가 깨져버린다."
      ]
    },
    {
      "cell_type": "markdown",
      "metadata": {
        "id": "U7J3h0QgoPC1"
      },
      "source": [
        "## 지도학습에서 제이터 전처리 효과"
      ]
    },
    {
      "cell_type": "code",
      "metadata": {
        "colab": {
          "base_uri": "https://localhost:8080/"
        },
        "id": "RAAelqACoUxj",
        "outputId": "097dafaa-c178-4623-a9e3-ff74796bbc64"
      },
      "source": [
        "from sklearn.svm import SVC\n",
        "\n",
        "x_train, x_test, y_train, y_test = train_test_split(\n",
        "    cancer['data'],\n",
        "    cancer['target'],\n",
        "    random_state=0\n",
        ")\n",
        "\n",
        "svm = SVC(C=100)\n",
        "\n",
        "svm.fit(x_train, y_train)\n",
        "print('테스트 세트의 정확도 : {:.2f}'.format(svm.score(x_test, y_test)))"
      ],
      "execution_count": 13,
      "outputs": [
        {
          "output_type": "stream",
          "text": [
            "테스트 세트의 정확도 : 0.94\n"
          ],
          "name": "stdout"
        }
      ]
    },
    {
      "cell_type": "markdown",
      "metadata": {
        "id": "wj3Gy40HpLXR"
      },
      "source": [
        "스케일링 조정하고 확인"
      ]
    },
    {
      "cell_type": "code",
      "metadata": {
        "colab": {
          "base_uri": "https://localhost:8080/"
        },
        "id": "0-nUQes9pZBg",
        "outputId": "09ae8e89-dcc1-46bc-f083-d97b44dc8afe"
      },
      "source": [
        " scaler =MinMaxScaler()\n",
        " x_train_scaled = scaler.fit_transform(x_train)\n",
        " x_test_scaled = scaler.transform(x_test)\n",
        "\n",
        " # 조정된 데이터로 SVM 학습\n",
        " svm.fit(x_train_scaled, y_train)\n",
        "\n",
        " # 스케일 조정된 테스트 세트의 정확도\n",
        " print('스케일 조정된 테스트 세트의 정확도 : {:.2f}'.format(svm.score(x_test_scaled, y_test)))"
      ],
      "execution_count": 16,
      "outputs": [
        {
          "output_type": "stream",
          "text": [
            "스케일 조정된 테스트 세트의 정확도 : 0.97\n"
          ],
          "name": "stdout"
        }
      ]
    },
    {
      "cell_type": "code",
      "metadata": {
        "id": "Y9VxWekZqA2h"
      },
      "source": [
        ""
      ],
      "execution_count": null,
      "outputs": []
    }
  ]
}