{
  "nbformat": 4,
  "nbformat_minor": 0,
  "metadata": {
    "colab": {
      "name": "선형분류.ipynb",
      "provenance": [],
      "authorship_tag": "ABX9TyOg+yp+fP2Q1JmX1O5U00lm",
      "include_colab_link": true
    },
    "kernelspec": {
      "name": "python3",
      "display_name": "Python 3"
    },
    "language_info": {
      "name": "python"
    }
  },
  "cells": [
    {
      "cell_type": "markdown",
      "metadata": {
        "id": "view-in-github",
        "colab_type": "text"
      },
      "source": [
        "<a href=\"https://colab.research.google.com/github/nureeee/Machhine-Learning/blob/main/%EC%84%A0%ED%98%95%EB%B6%84%EB%A5%98.ipynb\" target=\"_parent\"><img src=\"https://colab.research.google.com/assets/colab-badge.svg\" alt=\"Open In Colab\"/></a>"
      ]
    },
    {
      "cell_type": "markdown",
      "metadata": {
        "id": "QT1RmQt4JV7S"
      },
      "source": [
        "# 선형 이진 분류 ( Linear Regression )\n"
      ]
    },
    {
      "cell_type": "markdown",
      "metadata": {
        "id": "Iid6y_reKaJf"
      },
      "source": [
        "선형모델을 학습시키기 위한 알고리즘에 공통적으로 사용되는 기법\n",
        "* 가중치와 편향의 조합이 훈련 데이터에 얼마나 잘 맞는지 측정\n",
        "* 사용할 수 잇는 규제가 있는지 $C$\n",
        "* $c$는 얼마나 오차를 허용하지 말것인가를 나타낸다.\n",
        "* $c$값이 커지면 오차를 허용허지 않겠다. > 과대적합\n",
        "* 회귀에서는 알파를 쓰지만 분류에서는 $C$를 사용\n",
        "* $C$각 커질수록 오차를 없앤다. 데이터 중심으로 보겠다. 선형모델에서는 가중치 $W$가 커진다\n",
        "* $C$가 작아질수록 오차를 허용시키겠다. 데이터의 추세를 보겠다, $W$가 작아진다  \n",
        "\n"
      ]
    },
    {
      "cell_type": "markdown",
      "metadata": {
        "id": "IlxRhIeiMFDj"
      },
      "source": [
        "* 로지스틱회귀  - 이진분류 시그모이드 함수 사용, 다중분류에서는 교차 엔트로피 사용\n",
        "* 서포트 벡터 머신 -제곱힌지 손실 함수 사용\n",
        " * 선형모드 \n",
        " * 비선형모드"
      ]
    }
  ]
}