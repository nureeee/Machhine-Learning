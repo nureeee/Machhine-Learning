{
  "nbformat": 4,
  "nbformat_minor": 0,
  "metadata": {
    "colab": {
      "name": "210609_데이터 스케일링.ipynb",
      "provenance": [],
      "authorship_tag": "ABX9TyNJcakGic9DUR/UBaiB+l6B",
      "include_colab_link": true
    },
    "kernelspec": {
      "name": "python3",
      "display_name": "Python 3"
    },
    "language_info": {
      "name": "python"
    }
  },
  "cells": [
    {
      "cell_type": "markdown",
      "metadata": {
        "id": "view-in-github",
        "colab_type": "text"
      },
      "source": [
        "<a href=\"https://colab.research.google.com/github/nureeee/Machhine-Learning/blob/main/210609_%EB%8D%B0%EC%9D%B4%ED%84%B0_%EC%8A%A4%EC%BC%80%EC%9D%BC%EB%A7%81.ipynb\" target=\"_parent\"><img src=\"https://colab.research.google.com/assets/colab-badge.svg\" alt=\"Open In Colab\"/></a>"
      ]
    },
    {
      "cell_type": "markdown",
      "metadata": {
        "id": "2TRM5aqpnH-u"
      },
      "source": [
        "#스케일링도 데이터의 전처리 해당한다\n"
      ]
    },
    {
      "cell_type": "markdown",
      "metadata": {
        "id": "L_C4DrVspW9C"
      },
      "source": [
        "## 전처리 1. Normalize (정규화)\n",
        "column 간에 다른 **min, max**값을 가지는 경우, 정규화를 통해서 최대/ 최소의 척도를 하나로 맞춰 주는 작업\n",
        "---\n",
        "* 최소를 0으로, 최대를 1로 설정\n",
        "------\n",
        "* 네이버 영화 평점 ( 0 ~ 10 ) : [2, 4, 6, 8, 10]\n",
        "* 넷플릭스 영화 평점 ( 0 ~ 5 ) : [1, 2, 3, 4, 5]"
      ]
    },
    {
      "cell_type": "code",
      "metadata": {
        "colab": {
          "base_uri": "https://localhost:8080/",
          "height": 203
        },
        "id": "m6UEcm4sn5fz",
        "outputId": "89f129a1-93d9-4346-9c70-40b516bd910c"
      },
      "source": [
        "import pandas as pd\n",
        "movie_score = pd.DataFrame({\n",
        "    'naver':[2, 4, 6, 8, 10],\n",
        "    'Netflix':[ 1, 2, 3, 4, 5]\n",
        "})\n",
        "\n",
        "movie_score"
      ],
      "execution_count": 22,
      "outputs": [
        {
          "output_type": "execute_result",
          "data": {
            "text/html": [
              "<div>\n",
              "<style scoped>\n",
              "    .dataframe tbody tr th:only-of-type {\n",
              "        vertical-align: middle;\n",
              "    }\n",
              "\n",
              "    .dataframe tbody tr th {\n",
              "        vertical-align: top;\n",
              "    }\n",
              "\n",
              "    .dataframe thead th {\n",
              "        text-align: right;\n",
              "    }\n",
              "</style>\n",
              "<table border=\"1\" class=\"dataframe\">\n",
              "  <thead>\n",
              "    <tr style=\"text-align: right;\">\n",
              "      <th></th>\n",
              "      <th>naver</th>\n",
              "      <th>Netflix</th>\n",
              "    </tr>\n",
              "  </thead>\n",
              "  <tbody>\n",
              "    <tr>\n",
              "      <th>0</th>\n",
              "      <td>2</td>\n",
              "      <td>1</td>\n",
              "    </tr>\n",
              "    <tr>\n",
              "      <th>1</th>\n",
              "      <td>4</td>\n",
              "      <td>2</td>\n",
              "    </tr>\n",
              "    <tr>\n",
              "      <th>2</th>\n",
              "      <td>6</td>\n",
              "      <td>3</td>\n",
              "    </tr>\n",
              "    <tr>\n",
              "      <th>3</th>\n",
              "      <td>8</td>\n",
              "      <td>4</td>\n",
              "    </tr>\n",
              "    <tr>\n",
              "      <th>4</th>\n",
              "      <td>10</td>\n",
              "      <td>5</td>\n",
              "    </tr>\n",
              "  </tbody>\n",
              "</table>\n",
              "</div>"
            ],
            "text/plain": [
              "   naver  Netflix\n",
              "0      2        1\n",
              "1      4        2\n",
              "2      6        3\n",
              "3      8        4\n",
              "4     10        5"
            ]
          },
          "metadata": {
            "tags": []
          },
          "execution_count": 22
        }
      ]
    },
    {
      "cell_type": "code",
      "metadata": {
        "id": "j7dYKgcBoONg"
      },
      "source": [
        "from sklearn.preprocessing import MinMaxScaler # 네이버와 넷플릭스의 평점의 스케일링을 맞춰줌\n",
        "\n",
        "min_max_scaler = MinMaxScaler()"
      ],
      "execution_count": 23,
      "outputs": []
    },
    {
      "cell_type": "code",
      "metadata": {
        "colab": {
          "base_uri": "https://localhost:8080/",
          "height": 203
        },
        "id": "zaiCNLacopno",
        "outputId": "1c4abbe8-9e3b-455a-9d77-af75560a7a96"
      },
      "source": [
        "movie_score_scaled = min_max_scaler.fit_transform(movie_score)\n",
        "\n",
        "pd.DataFrame(movie_score_scaled, columns=['Naver Scaled', 'Netflix Scaled'])"
      ],
      "execution_count": 24,
      "outputs": [
        {
          "output_type": "execute_result",
          "data": {
            "text/html": [
              "<div>\n",
              "<style scoped>\n",
              "    .dataframe tbody tr th:only-of-type {\n",
              "        vertical-align: middle;\n",
              "    }\n",
              "\n",
              "    .dataframe tbody tr th {\n",
              "        vertical-align: top;\n",
              "    }\n",
              "\n",
              "    .dataframe thead th {\n",
              "        text-align: right;\n",
              "    }\n",
              "</style>\n",
              "<table border=\"1\" class=\"dataframe\">\n",
              "  <thead>\n",
              "    <tr style=\"text-align: right;\">\n",
              "      <th></th>\n",
              "      <th>Naver Scaled</th>\n",
              "      <th>Netflix Scaled</th>\n",
              "    </tr>\n",
              "  </thead>\n",
              "  <tbody>\n",
              "    <tr>\n",
              "      <th>0</th>\n",
              "      <td>0.00</td>\n",
              "      <td>0.00</td>\n",
              "    </tr>\n",
              "    <tr>\n",
              "      <th>1</th>\n",
              "      <td>0.25</td>\n",
              "      <td>0.25</td>\n",
              "    </tr>\n",
              "    <tr>\n",
              "      <th>2</th>\n",
              "      <td>0.50</td>\n",
              "      <td>0.50</td>\n",
              "    </tr>\n",
              "    <tr>\n",
              "      <th>3</th>\n",
              "      <td>0.75</td>\n",
              "      <td>0.75</td>\n",
              "    </tr>\n",
              "    <tr>\n",
              "      <th>4</th>\n",
              "      <td>1.00</td>\n",
              "      <td>1.00</td>\n",
              "    </tr>\n",
              "  </tbody>\n",
              "</table>\n",
              "</div>"
            ],
            "text/plain": [
              "   Naver Scaled  Netflix Scaled\n",
              "0          0.00            0.00\n",
              "1          0.25            0.25\n",
              "2          0.50            0.50\n",
              "3          0.75            0.75\n",
              "4          1.00            1.00"
            ]
          },
          "metadata": {
            "tags": []
          },
          "execution_count": 24
        }
      ]
    },
    {
      "cell_type": "markdown",
      "metadata": {
        "id": "-xCbuDLvsIHb"
      },
      "source": [
        "## 표준화 (Standard Scaling)\n",
        "**평균이 0, 표준편차가 1**이 되도록 변환"
      ]
    },
    {
      "cell_type": "code",
      "metadata": {
        "id": "m687peIqpsCC"
      },
      "source": [
        "from sklearn.preprocessing import StandardScaler\n",
        "\n",
        "std_scaler = StandardScaler()\n"
      ],
      "execution_count": 25,
      "outputs": []
    },
    {
      "cell_type": "markdown",
      "metadata": {
        "id": "XacBM1RytCln"
      },
      "source": [
        "이상치 데이터 보정에 좋다.\n",
        "데이터를 공평하게 분배???"
      ]
    },
    {
      "cell_type": "code",
      "metadata": {
        "id": "Ct-2eglDs_SE"
      },
      "source": [
        "import numpy as np\n",
        "x = np.arange(10)\n",
        "# 이상치 강제 추가\n",
        "x[9] = 1000"
      ],
      "execution_count": 27,
      "outputs": []
    },
    {
      "cell_type": "code",
      "metadata": {
        "colab": {
          "base_uri": "https://localhost:8080/"
        },
        "id": "mTHo_EcrtbhQ",
        "outputId": "23458b01-1664-44d5-c855-55d2e501d100"
      },
      "source": [
        "x.mean(), x.std()"
      ],
      "execution_count": 28,
      "outputs": [
        {
          "output_type": "execute_result",
          "data": {
            "text/plain": [
              "(103.6, 298.8100399919654)"
            ]
          },
          "metadata": {
            "tags": []
          },
          "execution_count": 28
        }
      ]
    },
    {
      "cell_type": "code",
      "metadata": {
        "id": "kFfCGhpLtjY3"
      },
      "source": [
        "std_scaled_x = std_scaler.fit_transform(x.reshape(-1, 1))"
      ],
      "execution_count": 29,
      "outputs": []
    },
    {
      "cell_type": "code",
      "metadata": {
        "colab": {
          "base_uri": "https://localhost:8080/"
        },
        "id": "aTsEQDSAtw6m",
        "outputId": "1adc603c-cec1-4e31-8c98-add6b26a925b"
      },
      "source": [
        "std_scaled_x.mean(), std_scaled_x.std()"
      ],
      "execution_count": 30,
      "outputs": [
        {
          "output_type": "execute_result",
          "data": {
            "text/plain": [
              "(4.4408920985006264e-17, 1.0)"
            ]
          },
          "metadata": {
            "tags": []
          },
          "execution_count": 30
        }
      ]
    },
    {
      "cell_type": "code",
      "metadata": {
        "colab": {
          "base_uri": "https://localhost:8080/"
        },
        "id": "LvMOTW9bt1iu",
        "outputId": "72528cb9-41fb-4fe3-85f7-3f22a0306593"
      },
      "source": [
        "std_scaled_x # 표준편차가 예쁘게 줄어든 것을 볼 수 있다.\n",
        "# 데이터가 고르게 분포 되었다."
      ],
      "execution_count": 31,
      "outputs": [
        {
          "output_type": "execute_result",
          "data": {
            "text/plain": [
              "array([[-0.34670856],\n",
              "       [-0.34336196],\n",
              "       [-0.34001535],\n",
              "       [-0.33666874],\n",
              "       [-0.33332213],\n",
              "       [-0.32997553],\n",
              "       [-0.32662892],\n",
              "       [-0.32328231],\n",
              "       [-0.3199357 ],\n",
              "       [ 2.9998992 ]])"
            ]
          },
          "metadata": {
            "tags": []
          },
          "execution_count": 31
        }
      ]
    },
    {
      "cell_type": "markdown",
      "metadata": {
        "id": "enqsj4eouk2W"
      },
      "source": [
        "멀리 떨어져 있는 데이터도 활용하고 싶을 때??\n",
        "단위를 바꿔서 끌어온다?//???"
      ]
    }
  ]
}