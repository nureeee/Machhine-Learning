{
  "nbformat": 4,
  "nbformat_minor": 0,
  "metadata": {
    "colab": {
      "name": "210607_머신러닝을 위한 데이터 분석ipynb",
      "provenance": [],
      "authorship_tag": "ABX9TyN8u7q6akwrnvcKPwDoVFW8",
      "include_colab_link": true
    },
    "kernelspec": {
      "name": "python3",
      "display_name": "Python 3"
    },
    "language_info": {
      "name": "python"
    }
  },
  "cells": [
    {
      "cell_type": "markdown",
      "metadata": {
        "id": "view-in-github",
        "colab_type": "text"
      },
      "source": [
        "<a href=\"https://colab.research.google.com/github/nureeee/Machhine-Learning/blob/main/210607_%EB%A8%B8%EC%8B%A0%EB%9F%AC%EB%8B%9D%EC%9D%84_%EC%9C%84%ED%95%9C_%EB%8D%B0%EC%9D%B4%ED%84%B0_%EB%B6%84%EC%84%9Dipynb.ipynb\" target=\"_parent\"><img src=\"https://colab.research.google.com/assets/colab-badge.svg\" alt=\"Open In Colab\"/></a>"
      ]
    },
    {
      "cell_type": "markdown",
      "metadata": {
        "id": "JDb0EHb6M-P0"
      },
      "source": [
        "# GIGO(Garbage In Garbage Out)\n",
        "* 머신러닝에서 제일 중요한 요소중 하나는 깨끗한 데이터를 사용 하는 것\n",
        "* 똑같은 데이터세트를 사용하더라도, 데이터의 전처리나, 분석 방법 등에 따라서 성능이 굉장히 많이 차이 난다."
      ]
    },
    {
      "cell_type": "markdown",
      "metadata": {
        "id": "tNEgmvZJPXOA"
      },
      "source": [
        "캐리포니아 주택가격 데이터세트 가져오기"
      ]
    },
    {
      "cell_type": "code",
      "metadata": {
        "id": "3WDMQG5tI-eC"
      },
      "source": [
        "import os\n",
        "import tarfile\n",
        "import urllib.request\n",
        "DOWNLOAD_ROOT = \"https://raw.githubusercontent.com/ageron/handson-ml2/master/\"\n",
        "HOUSING_PATH = os.path.join(\"datasets\", \"housing\") # 디렉토리 설정 - 기본 경로/dataset/housing\n",
        "HOUSING_URL  = DOWNLOAD_ROOT + \"datasets/housing/housing.tgz\" # 다운로드 할 파일의 url\n",
        "def fetch_housing_data(housing_url= HOUSING_URL, housing_path= HOUSING_PATH):\n",
        "  os.makedirs(housing_path, exist_ok= True) # 디렉토리 만들기\n",
        "  tgz_path = os.path.join(housing_path, \"housing.tgz\") # 파일의 경로\n",
        "  urllib.request.urlretrieve(housing_url, tgz_path) # url로 지정한 파일을 다운로드\n",
        "  housing_tgz = tarfile.open(tgz_path) # 다운 받은 파일 열기\n",
        "  housing_tgz.extractall(path= housing_path) # 압축파일(housing.tgz) 압축 풀기\n",
        "  housing_tgz.close() # 파일 닫기\n",
        "fetch_housing_data()"
      ],
      "execution_count": null,
      "outputs": []
    },
    {
      "cell_type": "code",
      "metadata": {
        "id": "CKJsUitTQjHU"
      },
      "source": [
        "# 다운받은 데이터셋(csv) 파일을  판다스 데이터 프레임으로 만들기\n",
        "import pandas as pd\n",
        "\n",
        "def load_housing_data(housing_path=HOUSING_PATH, filename='housing.csv'):\n",
        "    csv_path = os.path.join(housing_path, filename) #(폴더, 파일이름)\n",
        "    return pd.read_csv(csv_path) # 데이터 프레임 리턴"
      ],
      "execution_count": null,
      "outputs": []
    },
    {
      "cell_type": "markdown",
      "metadata": {
        "id": "Y_g-tYs4R5aG"
      },
      "source": [
        "데이터 세트 확인하기"
      ]
    },
    {
      "cell_type": "code",
      "metadata": {
        "colab": {
          "base_uri": "https://localhost:8080/",
          "height": 226
        },
        "id": "yu5Bt3PKR37K",
        "outputId": "3a93f168-887b-4aed-add2-7899aa04c04b"
      },
      "source": [
        "housing = load_housing_data()\n",
        "housing.head()"
      ],
      "execution_count": null,
      "outputs": [
        {
          "output_type": "execute_result",
          "data": {
            "text/html": [
              "<div>\n",
              "<style scoped>\n",
              "    .dataframe tbody tr th:only-of-type {\n",
              "        vertical-align: middle;\n",
              "    }\n",
              "\n",
              "    .dataframe tbody tr th {\n",
              "        vertical-align: top;\n",
              "    }\n",
              "\n",
              "    .dataframe thead th {\n",
              "        text-align: right;\n",
              "    }\n",
              "</style>\n",
              "<table border=\"1\" class=\"dataframe\">\n",
              "  <thead>\n",
              "    <tr style=\"text-align: right;\">\n",
              "      <th></th>\n",
              "      <th>longitude</th>\n",
              "      <th>latitude</th>\n",
              "      <th>housing_median_age</th>\n",
              "      <th>total_rooms</th>\n",
              "      <th>total_bedrooms</th>\n",
              "      <th>population</th>\n",
              "      <th>households</th>\n",
              "      <th>median_income</th>\n",
              "      <th>median_house_value</th>\n",
              "      <th>ocean_proximity</th>\n",
              "    </tr>\n",
              "  </thead>\n",
              "  <tbody>\n",
              "    <tr>\n",
              "      <th>0</th>\n",
              "      <td>-122.23</td>\n",
              "      <td>37.88</td>\n",
              "      <td>41.0</td>\n",
              "      <td>880.0</td>\n",
              "      <td>129.0</td>\n",
              "      <td>322.0</td>\n",
              "      <td>126.0</td>\n",
              "      <td>8.3252</td>\n",
              "      <td>452600.0</td>\n",
              "      <td>NEAR BAY</td>\n",
              "    </tr>\n",
              "    <tr>\n",
              "      <th>1</th>\n",
              "      <td>-122.22</td>\n",
              "      <td>37.86</td>\n",
              "      <td>21.0</td>\n",
              "      <td>7099.0</td>\n",
              "      <td>1106.0</td>\n",
              "      <td>2401.0</td>\n",
              "      <td>1138.0</td>\n",
              "      <td>8.3014</td>\n",
              "      <td>358500.0</td>\n",
              "      <td>NEAR BAY</td>\n",
              "    </tr>\n",
              "    <tr>\n",
              "      <th>2</th>\n",
              "      <td>-122.24</td>\n",
              "      <td>37.85</td>\n",
              "      <td>52.0</td>\n",
              "      <td>1467.0</td>\n",
              "      <td>190.0</td>\n",
              "      <td>496.0</td>\n",
              "      <td>177.0</td>\n",
              "      <td>7.2574</td>\n",
              "      <td>352100.0</td>\n",
              "      <td>NEAR BAY</td>\n",
              "    </tr>\n",
              "    <tr>\n",
              "      <th>3</th>\n",
              "      <td>-122.25</td>\n",
              "      <td>37.85</td>\n",
              "      <td>52.0</td>\n",
              "      <td>1274.0</td>\n",
              "      <td>235.0</td>\n",
              "      <td>558.0</td>\n",
              "      <td>219.0</td>\n",
              "      <td>5.6431</td>\n",
              "      <td>341300.0</td>\n",
              "      <td>NEAR BAY</td>\n",
              "    </tr>\n",
              "    <tr>\n",
              "      <th>4</th>\n",
              "      <td>-122.25</td>\n",
              "      <td>37.85</td>\n",
              "      <td>52.0</td>\n",
              "      <td>1627.0</td>\n",
              "      <td>280.0</td>\n",
              "      <td>565.0</td>\n",
              "      <td>259.0</td>\n",
              "      <td>3.8462</td>\n",
              "      <td>342200.0</td>\n",
              "      <td>NEAR BAY</td>\n",
              "    </tr>\n",
              "  </tbody>\n",
              "</table>\n",
              "</div>"
            ],
            "text/plain": [
              "   longitude  latitude  ...  median_house_value  ocean_proximity\n",
              "0    -122.23     37.88  ...            452600.0         NEAR BAY\n",
              "1    -122.22     37.86  ...            358500.0         NEAR BAY\n",
              "2    -122.24     37.85  ...            352100.0         NEAR BAY\n",
              "3    -122.25     37.85  ...            341300.0         NEAR BAY\n",
              "4    -122.25     37.85  ...            342200.0         NEAR BAY\n",
              "\n",
              "[5 rows x 10 columns]"
            ]
          },
          "metadata": {
            "tags": []
          },
          "execution_count": 17
        }
      ]
    },
    {
      "cell_type": "markdown",
      "metadata": {
        "id": "RPLZ57-NS012"
      },
      "source": [
        "# housing 데이터 알아보기\n",
        "각 컬럼의 의미를 살펴보기\n",
        "\n",
        "* longitude : 경도\n",
        "* latitude : 위도\n",
        "* housing_median_age : 중간 주택 연도\n",
        "* total_rooms : 방의 총 개수\n",
        "* total_bedrooms : 침실의 총 개수\n",
        "* population : 인구\n",
        "* households : 가구\n",
        "* median_income : 중간 소득\n",
        "* median_house_value : 중간 주택 가격\n",
        "* ocean_proximity : 바다와의 거리\n"
      ]
    },
    {
      "cell_type": "markdown",
      "metadata": {
        "id": "N6LAD7U3Tp85"
      },
      "source": [
        "# 데이터 프레임의 기본 정보 확인\n",
        "- **info()**를 활용해서 원하는 데이터의 형식으로 존재하는지 확인할 것"
      ]
    },
    {
      "cell_type": "code",
      "metadata": {
        "colab": {
          "base_uri": "https://localhost:8080/"
        },
        "id": "a6tWPbWmSJ1q",
        "outputId": "0d3416b3-0942-41fe-fc68-ac0732e40016"
      },
      "source": [
        "housing.info() ##bedroom의 NaN값을 처리해야 된다"
      ],
      "execution_count": null,
      "outputs": [
        {
          "output_type": "stream",
          "text": [
            "<class 'pandas.core.frame.DataFrame'>\n",
            "RangeIndex: 20640 entries, 0 to 20639\n",
            "Data columns (total 10 columns):\n",
            " #   Column              Non-Null Count  Dtype  \n",
            "---  ------              --------------  -----  \n",
            " 0   longitude           20640 non-null  float64\n",
            " 1   latitude            20640 non-null  float64\n",
            " 2   housing_median_age  20640 non-null  float64\n",
            " 3   total_rooms         20640 non-null  float64\n",
            " 4   total_bedrooms      20433 non-null  float64\n",
            " 5   population          20640 non-null  float64\n",
            " 6   households          20640 non-null  float64\n",
            " 7   median_income       20640 non-null  float64\n",
            " 8   median_house_value  20640 non-null  float64\n",
            " 9   ocean_proximity     20640 non-null  object \n",
            "dtypes: float64(9), object(1)\n",
            "memory usage: 1.6+ MB\n"
          ],
          "name": "stdout"
        }
      ]
    },
    {
      "cell_type": "markdown",
      "metadata": {
        "id": "REElaCETUURC"
      },
      "source": [
        "# 데이터프레임의 통계적인 특성 확인해 보기\n",
        "- 수치데이터가 대부분이기 때문에 Describe로 통계의 특성도 알아보기"
      ]
    },
    {
      "cell_type": "code",
      "metadata": {
        "colab": {
          "base_uri": "https://localhost:8080/",
          "height": 320
        },
        "id": "PVcY9HPmT8Az",
        "outputId": "9080cc1b-54d8-440c-9400-f7aa2df525a6"
      },
      "source": [
        "housing.describe()"
      ],
      "execution_count": null,
      "outputs": [
        {
          "output_type": "execute_result",
          "data": {
            "text/html": [
              "<div>\n",
              "<style scoped>\n",
              "    .dataframe tbody tr th:only-of-type {\n",
              "        vertical-align: middle;\n",
              "    }\n",
              "\n",
              "    .dataframe tbody tr th {\n",
              "        vertical-align: top;\n",
              "    }\n",
              "\n",
              "    .dataframe thead th {\n",
              "        text-align: right;\n",
              "    }\n",
              "</style>\n",
              "<table border=\"1\" class=\"dataframe\">\n",
              "  <thead>\n",
              "    <tr style=\"text-align: right;\">\n",
              "      <th></th>\n",
              "      <th>longitude</th>\n",
              "      <th>latitude</th>\n",
              "      <th>housing_median_age</th>\n",
              "      <th>total_rooms</th>\n",
              "      <th>total_bedrooms</th>\n",
              "      <th>population</th>\n",
              "      <th>households</th>\n",
              "      <th>median_income</th>\n",
              "      <th>median_house_value</th>\n",
              "    </tr>\n",
              "  </thead>\n",
              "  <tbody>\n",
              "    <tr>\n",
              "      <th>count</th>\n",
              "      <td>20640.000000</td>\n",
              "      <td>20640.000000</td>\n",
              "      <td>20640.000000</td>\n",
              "      <td>20640.000000</td>\n",
              "      <td>20433.000000</td>\n",
              "      <td>20640.000000</td>\n",
              "      <td>20640.000000</td>\n",
              "      <td>20640.000000</td>\n",
              "      <td>20640.000000</td>\n",
              "    </tr>\n",
              "    <tr>\n",
              "      <th>mean</th>\n",
              "      <td>-119.569704</td>\n",
              "      <td>35.631861</td>\n",
              "      <td>28.639486</td>\n",
              "      <td>2635.763081</td>\n",
              "      <td>537.870553</td>\n",
              "      <td>1425.476744</td>\n",
              "      <td>499.539680</td>\n",
              "      <td>3.870671</td>\n",
              "      <td>206855.816909</td>\n",
              "    </tr>\n",
              "    <tr>\n",
              "      <th>std</th>\n",
              "      <td>2.003532</td>\n",
              "      <td>2.135952</td>\n",
              "      <td>12.585558</td>\n",
              "      <td>2181.615252</td>\n",
              "      <td>421.385070</td>\n",
              "      <td>1132.462122</td>\n",
              "      <td>382.329753</td>\n",
              "      <td>1.899822</td>\n",
              "      <td>115395.615874</td>\n",
              "    </tr>\n",
              "    <tr>\n",
              "      <th>min</th>\n",
              "      <td>-124.350000</td>\n",
              "      <td>32.540000</td>\n",
              "      <td>1.000000</td>\n",
              "      <td>2.000000</td>\n",
              "      <td>1.000000</td>\n",
              "      <td>3.000000</td>\n",
              "      <td>1.000000</td>\n",
              "      <td>0.499900</td>\n",
              "      <td>14999.000000</td>\n",
              "    </tr>\n",
              "    <tr>\n",
              "      <th>25%</th>\n",
              "      <td>-121.800000</td>\n",
              "      <td>33.930000</td>\n",
              "      <td>18.000000</td>\n",
              "      <td>1447.750000</td>\n",
              "      <td>296.000000</td>\n",
              "      <td>787.000000</td>\n",
              "      <td>280.000000</td>\n",
              "      <td>2.563400</td>\n",
              "      <td>119600.000000</td>\n",
              "    </tr>\n",
              "    <tr>\n",
              "      <th>50%</th>\n",
              "      <td>-118.490000</td>\n",
              "      <td>34.260000</td>\n",
              "      <td>29.000000</td>\n",
              "      <td>2127.000000</td>\n",
              "      <td>435.000000</td>\n",
              "      <td>1166.000000</td>\n",
              "      <td>409.000000</td>\n",
              "      <td>3.534800</td>\n",
              "      <td>179700.000000</td>\n",
              "    </tr>\n",
              "    <tr>\n",
              "      <th>75%</th>\n",
              "      <td>-118.010000</td>\n",
              "      <td>37.710000</td>\n",
              "      <td>37.000000</td>\n",
              "      <td>3148.000000</td>\n",
              "      <td>647.000000</td>\n",
              "      <td>1725.000000</td>\n",
              "      <td>605.000000</td>\n",
              "      <td>4.743250</td>\n",
              "      <td>264725.000000</td>\n",
              "    </tr>\n",
              "    <tr>\n",
              "      <th>max</th>\n",
              "      <td>-114.310000</td>\n",
              "      <td>41.950000</td>\n",
              "      <td>52.000000</td>\n",
              "      <td>39320.000000</td>\n",
              "      <td>6445.000000</td>\n",
              "      <td>35682.000000</td>\n",
              "      <td>6082.000000</td>\n",
              "      <td>15.000100</td>\n",
              "      <td>500001.000000</td>\n",
              "    </tr>\n",
              "  </tbody>\n",
              "</table>\n",
              "</div>"
            ],
            "text/plain": [
              "          longitude      latitude  ...  median_income  median_house_value\n",
              "count  20640.000000  20640.000000  ...   20640.000000        20640.000000\n",
              "mean    -119.569704     35.631861  ...       3.870671       206855.816909\n",
              "std        2.003532      2.135952  ...       1.899822       115395.615874\n",
              "min     -124.350000     32.540000  ...       0.499900        14999.000000\n",
              "25%     -121.800000     33.930000  ...       2.563400       119600.000000\n",
              "50%     -118.490000     34.260000  ...       3.534800       179700.000000\n",
              "75%     -118.010000     37.710000  ...       4.743250       264725.000000\n",
              "max     -114.310000     41.950000  ...      15.000100       500001.000000\n",
              "\n",
              "[8 rows x 9 columns]"
            ]
          },
          "metadata": {
            "tags": []
          },
          "execution_count": 20
        }
      ]
    },
    {
      "cell_type": "markdown",
      "metadata": {
        "id": "XoXeSkNNUtjb"
      },
      "source": [
        "# 데이터의 형태를 빠르게 검토하기 _ 시각화"
      ]
    },
    {
      "cell_type": "code",
      "metadata": {
        "colab": {
          "base_uri": "https://localhost:8080/",
          "height": 1000
        },
        "id": "Y16sYtsfUkny",
        "outputId": "873ca7ca-8950-4d8d-f798-1120b07af000"
      },
      "source": [
        "import matplotlib.pyplot as plt\n",
        "housing.hist(bins=50 , figsize=(25, 20)) # bins는 기준은 없지만 30, 40, 50을 주로 사용\n",
        "plt.show()"
      ],
      "execution_count": null,
      "outputs": [
        {
          "output_type": "display_data",
          "data": {
            "image/png": "[encoded data removed]",
            "text/plain": [
              "<Figure size 1800x1440 with 9 Axes>"
            ]
          },
          "metadata": {
            "tags": [],
            "needs_background": "light"
          }
        }
      ]
    },
    {
      "cell_type": "markdown",
      "metadata": {
        "id": "hBnEQnkmXrMM"
      },
      "source": [
        "데이터세트 만들기"
      ]
    },
    {
      "cell_type": "markdown",
      "metadata": {
        "id": "8Bu5Uzb4he2B"
      },
      "source": [
        "# 데스트 세트 만들기\n",
        "* 전체 데이터 세트를 활용해서 훈련하는 바람에 사용자의 새로운 데이테에 대한 예측이 잘 안되는 현상이 **데이터 스누핑 현황**을 방지\n",
        "* 테스트 세트를 따로 만들어서 훈련 세트로 알고리즘을 훈련 후에 테스트 세트의 오차를 **일반화 오차**"
      ]
    },
    {
      "cell_type": "markdown",
      "metadata": {
        "id": "YhJ6bDr02kG2"
      },
      "source": [
        "## 데이터 쪼개기(split)\n",
        "* 훈련 세트와 데스트 세트의 비율은 8:2 또는 7.5:2.5로 설정\n",
        "\n",
        "* 테스트 세트를 생성할 때는 전체 데이터를 한번 섞고(shuffle) 잘라야(split)한다"
      ]
    },
    {
      "cell_type": "code",
      "metadata": {
        "id": "Qw10PhZCVlaO",
        "colab": {
          "base_uri": "https://localhost:8080/"
        },
        "outputId": "144e1d23-aa17-4034-f162-8bd53abcf971"
      },
      "source": [
        "# 무작위로 데이터 선택하기\n",
        "import numpy as np\n",
        "np.random.permutation(100) # 0~99까지으이 정수 100개를 랜덤하게 생성"
      ],
      "execution_count": 34,
      "outputs": [
        {
          "output_type": "execute_result",
          "data": {
            "text/plain": [
              "array([16, 23, 44, 42, 14, 33, 12, 29, 92, 81, 76, 73, 79, 30, 48, 68, 55,\n",
              "       82,  6, 63,  8, 54, 36, 18, 85,  9, 95, 35, 31, 91, 24, 87, 47, 64,\n",
              "       71, 43,  3, 15, 78, 60, 99,  4, 58, 10, 61, 93, 51, 89, 49, 22, 39,\n",
              "        7, 50, 40, 41, 38, 59, 11, 72, 88, 77, 17, 57, 90, 52, 26, 80, 74,\n",
              "       21, 20, 19, 27,  0, 97, 25, 56, 98, 34, 96, 37, 32, 83, 84, 46, 75,\n",
              "       67,  5,  1, 13, 45, 28, 70, 94, 66, 53, 86, 62, 69, 65,  2])"
            ]
          },
          "metadata": {
            "tags": []
          },
          "execution_count": 34
        }
      ]
    },
    {
      "cell_type": "code",
      "metadata": {
        "id": "v4WNzWXI4afw"
      },
      "source": [
        "# data: 잘라낼 데이터 전체\n",
        "# test_ratio : 데스트 데이터의 비율\n",
        "def split_train_test(data, test_ratio=0.2):\n",
        "    #데이터 개수 만큼 무작위 인덱스를 가진 리스트 생성\n",
        "    shuffled_indices = np.random.permutation(len(data))\n",
        "\n",
        "    # 데스트 세트의 크기 구하기\n",
        "    test_set_size = int(len(data) * test_ratio)\n",
        "\n",
        "    # 데스트 세트의 인덱스 구하기\n",
        "    test_indices = shuffled_indices[: test_set_size]\n",
        "\n",
        "    # 훈련 세트의 인덱스\n",
        "    train_indices = shuffled_indices[test_set_size : ]\n",
        "\n",
        "    return data.iloc[train_indices], data.iloc[test_indices]\n"
      ],
      "execution_count": 44,
      "outputs": []
    },
    {
      "cell_type": "code",
      "metadata": {
        "colab": {
          "base_uri": "https://localhost:8080/"
        },
        "id": "0KV7zNGX6j_m",
        "outputId": "4b96f750-efd0-4b5f-efb8-6a577e72f1a8"
      },
      "source": [
        "df_train, df_test = split_train_test(housing)\n",
        "print(f\"훈련 세트의 길이 : {len(df_train)} / 데스트 세트의 길이 : {len(df_test)}\")"
      ],
      "execution_count": 45,
      "outputs": [
        {
          "output_type": "stream",
          "text": [
            "훈련 세트의 길이 : 16512 / 데스트 세트의 길이 : 4128\n"
          ],
          "name": "stdout"
        }
      ]
    },
    {
      "cell_type": "markdown",
      "metadata": {
        "id": "rrwy3HTF_pqo"
      },
      "source": [
        "훈련 세트로 훈련을 하고, 테스트 세트로 테스트를 진행\n",
        "* **테스트 세트는** 런칭 직전까지 **한번도 사용되어선 안된다.**\n",
        "\n",
        "문제점\n",
        "* 랜덤을 무한하게 돌리면 언젠가는 머신러닝 알고리즘이 모든 데이터를 다 사용\n",
        "\n",
        "해결책\n",
        "* 난수 발생 초깃값 (랜덤 시드)을 고정 - `np.random.seed(42)`\n",
        "* 각 샘플(행) 마다의 해시값을 구하여 20%보다 작거나 같은 샘플만 테스트 세트로 보낸다."
      ]
    },
    {
      "cell_type": "markdown",
      "metadata": {
        "id": "5PLqFPQB_tqX"
      },
      "source": [
        "1. `np.random.seed`를 사용했을 때의 장/단점\n",
        "* 장점 : 항상 같은 random이 발생되어서 안정적임. 데이터의 변경 없이 모델 알고리즘만 변경하면 좋다.\n",
        "* 단점 : 데이터 세트에 추가 / 삭제 등의 변경이 일어나면 다시 섞여버린다.\n"
      ]
    },
    {
      "cell_type": "markdown",
      "metadata": {
        "id": "8HCzB3d1AJ86"
      },
      "source": [
        "**해시값**을 사용한 방법\n",
        "- 해시값: 어떠한 데이터의 고유값"
      ]
    },
    {
      "cell_type": "code",
      "metadata": {
        "id": "aM4Tn-8N7ANK"
      },
      "source": [
        "from zlib import crc32\n",
        "def test_set_check(identifier, test_ratio=0.2):\n",
        "    return crc32(np.int64(identifier)) & 0xffffffff < test_ratio * 2**32\n"
      ],
      "execution_count": 43,
      "outputs": []
    },
    {
      "cell_type": "markdown",
      "metadata": {
        "id": "gTjZ2uEmDlch"
      },
      "source": [
        "`test_set_check`의 결과물 : `True / False`가 등장\n",
        "* `True` : Test Set로 들어가야 할 데이터\n",
        "* `False` : Train Set로 들어가야 할 데이터"
      ]
    },
    {
      "cell_type": "code",
      "metadata": {
        "colab": {
          "base_uri": "https://localhost:8080/"
        },
        "id": "8Je8FT0_A_o5",
        "outputId": "e1efa20e-5e07-4b40-84a4-5dec38200050"
      },
      "source": [
        "test_set_check(2)"
      ],
      "execution_count": 41,
      "outputs": [
        {
          "output_type": "execute_result",
          "data": {
            "text/plain": [
              "654825492"
            ]
          },
          "metadata": {
            "tags": []
          },
          "execution_count": 41
        }
      ]
    },
    {
      "cell_type": "code",
      "metadata": {
        "id": "hNuzduPFEBOB"
      },
      "source": [
        "# hash 값을 기준으로 자르기\n",
        "# data : 전체 데이터\n",
        "# test_ratio : 데스트 세트 비율\n",
        "# id_columns : id로 삼을 컬럼의 이름\n",
        "def split_train_test_by_id(data, test_ratio, id_column):\n",
        "    ids = data[id_column]\n",
        "\n",
        "    # 데스트 세트로 포함될 위치 구하기\n",
        "    in_test_set = ids.apply( lambda id_ : test_set_check(id_, test_ratio)  )\n",
        "    return data.loc[~in_test_set], data.loc[in_test_set] # True와 False를 반전시킴"
      ],
      "execution_count": 69,
      "outputs": []
    },
    {
      "cell_type": "markdown",
      "metadata": {
        "id": "DLgp0U3ZIt-Z"
      },
      "source": [
        "housing 데이터세트에는 식별자(id)로 사용할 수 있는게 **행의 인덱스**밖에 없다. 식별자 값으로 행의 index를 사용하면 제약 사항이 있습니다.\n",
        "\n",
        "* 새로운 데이터의 추가는 반드시 행의 끝에서만 일어날 것\n",
        "* 어떠한 행도 삭제되면 안된다.\n",
        "\n",
        "위 두가지 제약사람 때문에 아까 랜덤으로 했을 때랑 별 다른 이점이 없다..\n",
        "\n",
        "**고유 식별자**로 선정해햐할 데이터\n",
        "housing 데이터 세트에는 바뀌지 않을 위도,경도를 사용하자"
      ]
    },
    {
      "cell_type": "code",
      "metadata": {
        "id": "p1fJlZMdHzEO"
      },
      "source": [
        "# 행의 인덱스를 이용해 데이터 세트를 나누는 경우 : 제약사항이 있다\n",
        "housing_with_id = housing.reset_index()\n",
        "train_set, test_set = split_train_test_by_id(housing_with_id, 0.2, \"index\")"
      ],
      "execution_count": 70,
      "outputs": []
    },
    {
      "cell_type": "code",
      "metadata": {
        "id": "ApBbd-t-Jnpi"
      },
      "source": [
        "# 몇백년 간은 바뀌지 않을 위도와 경도를 사용해서 데이터를 나눠보기\n",
        "\n",
        "housing_with_id['id'] = housing['longitude'] * 1000 + housing['latitude']\n",
        "\n",
        "train_set, test_set = split_train_test_by_id(housing_with_id, 0.2, 'id')"
      ],
      "execution_count": 71,
      "outputs": []
    },
    {
      "cell_type": "markdown",
      "metadata": {
        "id": "bzfKu12WPv_A"
      },
      "source": [
        "잘 되어 있는거 쓰는게 낫겠지"
      ]
    },
    {
      "cell_type": "code",
      "metadata": {
        "id": "ehuP7CH5KWWI"
      },
      "source": [
        "# 머신러닝 과학자들이 잘 만들어 놨어요. 알고리즘, 데이터 등등에 관하여...\n",
        "# sklearn\n",
        "from sklearn.model_selection import train_test_split\n",
        "\n",
        "train_set, test_set = train_test_split(housing, test_size=0.2, random_state=42) #random_state 매개변수를 이용해 랜덤 고정\n"
      ],
      "execution_count": 72,
      "outputs": []
    },
    {
      "cell_type": "markdown",
      "metadata": {
        "id": "K9kfwylAPtzQ"
      },
      "source": [
        "`train_test_split`은 기본적으로 Shuffle - Split 지원"
      ]
    },
    {
      "cell_type": "markdown",
      "metadata": {
        "id": "q47zB6YCMG-l"
      },
      "source": [
        "# 샘플링 편향과 계층적 샘플링\n"
      ]
    },
    {
      "cell_type": "code",
      "metadata": {
        "colab": {
          "base_uri": "https://localhost:8080/",
          "height": 226
        },
        "id": "vIx6QUb1LhRf",
        "outputId": "f81fcfd2-ea39-46bc-ddb3-cf61f8021681"
      },
      "source": [
        "housing['income_cat'] = pd.cut(\n",
        "    housing['median_income'], # 계층을 구할 데이터\n",
        "    bins =[0.0, 1.5, 3.0, 4.0, 6.0, np.inf], # 구간(계층)\n",
        "    labels=[1, 2, 3, 4, 5]\n",
        ")\n",
        "\n",
        "housing.head()"
      ],
      "execution_count": 74,
      "outputs": [
        {
          "output_type": "execute_result",
          "data": {
            "text/html": [
              "<div>\n",
              "<style scoped>\n",
              "    .dataframe tbody tr th:only-of-type {\n",
              "        vertical-align: middle;\n",
              "    }\n",
              "\n",
              "    .dataframe tbody tr th {\n",
              "        vertical-align: top;\n",
              "    }\n",
              "\n",
              "    .dataframe thead th {\n",
              "        text-align: right;\n",
              "    }\n",
              "</style>\n",
              "<table border=\"1\" class=\"dataframe\">\n",
              "  <thead>\n",
              "    <tr style=\"text-align: right;\">\n",
              "      <th></th>\n",
              "      <th>longitude</th>\n",
              "      <th>latitude</th>\n",
              "      <th>housing_median_age</th>\n",
              "      <th>total_rooms</th>\n",
              "      <th>total_bedrooms</th>\n",
              "      <th>population</th>\n",
              "      <th>households</th>\n",
              "      <th>median_income</th>\n",
              "      <th>median_house_value</th>\n",
              "      <th>ocean_proximity</th>\n",
              "      <th>income_cat</th>\n",
              "    </tr>\n",
              "  </thead>\n",
              "  <tbody>\n",
              "    <tr>\n",
              "      <th>0</th>\n",
              "      <td>-122.23</td>\n",
              "      <td>37.88</td>\n",
              "      <td>41.0</td>\n",
              "      <td>880.0</td>\n",
              "      <td>129.0</td>\n",
              "      <td>322.0</td>\n",
              "      <td>126.0</td>\n",
              "      <td>8.3252</td>\n",
              "      <td>452600.0</td>\n",
              "      <td>NEAR BAY</td>\n",
              "      <td>5</td>\n",
              "    </tr>\n",
              "    <tr>\n",
              "      <th>1</th>\n",
              "      <td>-122.22</td>\n",
              "      <td>37.86</td>\n",
              "      <td>21.0</td>\n",
              "      <td>7099.0</td>\n",
              "      <td>1106.0</td>\n",
              "      <td>2401.0</td>\n",
              "      <td>1138.0</td>\n",
              "      <td>8.3014</td>\n",
              "      <td>358500.0</td>\n",
              "      <td>NEAR BAY</td>\n",
              "      <td>5</td>\n",
              "    </tr>\n",
              "    <tr>\n",
              "      <th>2</th>\n",
              "      <td>-122.24</td>\n",
              "      <td>37.85</td>\n",
              "      <td>52.0</td>\n",
              "      <td>1467.0</td>\n",
              "      <td>190.0</td>\n",
              "      <td>496.0</td>\n",
              "      <td>177.0</td>\n",
              "      <td>7.2574</td>\n",
              "      <td>352100.0</td>\n",
              "      <td>NEAR BAY</td>\n",
              "      <td>5</td>\n",
              "    </tr>\n",
              "    <tr>\n",
              "      <th>3</th>\n",
              "      <td>-122.25</td>\n",
              "      <td>37.85</td>\n",
              "      <td>52.0</td>\n",
              "      <td>1274.0</td>\n",
              "      <td>235.0</td>\n",
              "      <td>558.0</td>\n",
              "      <td>219.0</td>\n",
              "      <td>5.6431</td>\n",
              "      <td>341300.0</td>\n",
              "      <td>NEAR BAY</td>\n",
              "      <td>4</td>\n",
              "    </tr>\n",
              "    <tr>\n",
              "      <th>4</th>\n",
              "      <td>-122.25</td>\n",
              "      <td>37.85</td>\n",
              "      <td>52.0</td>\n",
              "      <td>1627.0</td>\n",
              "      <td>280.0</td>\n",
              "      <td>565.0</td>\n",
              "      <td>259.0</td>\n",
              "      <td>3.8462</td>\n",
              "      <td>342200.0</td>\n",
              "      <td>NEAR BAY</td>\n",
              "      <td>3</td>\n",
              "    </tr>\n",
              "  </tbody>\n",
              "</table>\n",
              "</div>"
            ],
            "text/plain": [
              "   longitude  latitude  ...  ocean_proximity  income_cat\n",
              "0    -122.23     37.88  ...         NEAR BAY           5\n",
              "1    -122.22     37.86  ...         NEAR BAY           5\n",
              "2    -122.24     37.85  ...         NEAR BAY           5\n",
              "3    -122.25     37.85  ...         NEAR BAY           4\n",
              "4    -122.25     37.85  ...         NEAR BAY           3\n",
              "\n",
              "[5 rows x 11 columns]"
            ]
          },
          "metadata": {
            "tags": []
          },
          "execution_count": 74
        }
      ]
    },
    {
      "cell_type": "markdown",
      "metadata": {
        "id": "4abJ8fYKPyDQ"
      },
      "source": [
        "각 구간별로 계층적 샘플링 수행"
      ]
    },
    {
      "cell_type": "code",
      "metadata": {
        "colab": {
          "base_uri": "https://localhost:8080/",
          "height": 265
        },
        "id": "SyfloDIUPSFh",
        "outputId": "3266b579-eb1b-4462-af8d-fd08c089db05"
      },
      "source": [
        "# 계층 별 데이터의 빈도 확인\n",
        "housing['income_cat'].hist()\n",
        "plt.show()"
      ],
      "execution_count": 75,
      "outputs": [
        {
          "output_type": "display_data",
          "data": {
            "image/png": "[encoded data removed]",
            "text/plain": [
              "<Figure size 432x288 with 1 Axes>"
            ]
          },
          "metadata": {
            "tags": [],
            "needs_background": "light"
          }
        }
      ]
    },
    {
      "cell_type": "markdown",
      "metadata": {
        "id": "zd9xFssvSgKu"
      },
      "source": [
        "사이킷런의 StratifiedShuffleSplit을 활용하여 섞기+계층별 스플릿까지"
      ]
    },
    {
      "cell_type": "code",
      "metadata": {
        "id": "pbN8ADMzSMxv"
      },
      "source": [
        "from sklearn.model_selection import StratifiedShuffleSplit\n",
        "strat_shuff_split = StratifiedShuffleSplit(\n",
        "    n_splits=1,\n",
        "    test_size=0.2,\n",
        "    random_state=42\n",
        ")\n",
        "# split에서 쪼개지게 되면 train / test 데이터의 인덱스가 등장\n",
        "for train_index, test_index in strat_shuff_split.split(housing, housing['income_cat']):\n",
        "    strat_train_set =housing.loc[train_index]\n",
        "    strat_test_set = housing.loc[test_index]"
      ],
      "execution_count": 77,
      "outputs": []
    },
    {
      "cell_type": "code",
      "metadata": {
        "colab": {
          "base_uri": "https://localhost:8080/"
        },
        "id": "_1bXoTwwUWIS",
        "outputId": "4888a43a-81d4-4537-e5aa-d90581d674fb"
      },
      "source": [
        "strat_test_set['income_cat'].value_counts() / len(strat_test_set)\n"
      ],
      "execution_count": 79,
      "outputs": [
        {
          "output_type": "execute_result",
          "data": {
            "text/plain": [
              "2    0.318798\n",
              "4    0.277374\n",
              "3    0.249516\n",
              "5    0.114583\n",
              "1    0.039729\n",
              "Name: income_cat, dtype: float64"
            ]
          },
          "metadata": {
            "tags": []
          },
          "execution_count": 79
        }
      ]
    },
    {
      "cell_type": "code",
      "metadata": {
        "colab": {
          "base_uri": "https://localhost:8080/",
          "height": 513
        },
        "id": "OJg2wtbCUqPE",
        "outputId": "683c27ac-853a-48f8-ec2c-69cd02e970bb"
      },
      "source": [
        "strat_test_set['income_cat'].hist()\n",
        "plt.figure()\n",
        "housing['income_cat'].hist()\n",
        "plt.show()"
      ],
      "execution_count": 80,
      "outputs": [
        {
          "output_type": "display_data",
          "data": {
            "image/png": "[encoded data removed]",
            "text/plain": [
              "<Figure size 432x288 with 1 Axes>"
            ]
          },
          "metadata": {
            "tags": [],
            "needs_background": "light"
          }
        },
        {
          "output_type": "display_data",
          "data": {
            "image/png": "[encoded data removed]",
            "text/plain": [
              "<Figure size 432x288 with 1 Axes>"
            ]
          },
          "metadata": {
            "tags": [],
            "needs_background": "light"
          }
        }
      ]
    },
    {
      "cell_type": "code",
      "metadata": {
        "id": "AuLj_ODmVQt0"
      },
      "source": [
        ""
      ],
      "execution_count": null,
      "outputs": []
    }
  ]
}