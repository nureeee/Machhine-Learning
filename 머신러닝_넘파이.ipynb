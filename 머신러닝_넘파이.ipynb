{
  "nbformat": 4,
  "nbformat_minor": 0,
  "metadata": {
    "colab": {
      "name": "머신러닝_넘파이.ipynb",
      "provenance": [],
      "collapsed_sections": [],
      "mount_file_id": "1Y9LjWtp3df7dCNuqQjw9zvnZksh8usdF",
      "authorship_tag": "ABX9TyP49jTsHHAxvXFXx/+uLIFq",
      "include_colab_link": true
    },
    "kernelspec": {
      "name": "python3",
      "display_name": "Python 3"
    },
    "language_info": {
      "name": "python"
    }
  },
  "cells": [
    {
      "cell_type": "markdown",
      "metadata": {
        "id": "view-in-github",
        "colab_type": "text"
      },
      "source": [
        "<a href=\"https://colab.research.google.com/github/nureeee/Machhine-Learning/blob/main/%EB%A8%B8%EC%8B%A0%EB%9F%AC%EB%8B%9D_%EB%84%98%ED%8C%8C%EC%9D%B4.ipynb\" target=\"_parent\"><img src=\"https://colab.research.google.com/assets/colab-badge.svg\" alt=\"Open In Colab\"/></a>"
      ]
    },
    {
      "cell_type": "code",
      "metadata": {
        "colab": {
          "base_uri": "https://localhost:8080/"
        },
        "id": "6ONqNpfuZXeS",
        "outputId": "8a28ba6c-c5bc-4e9d-d0a7-61ee58231bd8"
      },
      "source": [
        "!apt -qq -y install fonts-nanum > /dev/null\n",
        "import matplotlib.pyplot as plt\n",
        "import matplotlib.font_manager as fm\n",
        "fontpath = '/usr/share/fonts/truetype/nanum/NanumBarunGothic.ttf'\n",
        "font = fm.FontProperties(fname=fontpath, size=10)\n",
        "fm._rebuild()\n",
        "# 그래프에 retina display 적용\n",
        "%config InlineBackend.figure_format = 'retina'\n",
        "# Colab 의 한글 폰트 설정\n",
        "plt.rc('font', family='NanumBarunGothic')"
      ],
      "execution_count": 2,
      "outputs": [
        {
          "output_type": "stream",
          "text": [
            "\n",
            "WARNING: apt does not have a stable CLI interface. Use with caution in scripts.\n",
            "\n"
          ],
          "name": "stdout"
        }
      ]
    },
    {
      "cell_type": "code",
      "metadata": {
        "id": "wqdV3tQkm3Xx"
      },
      "source": [
        "import numpy as np\n",
        "import pandas as pd"
      ],
      "execution_count": 3,
      "outputs": []
    },
    {
      "cell_type": "markdown",
      "metadata": {
        "id": "bVXfMarR8egX"
      },
      "source": [
        "# 데이터 불러오기"
      ]
    },
    {
      "cell_type": "code",
      "metadata": {
        "id": "mvpC65UJnmFb",
        "colab": {
          "base_uri": "https://localhost:8080/",
          "height": 758
        },
        "outputId": "2d5a7104-9c84-4fe3-d9f9-7f96853a4293"
      },
      "source": [
        "# csv파일 판다스로 불러오기\n",
        "df = pd.read_csv('/content/drive/MyDrive/bike_train.csv')\n",
        "df"
      ],
      "execution_count": 4,
      "outputs": [
        {
          "output_type": "execute_result",
          "data": {
            "text/html": [
              "<div>\n",
              "<style scoped>\n",
              "    .dataframe tbody tr th:only-of-type {\n",
              "        vertical-align: middle;\n",
              "    }\n",
              "\n",
              "    .dataframe tbody tr th {\n",
              "        vertical-align: top;\n",
              "    }\n",
              "\n",
              "    .dataframe thead th {\n",
              "        text-align: right;\n",
              "    }\n",
              "</style>\n",
              "<table border=\"1\" class=\"dataframe\">\n",
              "  <thead>\n",
              "    <tr style=\"text-align: right;\">\n",
              "      <th></th>\n",
              "      <th>datetime</th>\n",
              "      <th>season</th>\n",
              "      <th>holiday</th>\n",
              "      <th>workingday</th>\n",
              "      <th>weather</th>\n",
              "      <th>temp</th>\n",
              "      <th>atemp</th>\n",
              "      <th>humidity</th>\n",
              "      <th>windspeed</th>\n",
              "      <th>casual</th>\n",
              "      <th>registered</th>\n",
              "      <th>count</th>\n",
              "    </tr>\n",
              "  </thead>\n",
              "  <tbody>\n",
              "    <tr>\n",
              "      <th>0</th>\n",
              "      <td>2011-01-01 00:00:00</td>\n",
              "      <td>1</td>\n",
              "      <td>0</td>\n",
              "      <td>0</td>\n",
              "      <td>1</td>\n",
              "      <td>9.84</td>\n",
              "      <td>14.395</td>\n",
              "      <td>81</td>\n",
              "      <td>0.0000</td>\n",
              "      <td>3</td>\n",
              "      <td>13</td>\n",
              "      <td>16</td>\n",
              "    </tr>\n",
              "    <tr>\n",
              "      <th>1</th>\n",
              "      <td>2011-01-01 01:00:00</td>\n",
              "      <td>1</td>\n",
              "      <td>0</td>\n",
              "      <td>0</td>\n",
              "      <td>1</td>\n",
              "      <td>9.02</td>\n",
              "      <td>13.635</td>\n",
              "      <td>80</td>\n",
              "      <td>0.0000</td>\n",
              "      <td>8</td>\n",
              "      <td>32</td>\n",
              "      <td>40</td>\n",
              "    </tr>\n",
              "    <tr>\n",
              "      <th>2</th>\n",
              "      <td>2011-01-01 02:00:00</td>\n",
              "      <td>1</td>\n",
              "      <td>0</td>\n",
              "      <td>0</td>\n",
              "      <td>1</td>\n",
              "      <td>9.02</td>\n",
              "      <td>13.635</td>\n",
              "      <td>80</td>\n",
              "      <td>0.0000</td>\n",
              "      <td>5</td>\n",
              "      <td>27</td>\n",
              "      <td>32</td>\n",
              "    </tr>\n",
              "    <tr>\n",
              "      <th>3</th>\n",
              "      <td>2011-01-01 03:00:00</td>\n",
              "      <td>1</td>\n",
              "      <td>0</td>\n",
              "      <td>0</td>\n",
              "      <td>1</td>\n",
              "      <td>9.84</td>\n",
              "      <td>14.395</td>\n",
              "      <td>75</td>\n",
              "      <td>0.0000</td>\n",
              "      <td>3</td>\n",
              "      <td>10</td>\n",
              "      <td>13</td>\n",
              "    </tr>\n",
              "    <tr>\n",
              "      <th>4</th>\n",
              "      <td>2011-01-01 04:00:00</td>\n",
              "      <td>1</td>\n",
              "      <td>0</td>\n",
              "      <td>0</td>\n",
              "      <td>1</td>\n",
              "      <td>9.84</td>\n",
              "      <td>14.395</td>\n",
              "      <td>75</td>\n",
              "      <td>0.0000</td>\n",
              "      <td>0</td>\n",
              "      <td>1</td>\n",
              "      <td>1</td>\n",
              "    </tr>\n",
              "    <tr>\n",
              "      <th>...</th>\n",
              "      <td>...</td>\n",
              "      <td>...</td>\n",
              "      <td>...</td>\n",
              "      <td>...</td>\n",
              "      <td>...</td>\n",
              "      <td>...</td>\n",
              "      <td>...</td>\n",
              "      <td>...</td>\n",
              "      <td>...</td>\n",
              "      <td>...</td>\n",
              "      <td>...</td>\n",
              "      <td>...</td>\n",
              "    </tr>\n",
              "    <tr>\n",
              "      <th>10881</th>\n",
              "      <td>2012-12-19 19:00:00</td>\n",
              "      <td>4</td>\n",
              "      <td>0</td>\n",
              "      <td>1</td>\n",
              "      <td>1</td>\n",
              "      <td>15.58</td>\n",
              "      <td>19.695</td>\n",
              "      <td>50</td>\n",
              "      <td>26.0027</td>\n",
              "      <td>7</td>\n",
              "      <td>329</td>\n",
              "      <td>336</td>\n",
              "    </tr>\n",
              "    <tr>\n",
              "      <th>10882</th>\n",
              "      <td>2012-12-19 20:00:00</td>\n",
              "      <td>4</td>\n",
              "      <td>0</td>\n",
              "      <td>1</td>\n",
              "      <td>1</td>\n",
              "      <td>14.76</td>\n",
              "      <td>17.425</td>\n",
              "      <td>57</td>\n",
              "      <td>15.0013</td>\n",
              "      <td>10</td>\n",
              "      <td>231</td>\n",
              "      <td>241</td>\n",
              "    </tr>\n",
              "    <tr>\n",
              "      <th>10883</th>\n",
              "      <td>2012-12-19 21:00:00</td>\n",
              "      <td>4</td>\n",
              "      <td>0</td>\n",
              "      <td>1</td>\n",
              "      <td>1</td>\n",
              "      <td>13.94</td>\n",
              "      <td>15.910</td>\n",
              "      <td>61</td>\n",
              "      <td>15.0013</td>\n",
              "      <td>4</td>\n",
              "      <td>164</td>\n",
              "      <td>168</td>\n",
              "    </tr>\n",
              "    <tr>\n",
              "      <th>10884</th>\n",
              "      <td>2012-12-19 22:00:00</td>\n",
              "      <td>4</td>\n",
              "      <td>0</td>\n",
              "      <td>1</td>\n",
              "      <td>1</td>\n",
              "      <td>13.94</td>\n",
              "      <td>17.425</td>\n",
              "      <td>61</td>\n",
              "      <td>6.0032</td>\n",
              "      <td>12</td>\n",
              "      <td>117</td>\n",
              "      <td>129</td>\n",
              "    </tr>\n",
              "    <tr>\n",
              "      <th>10885</th>\n",
              "      <td>2012-12-19 23:00:00</td>\n",
              "      <td>4</td>\n",
              "      <td>0</td>\n",
              "      <td>1</td>\n",
              "      <td>1</td>\n",
              "      <td>13.12</td>\n",
              "      <td>16.665</td>\n",
              "      <td>66</td>\n",
              "      <td>8.9981</td>\n",
              "      <td>4</td>\n",
              "      <td>84</td>\n",
              "      <td>88</td>\n",
              "    </tr>\n",
              "  </tbody>\n",
              "</table>\n",
              "<p>10886 rows × 12 columns</p>\n",
              "</div>"
            ],
            "text/plain": [
              "                  datetime  season  holiday  ...  casual  registered  count\n",
              "0      2011-01-01 00:00:00       1        0  ...       3          13     16\n",
              "1      2011-01-01 01:00:00       1        0  ...       8          32     40\n",
              "2      2011-01-01 02:00:00       1        0  ...       5          27     32\n",
              "3      2011-01-01 03:00:00       1        0  ...       3          10     13\n",
              "4      2011-01-01 04:00:00       1        0  ...       0           1      1\n",
              "...                    ...     ...      ...  ...     ...         ...    ...\n",
              "10881  2012-12-19 19:00:00       4        0  ...       7         329    336\n",
              "10882  2012-12-19 20:00:00       4        0  ...      10         231    241\n",
              "10883  2012-12-19 21:00:00       4        0  ...       4         164    168\n",
              "10884  2012-12-19 22:00:00       4        0  ...      12         117    129\n",
              "10885  2012-12-19 23:00:00       4        0  ...       4          84     88\n",
              "\n",
              "[10886 rows x 12 columns]"
            ]
          },
          "metadata": {
            "tags": []
          },
          "execution_count": 4
        }
      ]
    },
    {
      "cell_type": "code",
      "metadata": {
        "id": "LBJgthaFn5NM",
        "colab": {
          "base_uri": "https://localhost:8080/"
        },
        "outputId": "ed9d405e-9715-42c5-a45c-3c8b541d9899"
      },
      "source": [
        "df.values"
      ],
      "execution_count": 5,
      "outputs": [
        {
          "output_type": "execute_result",
          "data": {
            "text/plain": [
              "array([['2011-01-01 00:00:00', 1, 0, ..., 3, 13, 16],\n",
              "       ['2011-01-01 01:00:00', 1, 0, ..., 8, 32, 40],\n",
              "       ['2011-01-01 02:00:00', 1, 0, ..., 5, 27, 32],\n",
              "       ...,\n",
              "       ['2012-12-19 21:00:00', 4, 0, ..., 4, 164, 168],\n",
              "       ['2012-12-19 22:00:00', 4, 0, ..., 12, 117, 129],\n",
              "       ['2012-12-19 23:00:00', 4, 0, ..., 4, 84, 88]], dtype=object)"
            ]
          },
          "metadata": {
            "tags": []
          },
          "execution_count": 5
        }
      ]
    },
    {
      "cell_type": "markdown",
      "metadata": {
        "id": "2u7y_opEqd4r"
      },
      "source": [
        "# 판다스 데이터 프레임을 넘파이로 바꾸기\n",
        " 판다스로 불러온 DF데이터세트를 np_df의 넘파이로 불러옴"
      ]
    },
    {
      "cell_type": "code",
      "metadata": {
        "colab": {
          "base_uri": "https://localhost:8080/"
        },
        "id": "WjjaG6j6oFfN",
        "outputId": "fd905300-0d04-4afa-fa55-c6f7003e9f26"
      },
      "source": [
        "np_df = np.array(df)\n",
        "np_df"
      ],
      "execution_count": 6,
      "outputs": [
        {
          "output_type": "execute_result",
          "data": {
            "text/plain": [
              "array([['2011-01-01 00:00:00', 1, 0, ..., 3, 13, 16],\n",
              "       ['2011-01-01 01:00:00', 1, 0, ..., 8, 32, 40],\n",
              "       ['2011-01-01 02:00:00', 1, 0, ..., 5, 27, 32],\n",
              "       ...,\n",
              "       ['2012-12-19 21:00:00', 4, 0, ..., 4, 164, 168],\n",
              "       ['2012-12-19 22:00:00', 4, 0, ..., 12, 117, 129],\n",
              "       ['2012-12-19 23:00:00', 4, 0, ..., 4, 84, 88]], dtype=object)"
            ]
          },
          "metadata": {
            "tags": []
          },
          "execution_count": 6
        }
      ]
    },
    {
      "cell_type": "markdown",
      "metadata": {
        "id": "liwkjzZl4Xlp"
      },
      "source": [
        "# 텍스트 시계열 데이터를 날짜데이터로 변환하기"
      ]
    },
    {
      "cell_type": "code",
      "metadata": {
        "id": "M_-NWRwhtt1r"
      },
      "source": [
        "# 파이썬 내장한수 사용\n",
        "from datetime import date\n",
        "import datetime"
      ],
      "execution_count": 7,
      "outputs": []
    },
    {
      "cell_type": "code",
      "metadata": {
        "colab": {
          "base_uri": "https://localhost:8080/"
        },
        "id": "o53OHZNVKnyv",
        "outputId": "c8ce805d-cd6d-4ab1-b6d2-30b63a08cbd7"
      },
      "source": [
        "# 원본 데이터에서 object로 되어있는 시계열 텍스트 데이터 저장\n",
        "date_time_obj = np_df[:,0]\n",
        "date_time_obj"
      ],
      "execution_count": 8,
      "outputs": [
        {
          "output_type": "execute_result",
          "data": {
            "text/plain": [
              "array(['2011-01-01 00:00:00', '2011-01-01 01:00:00',\n",
              "       '2011-01-01 02:00:00', ..., '2012-12-19 21:00:00',\n",
              "       '2012-12-19 22:00:00', '2012-12-19 23:00:00'], dtype=object)"
            ]
          },
          "metadata": {
            "tags": []
          },
          "execution_count": 8
        }
      ]
    },
    {
      "cell_type": "code",
      "metadata": {
        "id": "uZDqDuKQu1hB"
      },
      "source": [
        "# 날짜 텍스트를 날짜 데이터로 변환\n",
        "date_list = []\n",
        "for i in date_time_obj:\n",
        "    a = datetime.datetime.fromisoformat(i)\n",
        "    date_list.append(a)"
      ],
      "execution_count": 9,
      "outputs": []
    },
    {
      "cell_type": "code",
      "metadata": {
        "colab": {
          "base_uri": "https://localhost:8080/"
        },
        "id": "En-RF8tCvTxh",
        "outputId": "6a7c92cb-64e1-4c23-fab5-f69f8d274ab2"
      },
      "source": [
        "# 데이터가 잘 변환되었는지 확인하기\n",
        "date_list[0].hour"
      ],
      "execution_count": 10,
      "outputs": [
        {
          "output_type": "execute_result",
          "data": {
            "text/plain": [
              "0"
            ]
          },
          "metadata": {
            "tags": []
          },
          "execution_count": 10
        }
      ]
    },
    {
      "cell_type": "code",
      "metadata": {
        "id": "L4dC3gbevxuR",
        "colab": {
          "base_uri": "https://localhost:8080/"
        },
        "outputId": "100783d9-51d7-460a-9013-fedcb2763b18"
      },
      "source": [
        "# 데이터 복사하기\n",
        "df_copy = np_df.copy()\n",
        "np_df.shape"
      ],
      "execution_count": 11,
      "outputs": [
        {
          "output_type": "execute_result",
          "data": {
            "text/plain": [
              "(10886, 12)"
            ]
          },
          "metadata": {
            "tags": []
          },
          "execution_count": 11
        }
      ]
    },
    {
      "cell_type": "code",
      "metadata": {
        "colab": {
          "base_uri": "https://localhost:8080/"
        },
        "id": "eFm4A_GR2M-q",
        "outputId": "ad714b91-700f-45a3-cbb5-c4ab3cab68a3"
      },
      "source": [
        "# 날짜 텍스트 데이터를 삭제  \n",
        "df_copy = np.delete(df_copy, 0, axis=1)\n",
        "df_copy"
      ],
      "execution_count": 12,
      "outputs": [
        {
          "output_type": "execute_result",
          "data": {
            "text/plain": [
              "array([[1, 0, 0, ..., 3, 13, 16],\n",
              "       [1, 0, 0, ..., 8, 32, 40],\n",
              "       [1, 0, 0, ..., 5, 27, 32],\n",
              "       ...,\n",
              "       [4, 0, 1, ..., 4, 164, 168],\n",
              "       [4, 0, 1, ..., 12, 117, 129],\n",
              "       [4, 0, 1, ..., 4, 84, 88]], dtype=object)"
            ]
          },
          "metadata": {
            "tags": []
          },
          "execution_count": 12
        }
      ]
    },
    {
      "cell_type": "code",
      "metadata": {
        "colab": {
          "base_uri": "https://localhost:8080/"
        },
        "id": "4-MDCkyC2a4R",
        "outputId": "054a16c1-cc18-4ba7-d4b4-06536d3884ba"
      },
      "source": [
        "df_copy.shape\n",
        "# 해당 데이터가 삭제된 것을 볼 수 있다."
      ],
      "execution_count": 13,
      "outputs": [
        {
          "output_type": "execute_result",
          "data": {
            "text/plain": [
              "(10886, 11)"
            ]
          },
          "metadata": {
            "tags": []
          },
          "execution_count": 13
        }
      ]
    },
    {
      "cell_type": "code",
      "metadata": {
        "colab": {
          "base_uri": "https://localhost:8080/"
        },
        "id": "M9dYwW6G5ZQ1",
        "outputId": "3b3efc2f-e8c1-439c-850a-2dd521dc0064"
      },
      "source": [
        "# 리스트를 넘파이로 변환\n",
        "date_list = np.array(date_list)\n",
        "date_list.shape"
      ],
      "execution_count": 14,
      "outputs": [
        {
          "output_type": "execute_result",
          "data": {
            "text/plain": [
              "(10886,)"
            ]
          },
          "metadata": {
            "tags": []
          },
          "execution_count": 14
        }
      ]
    },
    {
      "cell_type": "code",
      "metadata": {
        "colab": {
          "base_uri": "https://localhost:8080/"
        },
        "id": "rr-qzLZh3u2h",
        "outputId": "8b4f513f-6703-4b76-9799-146750939b30"
      },
      "source": [
        "# 2차 배열로 변환\n",
        "date_list = date_list.reshape(-1, 1)\n",
        "date_list.shape"
      ],
      "execution_count": 15,
      "outputs": [
        {
          "output_type": "execute_result",
          "data": {
            "text/plain": [
              "(10886, 1)"
            ]
          },
          "metadata": {
            "tags": []
          },
          "execution_count": 15
        }
      ]
    },
    {
      "cell_type": "code",
      "metadata": {
        "colab": {
          "base_uri": "https://localhost:8080/"
        },
        "id": "ii40JvOw5Jnh",
        "outputId": "27e5bdd4-5960-4479-97eb-460b98e615d1"
      },
      "source": [
        "# 두개의 배열 합치기\n",
        "data1 = np.hstack((date_list, df_copy))\n",
        "data1"
      ],
      "execution_count": 16,
      "outputs": [
        {
          "output_type": "execute_result",
          "data": {
            "text/plain": [
              "array([[datetime.datetime(2011, 1, 1, 0, 0), 1, 0, ..., 3, 13, 16],\n",
              "       [datetime.datetime(2011, 1, 1, 1, 0), 1, 0, ..., 8, 32, 40],\n",
              "       [datetime.datetime(2011, 1, 1, 2, 0), 1, 0, ..., 5, 27, 32],\n",
              "       ...,\n",
              "       [datetime.datetime(2012, 12, 19, 21, 0), 4, 0, ..., 4, 164, 168],\n",
              "       [datetime.datetime(2012, 12, 19, 22, 0), 4, 0, ..., 12, 117, 129],\n",
              "       [datetime.datetime(2012, 12, 19, 23, 0), 4, 0, ..., 4, 84, 88]],\n",
              "      dtype=object)"
            ]
          },
          "metadata": {
            "tags": []
          },
          "execution_count": 16
        }
      ]
    },
    {
      "cell_type": "markdown",
      "metadata": {
        "id": "UAPn2U-MMphn"
      },
      "source": [
        "넘파이로는 seaborn으로 시각화를 할 수 없다..."
      ]
    },
    {
      "cell_type": "code",
      "metadata": {
        "id": "0D0R-hWE9BUh"
      },
      "source": [
        "# years = []\n",
        "\n",
        "# for date in data:\n",
        "#     years.append(date[0].year)\n",
        "\n",
        "# s = pd.DataFrame(pd.Series(years, name=\"v\"))\n",
        "# sns.countplot(data=s, x='v')\n",
        "\n",
        "\n",
        "\n",
        "# figure, ((ax1, ax2), (ax3, ax4)) = plt.subplots(nrows=2, ncols=2)\n",
        "# figure.set_size_inches(18,8)\n",
        "\n",
        "# sns.barplot(data=data, x=data.year, y='count', ax=ax1)\n",
        "# sns.barplot(data=data, x=data.month, y='count', ax=ax2)\n",
        "# sns.barplot(data=data, x=[datetime.datetime].day, y='count', ax=ax3)\n",
        "# sns.barplot(data=data, x=[datetime.datetime].hour, y='count', ax=ax4)\n",
        "\n",
        "# ax1.set(ylabel='count', title='연도별 대여량')\n",
        "# ax2.set(xlabel='month', title='월별 대여량')\n",
        "# ax3.set(xlabel='day', title='일별 대여량')\n",
        "# ax4.set(xlabel='hour', title='시간별 대여량')"
      ],
      "execution_count": 17,
      "outputs": []
    },
    {
      "cell_type": "markdown",
      "metadata": {
        "id": "g2ni2Jr5RZM0"
      },
      "source": [
        "# datetime을 years, months, days, hours, dayofweeks로 뽑아낸다."
      ]
    },
    {
      "cell_type": "code",
      "metadata": {
        "colab": {
          "base_uri": "https://localhost:8080/"
        },
        "id": "QgqKT6V6_5-w",
        "outputId": "dcb30cde-be68-4357-88b3-0ea8a8f0e143"
      },
      "source": [
        "# datetime을 years, months, days, hours, dayofweeks로 추출하여 새로운 numpy 제작\n",
        "years = []\n",
        "months = []\n",
        "days = []\n",
        "hours = []\n",
        "dayofweeks=[]\n",
        "TIMESTAMP_IDX = 0\n",
        "for data in data1:\n",
        "  years.append(data[TIMESTAMP_IDX].year)\n",
        "  months.append(data[TIMESTAMP_IDX].month)\n",
        "  days.append(data[TIMESTAMP_IDX].day)\n",
        "  hours.append(data[TIMESTAMP_IDX].hour)\n",
        "  dayofweeks.append(data[TIMESTAMP_IDX].weekday())\n",
        "date_ndarray = np.array([\n",
        "  years, months, days, hours, dayofweeks\n",
        "])\n",
        "# list로 먼저 만들고 numpy로 묶음\n",
        "date_ndarray"
      ],
      "execution_count": 18,
      "outputs": [
        {
          "output_type": "execute_result",
          "data": {
            "text/plain": [
              "array([[2011, 2011, 2011, ..., 2012, 2012, 2012],\n",
              "       [   1,    1,    1, ...,   12,   12,   12],\n",
              "       [   1,    1,    1, ...,   19,   19,   19],\n",
              "       [   0,    1,    2, ...,   21,   22,   23],\n",
              "       [   5,    5,    5, ...,    2,    2,    2]])"
            ]
          },
          "metadata": {
            "tags": []
          },
          "execution_count": 18
        }
      ]
    },
    {
      "cell_type": "code",
      "metadata": {
        "colab": {
          "base_uri": "https://localhost:8080/"
        },
        "id": "jm6GhzpZO3us",
        "outputId": "23223cce-a4e0-44be-b16c-2448108899da"
      },
      "source": [
        "# 추출해온 데이터 shape 확인\n",
        "date_ndarray.shape"
      ],
      "execution_count": 19,
      "outputs": [
        {
          "output_type": "execute_result",
          "data": {
            "text/plain": [
              "(5, 10886)"
            ]
          },
          "metadata": {
            "tags": []
          },
          "execution_count": 19
        }
      ]
    },
    {
      "cell_type": "code",
      "metadata": {
        "colab": {
          "base_uri": "https://localhost:8080/"
        },
        "id": "7gBsVfCxQKIU",
        "outputId": "74cc63b7-38f9-45e1-8a34-6b8f01322927"
      },
      "source": [
        "# 추출해온 데이터를 transposition\n",
        "data_np = date_ndarray.T\n",
        "data_np.shape"
      ],
      "execution_count": 20,
      "outputs": [
        {
          "output_type": "execute_result",
          "data": {
            "text/plain": [
              "(10886, 5)"
            ]
          },
          "metadata": {
            "tags": []
          },
          "execution_count": 20
        }
      ]
    },
    {
      "cell_type": "code",
      "metadata": {
        "colab": {
          "base_uri": "https://localhost:8080/"
        },
        "id": "YuCRXpUhQeaD",
        "outputId": "916be2dd-0a8f-413e-85ef-3235885d7776"
      },
      "source": [
        "data = np.hstack((data_np, df_copy))\n",
        "data"
      ],
      "execution_count": 21,
      "outputs": [
        {
          "output_type": "execute_result",
          "data": {
            "text/plain": [
              "array([[2011, 1, 1, ..., 3, 13, 16],\n",
              "       [2011, 1, 1, ..., 8, 32, 40],\n",
              "       [2011, 1, 1, ..., 5, 27, 32],\n",
              "       ...,\n",
              "       [2012, 12, 19, ..., 4, 164, 168],\n",
              "       [2012, 12, 19, ..., 12, 117, 129],\n",
              "       [2012, 12, 19, ..., 4, 84, 88]], dtype=object)"
            ]
          },
          "metadata": {
            "tags": []
          },
          "execution_count": 21
        }
      ]
    },
    {
      "cell_type": "markdown",
      "metadata": {
        "id": "xGPw2OnZ6lmO"
      },
      "source": [
        "# 가설 세우기\n",
        "* 날이 더운 여름이나 추운 겨울에는 비회원보다 회원의 수가 더 많을 것이다  \n",
        "> 회원으로 등록하고 자전거를 탄다는 것은 앞으로도 자전거를 탈 계획이 있는 사람이 그렇지 않은 사람보다 날씨의 영향을 덜 받을 것이다.\n",
        "> 예를 들자면... 운동을 꾸준히 하는 사람이 있는데 날씨가 흐려도 날이 별로지만 오늘도 운동을 해야지 하고 계획에 맞춰서 나가겠지만 비회원은 날이 흐리면 다음을 기약하고 미루기 쉽다."
      ]
    },
    {
      "cell_type": "markdown",
      "metadata": {
        "id": "MnDCwPGMeuJS"
      },
      "source": [
        "# 데이터 상관관계 분석"
      ]
    },
    {
      "cell_type": "code",
      "metadata": {
        "id": "tHzGAW6y69PF"
      },
      "source": [
        "import matplotlib.pyplot as plt\n",
        "import seaborn as sns"
      ],
      "execution_count": 22,
      "outputs": []
    },
    {
      "cell_type": "code",
      "metadata": {
        "id": "fi30iryT64EB"
      },
      "source": [
        "# 에러 발생\n",
        "# data_cor = np.corrcoef(data)\n",
        "# data_cor"
      ],
      "execution_count": 23,
      "outputs": []
    },
    {
      "cell_type": "code",
      "metadata": {
        "colab": {
          "base_uri": "https://localhost:8080/"
        },
        "id": "Bi_AR5-UWSfM",
        "outputId": "12781d4f-43a6-4910-d6d3-70955649918e"
      },
      "source": [
        "ate = list(data[:, 9])\n",
        "tem = list(data[:, 8])\n",
        "hum = list(data[:, 10])\n",
        "wor = list(data[:, 6])\n",
        "hol = list(data[:, 5])\n",
        "cou = list(data[:, -1])\n",
        "cas = list(data[:, -3])\n",
        "reg = list(data[:, -2])\n",
        "\n",
        "xarr = [ate, tem, hum, wor, hol, cou, cas, reg]\n",
        "xarr = np.array(xarr)\n",
        "\n",
        "xarr_cor = np.corrcoef(xarr) # 전체로 보는상관관계\n",
        "xarr_cor"
      ],
      "execution_count": 24,
      "outputs": [
        {
          "output_type": "execute_result",
          "data": {
            "text/plain": [
              "array([[ 1.00000000e+00, -5.50354182e-02,  9.84948110e-01,\n",
              "         2.94603393e-04,  2.58688551e-01,  3.94453645e-01,\n",
              "         4.67097064e-01,  3.18571280e-01],\n",
              "       [-5.50354182e-02,  1.00000000e+00, -5.53759732e-02,\n",
              "        -7.07391151e-03,  8.87865085e-03, -1.28655201e-01,\n",
              "        -1.35917680e-01, -1.09340372e-01],\n",
              "       [ 9.84948110e-01, -5.53759732e-02,  1.00000000e+00,\n",
              "        -5.21477822e-03,  2.64744326e-01,  3.89784437e-01,\n",
              "         4.62066536e-01,  3.14635386e-01],\n",
              "       [ 2.94603393e-04, -7.07391151e-03, -5.21477822e-03,\n",
              "         1.00000000e+00,  2.93676097e-02, -5.39298448e-03,\n",
              "         4.37989287e-02, -2.09556729e-02],\n",
              "       [ 2.58688551e-01,  8.87865085e-03,  2.64744326e-01,\n",
              "         2.93676097e-02,  1.00000000e+00,  1.63439017e-01,\n",
              "         9.67580628e-02,  1.64010534e-01],\n",
              "       [ 3.94453645e-01, -1.28655201e-01,  3.89784437e-01,\n",
              "        -5.39298448e-03,  1.63439017e-01,  1.00000000e+00,\n",
              "         6.90413565e-01,  9.70948106e-01],\n",
              "       [ 4.67097064e-01, -1.35917680e-01,  4.62066536e-01,\n",
              "         4.37989287e-02,  9.67580628e-02,  6.90413565e-01,\n",
              "         1.00000000e+00,  4.97249685e-01],\n",
              "       [ 3.18571280e-01, -1.09340372e-01,  3.14635386e-01,\n",
              "        -2.09556729e-02,  1.64010534e-01,  9.70948106e-01,\n",
              "         4.97249685e-01,  1.00000000e+00]])"
            ]
          },
          "metadata": {
            "tags": []
          },
          "execution_count": 24
        }
      ]
    },
    {
      "cell_type": "code",
      "metadata": {
        "colab": {
          "base_uri": "https://localhost:8080/",
          "height": 391
        },
        "id": "Hhm75WvqT8oq",
        "outputId": "9e75a140-c654-42de-b04c-9aab75c1fce9"
      },
      "source": [
        "# 비회원, 회원의 월별 사용량\n",
        "f, axes = plt.subplots(1, 2, sharex=True, sharey=True)\n",
        "f.set_size_inches((12, 6))\n",
        "\n",
        "axes[0].bar(data[:, 1], data[:, -3])\n",
        "axes[0].set_title('비회원의 월별 사용량')\n",
        "\n",
        "axes[1].bar(data[:, 1], data[:, -2])\n",
        "axes[1].set_title('회원의 월별 사용량')\n",
        "plt.show()"
      ],
      "execution_count": 25,
      "outputs": [
        {
          "output_type": "display_data",
          "data": {
            "image/png": "[encoded data removed]",
            "text/plain": [
              "<Figure size 864x432 with 2 Axes>"
            ]
          },
          "metadata": {
            "tags": [],
            "image/png": {
              "width": 708,
              "height": 374
            },
            "needs_background": "light"
          }
        }
      ]
    },
    {
      "cell_type": "markdown",
      "metadata": {
        "id": "7FjT9S-oaCyf"
      },
      "source": [
        "* 비회원은 자전거 타기 좋은 봄과 가을에 사용자가 많다.\n",
        "* 회원은 3월부터 사용량이 증가하고 여름부터 가을까지 사용량이 가장 많다가 겨울에 다시 사용량이 줄었다.\n"
      ]
    },
    {
      "cell_type": "code",
      "metadata": {
        "colab": {
          "base_uri": "https://localhost:8080/",
          "height": 391
        },
        "id": "niivMbqBWGnL",
        "outputId": "a77acbd4-19ff-42a0-9208-09588c8d05d2"
      },
      "source": [
        "f, axes = plt.subplots(1, 2, sharex=True, sharey=True)\n",
        "f.set_size_inches((12, 6))\n",
        "\n",
        "axes[0].bar(data[:, 9], data[:, -3])\n",
        "axes[0].set_title('비회원의 체감온도별 사용량')\n",
        "\n",
        "axes[1].bar(data[:, 9], data[:, -2])\n",
        "axes[1].set_title('회원의 체감온도별 사용량')\n",
        "plt.show()"
      ],
      "execution_count": 26,
      "outputs": [
        {
          "output_type": "display_data",
          "data": {
            "image/png": "[encoded data removed]",
            "text/plain": [
              "<Figure size 864x432 with 2 Axes>"
            ]
          },
          "metadata": {
            "tags": [],
            "image/png": {
              "width": 708,
              "height": 374
            },
            "needs_background": "light"
          }
        }
      ]
    },
    {
      "cell_type": "markdown",
      "metadata": {
        "id": "O9DudEwGdX5w"
      },
      "source": [
        "* 비회원은 체감온도 20~30도 사이에 사용량이 많고\n",
        "* 회원은 체감온도 0도에 가까울 때와 40도에 가까울 때 를 제외하고 일정량 이상의 사용량이 보인다. "
      ]
    },
    {
      "cell_type": "code",
      "metadata": {
        "colab": {
          "base_uri": "https://localhost:8080/",
          "height": 391
        },
        "id": "qhAYDEUib4FZ",
        "outputId": "f1fcf51f-83ba-4e1a-9289-adc3a9c3a963"
      },
      "source": [
        "f, axes = plt.subplots(1, 2, sharex=True, sharey=True)\n",
        "f.set_size_inches((12, 6))\n",
        "\n",
        "axes[0].bar(data[:, 4], data[:, -3])\n",
        "axes[0].set_title('비회원의 계절별 사용량')\n",
        "\n",
        "axes[1].bar(data[:, 4], data[:, -2])\n",
        "axes[1].set_title('회원의 계절별 사용량')\n",
        "plt.show()"
      ],
      "execution_count": 27,
      "outputs": [
        {
          "output_type": "display_data",
          "data": {
            "image/png": "[encoded data removed]",
            "text/plain": [
              "<Figure size 864x432 with 2 Axes>"
            ]
          },
          "metadata": {
            "tags": [],
            "image/png": {
              "width": 708,
              "height": 374
            },
            "needs_background": "light"
          }
        }
      ]
    },
    {
      "cell_type": "markdown",
      "metadata": {
        "id": "NGZSJXFLeYno"
      },
      "source": [
        "사계절이...육계절이 되었다...."
      ]
    },
    {
      "cell_type": "markdown",
      "metadata": {
        "id": "G7RLvCCDgKFJ"
      },
      "source": [
        "# Train Set, Test Set 나누기"
      ]
    },
    {
      "cell_type": "code",
      "metadata": {
        "id": "WAGdes_pc0dn"
      },
      "source": [
        "from sklearn.model_selection import train_test_split\n",
        "\n",
        "x_train, x_test, y_train, y_test = train_test_split(\n",
        "    data[:, :-1], \n",
        "    data[:, -1], \n",
        "    random_state=42,\n",
        "    stratify=data[:, 1]\n",
        ")"
      ],
      "execution_count": 28,
      "outputs": []
    },
    {
      "cell_type": "markdown",
      "metadata": {
        "id": "ZDzL27dOipvW"
      },
      "source": [
        "# 모델 선정 및 훈련"
      ]
    },
    {
      "cell_type": "markdown",
      "metadata": {
        "id": "nGZ2gj8Wiud1"
      },
      "source": [
        "## 선형회귀 알고리즘"
      ]
    },
    {
      "cell_type": "code",
      "metadata": {
        "colab": {
          "base_uri": "https://localhost:8080/"
        },
        "id": "vATUfJ2SiDcc",
        "outputId": "e26de34d-4385-44f0-934d-00ad7252900d"
      },
      "source": [
        "from sklearn.linear_model import LinearRegression\n",
        "\n",
        "lin_reg = LinearRegression()\n",
        "lin_reg.fit(x_train, y_train)"
      ],
      "execution_count": 29,
      "outputs": [
        {
          "output_type": "execute_result",
          "data": {
            "text/plain": [
              "LinearRegression(copy_X=True, fit_intercept=True, n_jobs=None, normalize=False)"
            ]
          },
          "metadata": {
            "tags": []
          },
          "execution_count": 29
        }
      ]
    },
    {
      "cell_type": "code",
      "metadata": {
        "colab": {
          "base_uri": "https://localhost:8080/"
        },
        "id": "fk-wjfPnie1Q",
        "outputId": "fa1e19bf-6634-41ce-c567-2e5692d72ccb"
      },
      "source": [
        "lin_reg.predict(x_test)"
      ],
      "execution_count": 30,
      "outputs": [
        {
          "output_type": "execute_result",
          "data": {
            "text/plain": [
              "array([383., 359.,  11., ..., 277., 596.,  74.])"
            ]
          },
          "metadata": {
            "tags": []
          },
          "execution_count": 30
        }
      ]
    },
    {
      "cell_type": "code",
      "metadata": {
        "colab": {
          "base_uri": "https://localhost:8080/"
        },
        "id": "rXJJkt9xiz54",
        "outputId": "0957397a-76ff-44b1-a58b-863e71b80809"
      },
      "source": [
        "lin_reg.score(x_test, y_test)"
      ],
      "execution_count": 31,
      "outputs": [
        {
          "output_type": "execute_result",
          "data": {
            "text/plain": [
              "1.0"
            ]
          },
          "metadata": {
            "tags": []
          },
          "execution_count": 31
        }
      ]
    },
    {
      "cell_type": "code",
      "metadata": {
        "id": "lDN2XQSOi9E3"
      },
      "source": [
        "import matplotlib.pyplot as plt\n",
        "import seaborn as sns\n",
        "my_predictions = {}\n",
        "colors = ['r', 'c', 'm', 'y', 'k', 'khaki', 'teal', 'orchid', 'sandybrown',\n",
        "          'greenyellow', 'dodgerblue', 'deepskyblue', 'rosybrown', 'firebrick',\n",
        "          'deeppink', 'crimson', 'salmon', 'darkred', 'olivedrab', 'olive', \n",
        "          'forestgreen', 'royalblue', 'indigo', 'navy', 'mediumpurple', 'chocolate',\n",
        "          'gold', 'darkorange', 'seagreen', 'turquoise', 'steelblue', 'slategray', \n",
        "          'peru', 'midnightblue', 'slateblue', 'dimgray', 'cadetblue', 'tomato'\n",
        "         ]\n",
        "def plot_predictions(name_, pred, actual):\n",
        "    df = pd.DataFrame({'prediction': pred, 'actual': y_test})\n",
        "    df = df.sort_values(by='actual').reset_index(drop=True)\n",
        "    plt.figure(figsize=(12, 9))\n",
        "    plt.scatter(df.index, df['prediction'], marker='x', color='r')\n",
        "    plt.scatter(df.index, df['actual'], alpha=0.7, marker='o', color='black')\n",
        "    plt.title(name_, fontsize=15)\n",
        "    plt.legend(['prediction', 'actual'], fontsize=12)\n",
        "    plt.show()\n",
        "def mse_eval(name_, pred, actual):\n",
        "    global predictions\n",
        "    global colors\n",
        "    plot_predictions(name_, pred, actual)\n",
        "    mse = mean_squared_error(pred, actual)\n",
        "    my_predictions[name_] = mse\n",
        "    y_value = sorted(my_predictions.items(), key=lambda x: x[1], reverse=True)\n",
        "    df = pd.DataFrame(y_value, columns=['model', 'mse'])\n",
        "    print(df)\n",
        "    min_ = df['mse'].min() - 10\n",
        "    max_ = df['mse'].max() + 10\n",
        "    length = len(df)\n",
        "    plt.figure(figsize=(10, length))\n",
        "    ax = plt.subplot()\n",
        "    ax.set_yticks(np.arange(len(df)))\n",
        "    ax.set_yticklabels(df['model'], fontsize=15)\n",
        "    bars = ax.barh(np.arange(len(df)), df['mse'])\n",
        "    for i, v in enumerate(df['mse']):\n",
        "        idx = np.random.choice(len(colors))\n",
        "        bars[i].set_color(colors[idx])\n",
        "        ax.text(v + 2, i, str(round(v, 3)), color='k', fontsize=15, fontweight='bold')\n",
        "    plt.title('MSE Error', fontsize=18)\n",
        "    plt.xlim(min_, max_)\n",
        "    plt.show()\n",
        "def remove_model(name_):\n",
        "    global my_predictions\n",
        "    try:\n",
        "        del my_predictions[name_]\n",
        "    except KeyError:\n",
        "        return False\n",
        "    return True"
      ],
      "execution_count": 38,
      "outputs": []
    },
    {
      "cell_type": "code",
      "metadata": {
        "id": "sLv-R_rKkICT"
      },
      "source": [
        "from sklearn.metrics import mean_squared_error, mean_absolute_error"
      ],
      "execution_count": 32,
      "outputs": []
    },
    {
      "cell_type": "code",
      "metadata": {
        "id": "AWK1HK11kNDc"
      },
      "source": [
        "model = LinearRegression(n_jobs = -1)\n",
        "model.fit(x_train, y_train)"
      ],
      "execution_count": null,
      "outputs": []
    },
    {
      "cell_type": "code",
      "metadata": {
        "id": "j3XZDTwakPer"
      },
      "source": [
        "pred = model.predict(x_test)"
      ],
      "execution_count": 36,
      "outputs": []
    },
    {
      "cell_type": "code",
      "metadata": {
        "colab": {
          "base_uri": "https://localhost:8080/",
          "height": 789
        },
        "id": "LvNhaYbWkzt9",
        "outputId": "5ae6973a-527c-4b96-ed22-3372a214556a"
      },
      "source": [
        "mse_eval('LinearRegression', pred, y_test)"
      ],
      "execution_count": 39,
      "outputs": [
        {
          "output_type": "display_data",
          "data": {
            "image/png": "[encoded data removed]",
            "text/plain": [
              "<Figure size 864x648 with 1 Axes>"
            ]
          },
          "metadata": {
            "tags": [],
            "image/png": {
              "width": 708,
              "height": 539
            },
            "needs_background": "light"
          }
        },
        {
          "output_type": "stream",
          "text": [
            "              model           mse\n",
            "0  LinearRegression  1.527707e-25\n"
          ],
          "name": "stdout"
        },
        {
          "output_type": "stream",
          "text": [
            "/usr/local/lib/python3.7/dist-packages/matplotlib/backends/backend_agg.py:214: RuntimeWarning: Glyph 8722 missing from current font.\n",
            "  font.set_text(s, 0.0, flags=flags)\n",
            "/usr/local/lib/python3.7/dist-packages/matplotlib/backends/backend_agg.py:183: RuntimeWarning: Glyph 8722 missing from current font.\n",
            "  font.set_text(s, 0, flags=flags)\n"
          ],
          "name": "stderr"
        },
        {
          "output_type": "display_data",
          "data": {
            "image/png": "[encoded data removed]",
            "text/plain": [
              "<Figure size 720x72 with 1 Axes>"
            ]
          },
          "metadata": {
            "tags": [],
            "image/png": {
              "width": 708,
              "height": 107
            },
            "needs_background": "light"
          }
        }
      ]
    },
    {
      "cell_type": "code",
      "metadata": {
        "id": "NnW8uRL1k1Qp"
      },
      "source": [
        ""
      ],
      "execution_count": null,
      "outputs": []
    }
  ]
}