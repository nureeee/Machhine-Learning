{
  "nbformat": 4,
  "nbformat_minor": 0,
  "metadata": {
    "colab": {
      "name": "머신러닝_넘파이.ipynb",
      "provenance": [],
      "mount_file_id": "1Y9LjWtp3df7dCNuqQjw9zvnZksh8usdF",
      "authorship_tag": "ABX9TyPlxYixylhthc4t8aWvsjKH",
      "include_colab_link": true
    },
    "kernelspec": {
      "name": "python3",
      "display_name": "Python 3"
    },
    "language_info": {
      "name": "python"
    }
  },
  "cells": [
    {
      "cell_type": "markdown",
      "metadata": {
        "id": "view-in-github",
        "colab_type": "text"
      },
      "source": [
        "<a href=\"https://colab.research.google.com/github/nureeee/Machhine-Learning/blob/main/%EB%A8%B8%EC%8B%A0%EB%9F%AC%EB%8B%9D_%EB%84%98%ED%8C%8C%EC%9D%B4.ipynb\" target=\"_parent\"><img src=\"https://colab.research.google.com/assets/colab-badge.svg\" alt=\"Open In Colab\"/></a>"
      ]
    },
    {
      "cell_type": "code",
      "metadata": {
        "id": "wqdV3tQkm3Xx"
      },
      "source": [
        "import numpy as np\n",
        "import pandas as pd"
      ],
      "execution_count": null,
      "outputs": []
    },
    {
      "cell_type": "markdown",
      "metadata": {
        "id": "bVXfMarR8egX"
      },
      "source": [
        "# 데이터 불러오기"
      ]
    },
    {
      "cell_type": "code",
      "metadata": {
        "id": "mvpC65UJnmFb",
        "colab": {
          "base_uri": "https://localhost:8080/",
          "height": 773
        },
        "outputId": "a0eec7c1-690f-4ea1-cfe5-0dbe1ce00408"
      },
      "source": [
        "# csv파일 판다스로 불러오기\n",
        "df = pd.read_csv('/content/drive/MyDrive/bike_train.csv')\n",
        "df"
      ],
      "execution_count": null,
      "outputs": [
        {
          "output_type": "execute_result",
          "data": {
            "text/html": [
              "<div>\n",
              "<style scoped>\n",
              "    .dataframe tbody tr th:only-of-type {\n",
              "        vertical-align: middle;\n",
              "    }\n",
              "\n",
              "    .dataframe tbody tr th {\n",
              "        vertical-align: top;\n",
              "    }\n",
              "\n",
              "    .dataframe thead th {\n",
              "        text-align: right;\n",
              "    }\n",
              "</style>\n",
              "<table border=\"1\" class=\"dataframe\">\n",
              "  <thead>\n",
              "    <tr style=\"text-align: right;\">\n",
              "      <th></th>\n",
              "      <th>datetime</th>\n",
              "      <th>season</th>\n",
              "      <th>holiday</th>\n",
              "      <th>workingday</th>\n",
              "      <th>weather</th>\n",
              "      <th>temp</th>\n",
              "      <th>atemp</th>\n",
              "      <th>humidity</th>\n",
              "      <th>windspeed</th>\n",
              "      <th>casual</th>\n",
              "      <th>registered</th>\n",
              "      <th>count</th>\n",
              "    </tr>\n",
              "  </thead>\n",
              "  <tbody>\n",
              "    <tr>\n",
              "      <th>0</th>\n",
              "      <td>2011-01-01 00:00:00</td>\n",
              "      <td>1</td>\n",
              "      <td>0</td>\n",
              "      <td>0</td>\n",
              "      <td>1</td>\n",
              "      <td>9.84</td>\n",
              "      <td>14.395</td>\n",
              "      <td>81</td>\n",
              "      <td>0.0000</td>\n",
              "      <td>3</td>\n",
              "      <td>13</td>\n",
              "      <td>16</td>\n",
              "    </tr>\n",
              "    <tr>\n",
              "      <th>1</th>\n",
              "      <td>2011-01-01 01:00:00</td>\n",
              "      <td>1</td>\n",
              "      <td>0</td>\n",
              "      <td>0</td>\n",
              "      <td>1</td>\n",
              "      <td>9.02</td>\n",
              "      <td>13.635</td>\n",
              "      <td>80</td>\n",
              "      <td>0.0000</td>\n",
              "      <td>8</td>\n",
              "      <td>32</td>\n",
              "      <td>40</td>\n",
              "    </tr>\n",
              "    <tr>\n",
              "      <th>2</th>\n",
              "      <td>2011-01-01 02:00:00</td>\n",
              "      <td>1</td>\n",
              "      <td>0</td>\n",
              "      <td>0</td>\n",
              "      <td>1</td>\n",
              "      <td>9.02</td>\n",
              "      <td>13.635</td>\n",
              "      <td>80</td>\n",
              "      <td>0.0000</td>\n",
              "      <td>5</td>\n",
              "      <td>27</td>\n",
              "      <td>32</td>\n",
              "    </tr>\n",
              "    <tr>\n",
              "      <th>3</th>\n",
              "      <td>2011-01-01 03:00:00</td>\n",
              "      <td>1</td>\n",
              "      <td>0</td>\n",
              "      <td>0</td>\n",
              "      <td>1</td>\n",
              "      <td>9.84</td>\n",
              "      <td>14.395</td>\n",
              "      <td>75</td>\n",
              "      <td>0.0000</td>\n",
              "      <td>3</td>\n",
              "      <td>10</td>\n",
              "      <td>13</td>\n",
              "    </tr>\n",
              "    <tr>\n",
              "      <th>4</th>\n",
              "      <td>2011-01-01 04:00:00</td>\n",
              "      <td>1</td>\n",
              "      <td>0</td>\n",
              "      <td>0</td>\n",
              "      <td>1</td>\n",
              "      <td>9.84</td>\n",
              "      <td>14.395</td>\n",
              "      <td>75</td>\n",
              "      <td>0.0000</td>\n",
              "      <td>0</td>\n",
              "      <td>1</td>\n",
              "      <td>1</td>\n",
              "    </tr>\n",
              "    <tr>\n",
              "      <th>...</th>\n",
              "      <td>...</td>\n",
              "      <td>...</td>\n",
              "      <td>...</td>\n",
              "      <td>...</td>\n",
              "      <td>...</td>\n",
              "      <td>...</td>\n",
              "      <td>...</td>\n",
              "      <td>...</td>\n",
              "      <td>...</td>\n",
              "      <td>...</td>\n",
              "      <td>...</td>\n",
              "      <td>...</td>\n",
              "    </tr>\n",
              "    <tr>\n",
              "      <th>10881</th>\n",
              "      <td>2012-12-19 19:00:00</td>\n",
              "      <td>4</td>\n",
              "      <td>0</td>\n",
              "      <td>1</td>\n",
              "      <td>1</td>\n",
              "      <td>15.58</td>\n",
              "      <td>19.695</td>\n",
              "      <td>50</td>\n",
              "      <td>26.0027</td>\n",
              "      <td>7</td>\n",
              "      <td>329</td>\n",
              "      <td>336</td>\n",
              "    </tr>\n",
              "    <tr>\n",
              "      <th>10882</th>\n",
              "      <td>2012-12-19 20:00:00</td>\n",
              "      <td>4</td>\n",
              "      <td>0</td>\n",
              "      <td>1</td>\n",
              "      <td>1</td>\n",
              "      <td>14.76</td>\n",
              "      <td>17.425</td>\n",
              "      <td>57</td>\n",
              "      <td>15.0013</td>\n",
              "      <td>10</td>\n",
              "      <td>231</td>\n",
              "      <td>241</td>\n",
              "    </tr>\n",
              "    <tr>\n",
              "      <th>10883</th>\n",
              "      <td>2012-12-19 21:00:00</td>\n",
              "      <td>4</td>\n",
              "      <td>0</td>\n",
              "      <td>1</td>\n",
              "      <td>1</td>\n",
              "      <td>13.94</td>\n",
              "      <td>15.910</td>\n",
              "      <td>61</td>\n",
              "      <td>15.0013</td>\n",
              "      <td>4</td>\n",
              "      <td>164</td>\n",
              "      <td>168</td>\n",
              "    </tr>\n",
              "    <tr>\n",
              "      <th>10884</th>\n",
              "      <td>2012-12-19 22:00:00</td>\n",
              "      <td>4</td>\n",
              "      <td>0</td>\n",
              "      <td>1</td>\n",
              "      <td>1</td>\n",
              "      <td>13.94</td>\n",
              "      <td>17.425</td>\n",
              "      <td>61</td>\n",
              "      <td>6.0032</td>\n",
              "      <td>12</td>\n",
              "      <td>117</td>\n",
              "      <td>129</td>\n",
              "    </tr>\n",
              "    <tr>\n",
              "      <th>10885</th>\n",
              "      <td>2012-12-19 23:00:00</td>\n",
              "      <td>4</td>\n",
              "      <td>0</td>\n",
              "      <td>1</td>\n",
              "      <td>1</td>\n",
              "      <td>13.12</td>\n",
              "      <td>16.665</td>\n",
              "      <td>66</td>\n",
              "      <td>8.9981</td>\n",
              "      <td>4</td>\n",
              "      <td>84</td>\n",
              "      <td>88</td>\n",
              "    </tr>\n",
              "  </tbody>\n",
              "</table>\n",
              "<p>10886 rows × 12 columns</p>\n",
              "</div>"
            ],
            "text/plain": [
              "                  datetime  season  holiday  ...  casual  registered  count\n",
              "0      2011-01-01 00:00:00       1        0  ...       3          13     16\n",
              "1      2011-01-01 01:00:00       1        0  ...       8          32     40\n",
              "2      2011-01-01 02:00:00       1        0  ...       5          27     32\n",
              "3      2011-01-01 03:00:00       1        0  ...       3          10     13\n",
              "4      2011-01-01 04:00:00       1        0  ...       0           1      1\n",
              "...                    ...     ...      ...  ...     ...         ...    ...\n",
              "10881  2012-12-19 19:00:00       4        0  ...       7         329    336\n",
              "10882  2012-12-19 20:00:00       4        0  ...      10         231    241\n",
              "10883  2012-12-19 21:00:00       4        0  ...       4         164    168\n",
              "10884  2012-12-19 22:00:00       4        0  ...      12         117    129\n",
              "10885  2012-12-19 23:00:00       4        0  ...       4          84     88\n",
              "\n",
              "[10886 rows x 12 columns]"
            ]
          },
          "metadata": {
            "tags": []
          },
          "execution_count": 2
        }
      ]
    },
    {
      "cell_type": "code",
      "metadata": {
        "id": "LBJgthaFn5NM",
        "colab": {
          "base_uri": "https://localhost:8080/"
        },
        "outputId": "c8fac92f-79a1-46ff-802f-8c521c9bf50c"
      },
      "source": [
        "df.values"
      ],
      "execution_count": null,
      "outputs": [
        {
          "output_type": "execute_result",
          "data": {
            "text/plain": [
              "array([['2011-01-01 00:00:00', 1, 0, ..., 3, 13, 16],\n",
              "       ['2011-01-01 01:00:00', 1, 0, ..., 8, 32, 40],\n",
              "       ['2011-01-01 02:00:00', 1, 0, ..., 5, 27, 32],\n",
              "       ...,\n",
              "       ['2012-12-19 21:00:00', 4, 0, ..., 4, 164, 168],\n",
              "       ['2012-12-19 22:00:00', 4, 0, ..., 12, 117, 129],\n",
              "       ['2012-12-19 23:00:00', 4, 0, ..., 4, 84, 88]], dtype=object)"
            ]
          },
          "metadata": {
            "tags": []
          },
          "execution_count": 3
        }
      ]
    },
    {
      "cell_type": "markdown",
      "metadata": {
        "id": "2u7y_opEqd4r"
      },
      "source": [
        "# 판다스 데이터 프레임을 넘파이로 바꾸기\n",
        " 판다스로 불러온 DF데이터세트를 np_df의 넘파이로 불러옴"
      ]
    },
    {
      "cell_type": "code",
      "metadata": {
        "colab": {
          "base_uri": "https://localhost:8080/"
        },
        "id": "WjjaG6j6oFfN",
        "outputId": "f4a72ed3-47e4-4d71-da15-de1979da8137"
      },
      "source": [
        "np_df = np.array(df)\n",
        "np_df"
      ],
      "execution_count": null,
      "outputs": [
        {
          "output_type": "execute_result",
          "data": {
            "text/plain": [
              "array([['2011-01-01 00:00:00', 1, 0, ..., 3, 13, 16],\n",
              "       ['2011-01-01 01:00:00', 1, 0, ..., 8, 32, 40],\n",
              "       ['2011-01-01 02:00:00', 1, 0, ..., 5, 27, 32],\n",
              "       ...,\n",
              "       ['2012-12-19 21:00:00', 4, 0, ..., 4, 164, 168],\n",
              "       ['2012-12-19 22:00:00', 4, 0, ..., 12, 117, 129],\n",
              "       ['2012-12-19 23:00:00', 4, 0, ..., 4, 84, 88]], dtype=object)"
            ]
          },
          "metadata": {
            "tags": []
          },
          "execution_count": 4
        }
      ]
    },
    {
      "cell_type": "markdown",
      "metadata": {
        "id": "liwkjzZl4Xlp"
      },
      "source": [
        "# 텍스트 시계열 데이터를 날짜데이터로 변환하기"
      ]
    },
    {
      "cell_type": "code",
      "metadata": {
        "id": "M_-NWRwhtt1r"
      },
      "source": [
        "# 파이썬 내장한수 사용\n",
        "from datetime import date\n",
        "import datetime"
      ],
      "execution_count": null,
      "outputs": []
    },
    {
      "cell_type": "code",
      "metadata": {
        "colab": {
          "base_uri": "https://localhost:8080/"
        },
        "id": "o53OHZNVKnyv",
        "outputId": "890c4ccf-13ad-4364-b6f2-fdb5485a4c52"
      },
      "source": [
        "# 원본 데이터에서 object로 되어있는 시계열 텍스트 데이터 저장\n",
        "date_time_obj = np_df[:,0]\n",
        "date_time_obj"
      ],
      "execution_count": null,
      "outputs": [
        {
          "output_type": "execute_result",
          "data": {
            "text/plain": [
              "array(['2011-01-01 00:00:00', '2011-01-01 01:00:00',\n",
              "       '2011-01-01 02:00:00', ..., '2012-12-19 21:00:00',\n",
              "       '2012-12-19 22:00:00', '2012-12-19 23:00:00'], dtype=object)"
            ]
          },
          "metadata": {
            "tags": []
          },
          "execution_count": 6
        }
      ]
    },
    {
      "cell_type": "code",
      "metadata": {
        "id": "uZDqDuKQu1hB"
      },
      "source": [
        "# 날짜 텍스트를 날짜 데이터로 변환\n",
        "date_list = []\n",
        "for i in date_time_obj:\n",
        "    a = datetime.datetime.fromisoformat(i)\n",
        "    date_list.append(a)"
      ],
      "execution_count": null,
      "outputs": []
    },
    {
      "cell_type": "code",
      "metadata": {
        "colab": {
          "base_uri": "https://localhost:8080/"
        },
        "id": "En-RF8tCvTxh",
        "outputId": "8aed4b07-300f-4d4a-c8fe-7b3487bbf9c3"
      },
      "source": [
        "# 데이터가 잘 변환되었는지 확인하기\n",
        "date_list[0].hour"
      ],
      "execution_count": null,
      "outputs": [
        {
          "output_type": "execute_result",
          "data": {
            "text/plain": [
              "0"
            ]
          },
          "metadata": {
            "tags": []
          },
          "execution_count": 8
        }
      ]
    },
    {
      "cell_type": "code",
      "metadata": {
        "id": "L4dC3gbevxuR",
        "colab": {
          "base_uri": "https://localhost:8080/"
        },
        "outputId": "3b04b37e-5516-4e07-b60b-85ccbe6d307d"
      },
      "source": [
        "# 데이터 복사하기\n",
        "df_copy = np_df.copy()\n",
        "np_df.shape"
      ],
      "execution_count": null,
      "outputs": [
        {
          "output_type": "execute_result",
          "data": {
            "text/plain": [
              "(10886, 12)"
            ]
          },
          "metadata": {
            "tags": []
          },
          "execution_count": 28
        }
      ]
    },
    {
      "cell_type": "code",
      "metadata": {
        "colab": {
          "base_uri": "https://localhost:8080/"
        },
        "id": "eFm4A_GR2M-q",
        "outputId": "17303cc5-cd4a-44de-b9f8-59b9a07b5dc4"
      },
      "source": [
        "# 날짜 텍스트 데이터를 삭제  \n",
        "df_copy = np.delete(df_copy, 0, axis=1)\n",
        "df_copy"
      ],
      "execution_count": null,
      "outputs": [
        {
          "output_type": "execute_result",
          "data": {
            "text/plain": [
              "array([[1, 0, 0, ..., 3, 13, 16],\n",
              "       [1, 0, 0, ..., 8, 32, 40],\n",
              "       [1, 0, 0, ..., 5, 27, 32],\n",
              "       ...,\n",
              "       [4, 0, 1, ..., 4, 164, 168],\n",
              "       [4, 0, 1, ..., 12, 117, 129],\n",
              "       [4, 0, 1, ..., 4, 84, 88]], dtype=object)"
            ]
          },
          "metadata": {
            "tags": []
          },
          "execution_count": 30
        }
      ]
    },
    {
      "cell_type": "code",
      "metadata": {
        "colab": {
          "base_uri": "https://localhost:8080/"
        },
        "id": "4-MDCkyC2a4R",
        "outputId": "6a634857-76c9-4c14-d2a6-b086b49ab97e"
      },
      "source": [
        "df_copy.shape\n",
        "# 해당 데이터가 삭제된 것을 볼 수 있다."
      ],
      "execution_count": null,
      "outputs": [
        {
          "output_type": "execute_result",
          "data": {
            "text/plain": [
              "(10886, 11)"
            ]
          },
          "metadata": {
            "tags": []
          },
          "execution_count": 31
        }
      ]
    },
    {
      "cell_type": "code",
      "metadata": {
        "colab": {
          "base_uri": "https://localhost:8080/"
        },
        "id": "M9dYwW6G5ZQ1",
        "outputId": "381a3726-fb28-4638-b706-84050df4d736"
      },
      "source": [
        "# 리스트를 넘파이로 변환\n",
        "date_list = np.array(date_list)\n",
        "date_list.shape"
      ],
      "execution_count": null,
      "outputs": [
        {
          "output_type": "execute_result",
          "data": {
            "text/plain": [
              "(10886,)"
            ]
          },
          "metadata": {
            "tags": []
          },
          "execution_count": 21
        }
      ]
    },
    {
      "cell_type": "code",
      "metadata": {
        "colab": {
          "base_uri": "https://localhost:8080/"
        },
        "id": "rr-qzLZh3u2h",
        "outputId": "9f6246e8-1ad7-4aaa-cd98-562f52f4e569"
      },
      "source": [
        "# 2차 배열로 변환\n",
        "date_list = date_list.reshape(-1, 1)\n",
        "date_list.shape"
      ],
      "execution_count": null,
      "outputs": [
        {
          "output_type": "execute_result",
          "data": {
            "text/plain": [
              "(10886, 1)"
            ]
          },
          "metadata": {
            "tags": []
          },
          "execution_count": 24
        }
      ]
    },
    {
      "cell_type": "code",
      "metadata": {
        "colab": {
          "base_uri": "https://localhost:8080/"
        },
        "id": "ii40JvOw5Jnh",
        "outputId": "371e6733-b2df-40a2-cf39-bd0a6e885e6d"
      },
      "source": [
        "# 두개의 배열 합치기\n",
        "data1 = np.hstack((date_list, df_copy))\n",
        "data1"
      ],
      "execution_count": null,
      "outputs": [
        {
          "output_type": "execute_result",
          "data": {
            "text/plain": [
              "array([[datetime.datetime(2011, 1, 1, 0, 0), 1, 0, ..., 3, 13, 16],\n",
              "       [datetime.datetime(2011, 1, 1, 1, 0), 1, 0, ..., 8, 32, 40],\n",
              "       [datetime.datetime(2011, 1, 1, 2, 0), 1, 0, ..., 5, 27, 32],\n",
              "       ...,\n",
              "       [datetime.datetime(2012, 12, 19, 21, 0), 4, 0, ..., 4, 164, 168],\n",
              "       [datetime.datetime(2012, 12, 19, 22, 0), 4, 0, ..., 12, 117, 129],\n",
              "       [datetime.datetime(2012, 12, 19, 23, 0), 4, 0, ..., 4, 84, 88]],\n",
              "      dtype=object)"
            ]
          },
          "metadata": {
            "tags": []
          },
          "execution_count": 93
        }
      ]
    },
    {
      "cell_type": "markdown",
      "metadata": {
        "id": "UAPn2U-MMphn"
      },
      "source": [
        "넘파이로는 seaborn으로 시각화를 할 수 없다..."
      ]
    },
    {
      "cell_type": "code",
      "metadata": {
        "id": "0D0R-hWE9BUh"
      },
      "source": [
        "# years = []\n",
        "\n",
        "# for date in data:\n",
        "#     years.append(date[0].year)\n",
        "\n",
        "# s = pd.DataFrame(pd.Series(years, name=\"v\"))\n",
        "# sns.countplot(data=s, x='v')\n",
        "\n",
        "\n",
        "\n",
        "# figure, ((ax1, ax2), (ax3, ax4)) = plt.subplots(nrows=2, ncols=2)\n",
        "# figure.set_size_inches(18,8)\n",
        "\n",
        "# sns.barplot(data=data, x=data.year, y='count', ax=ax1)\n",
        "# sns.barplot(data=data, x=data.month, y='count', ax=ax2)\n",
        "# sns.barplot(data=data, x=[datetime.datetime].day, y='count', ax=ax3)\n",
        "# sns.barplot(data=data, x=[datetime.datetime].hour, y='count', ax=ax4)\n",
        "\n",
        "# ax1.set(ylabel='count', title='연도별 대여량')\n",
        "# ax2.set(xlabel='month', title='월별 대여량')\n",
        "# ax3.set(xlabel='day', title='일별 대여량')\n",
        "# ax4.set(xlabel='hour', title='시간별 대여량')"
      ],
      "execution_count": null,
      "outputs": []
    },
    {
      "cell_type": "markdown",
      "metadata": {
        "id": "g2ni2Jr5RZM0"
      },
      "source": [
        "# datetime을 years, months, days, hours, dayofweeks로 뽑아낸다."
      ]
    },
    {
      "cell_type": "code",
      "metadata": {
        "colab": {
          "base_uri": "https://localhost:8080/"
        },
        "id": "QgqKT6V6_5-w",
        "outputId": "cf467481-7646-409f-8d81-cd98c684e872"
      },
      "source": [
        "# datetime을 years, months, days, hours, dayofweeks로 추출하여 새로운 numpy 제작\n",
        "years = []\n",
        "months = []\n",
        "days = []\n",
        "hours = []\n",
        "dayofweeks=[]\n",
        "TIMESTAMP_IDX = 0\n",
        "for data in data1:\n",
        "  years.append(data[TIMESTAMP_IDX].year)\n",
        "  months.append(data[TIMESTAMP_IDX].month)\n",
        "  days.append(data[TIMESTAMP_IDX].day)\n",
        "  hours.append(data[TIMESTAMP_IDX].hour)\n",
        "  dayofweeks.append(data[TIMESTAMP_IDX].weekday())\n",
        "date_ndarray = np.array([\n",
        "  years, months, days, hours, dayofweeks\n",
        "])\n",
        "# list로 먼저 만들고 numpy로 묶음\n",
        "date_ndarray"
      ],
      "execution_count": null,
      "outputs": [
        {
          "output_type": "execute_result",
          "data": {
            "text/plain": [
              "array([[2011, 2011, 2011, ..., 2012, 2012, 2012],\n",
              "       [   1,    1,    1, ...,   12,   12,   12],\n",
              "       [   1,    1,    1, ...,   19,   19,   19],\n",
              "       [   0,    1,    2, ...,   21,   22,   23],\n",
              "       [   5,    5,    5, ...,    2,    2,    2]])"
            ]
          },
          "metadata": {
            "tags": []
          },
          "execution_count": 99
        }
      ]
    },
    {
      "cell_type": "code",
      "metadata": {
        "colab": {
          "base_uri": "https://localhost:8080/"
        },
        "id": "jm6GhzpZO3us",
        "outputId": "e5149ae4-87cc-4471-94d2-2bc3d0bd2468"
      },
      "source": [
        "# 추출해온 데이터 shape 확인\n",
        "date_ndarray.shape"
      ],
      "execution_count": null,
      "outputs": [
        {
          "output_type": "execute_result",
          "data": {
            "text/plain": [
              "(5, 10886)"
            ]
          },
          "metadata": {
            "tags": []
          },
          "execution_count": 100
        }
      ]
    },
    {
      "cell_type": "code",
      "metadata": {
        "colab": {
          "base_uri": "https://localhost:8080/"
        },
        "id": "7gBsVfCxQKIU",
        "outputId": "f74cb7d5-d5d3-4568-b1dc-561754ce6d5c"
      },
      "source": [
        "# 추출해온 데이터를 transposition\n",
        "data_np = date_ndarray.T\n",
        "data_np.shape"
      ],
      "execution_count": null,
      "outputs": [
        {
          "output_type": "execute_result",
          "data": {
            "text/plain": [
              "(10886, 5)"
            ]
          },
          "metadata": {
            "tags": []
          },
          "execution_count": 107
        }
      ]
    },
    {
      "cell_type": "code",
      "metadata": {
        "colab": {
          "base_uri": "https://localhost:8080/"
        },
        "id": "YuCRXpUhQeaD",
        "outputId": "70fa4fce-2c4b-4a01-bc50-417d588796e0"
      },
      "source": [
        "data = np.hstack((data_np, df_copy))\n",
        "data"
      ],
      "execution_count": null,
      "outputs": [
        {
          "output_type": "execute_result",
          "data": {
            "text/plain": [
              "array([[2011, 1, 1, ..., 3, 13, 16],\n",
              "       [2011, 1, 1, ..., 8, 32, 40],\n",
              "       [2011, 1, 1, ..., 5, 27, 32],\n",
              "       ...,\n",
              "       [2012, 12, 19, ..., 4, 164, 168],\n",
              "       [2012, 12, 19, ..., 12, 117, 129],\n",
              "       [2012, 12, 19, ..., 4, 84, 88]], dtype=object)"
            ]
          },
          "metadata": {
            "tags": []
          },
          "execution_count": 108
        }
      ]
    },
    {
      "cell_type": "markdown",
      "metadata": {
        "id": "MnDCwPGMeuJS"
      },
      "source": [
        "# 데이터 상관관계 분석"
      ]
    },
    {
      "cell_type": "code",
      "metadata": {
        "id": "tHzGAW6y69PF"
      },
      "source": [
        "import matplotlib.pyplot as plt\n",
        "import seaborn as sns"
      ],
      "execution_count": null,
      "outputs": []
    },
    {
      "cell_type": "code",
      "metadata": {
        "colab": {
          "base_uri": "https://localhost:8080/"
        },
        "id": "Bi_AR5-UWSfM",
        "outputId": "37c9a8f2-08a4-4549-faab-d319105ada6e"
      },
      "source": [
        "ate = list(data[:, 9])\n",
        "tem = list(data[:, 8])\n",
        "hum = list(data[:, 10])\n",
        "wor = list(data[:, 6])\n",
        "hol = list(data[:, 5])\n",
        "cou = list(data[:, -1])\n",
        "cas = list(data[:, -3])\n",
        "reg = list(data[:, -2])\n",
        "\n",
        "xarr = [ate, tem, hum, wor, hol, cou, cas, reg]\n",
        "xarr = np.array(xarr)\n",
        "\n",
        "xarr_cor = np.corrcoef(xarr) # 전체로 보는상관관계\n",
        "xarr_cor"
      ],
      "execution_count": null,
      "outputs": [
        {
          "output_type": "execute_result",
          "data": {
            "text/plain": [
              "array([[ 1.00000000e+00, -5.50354182e-02,  9.84948110e-01,\n",
              "         2.94603393e-04,  2.58688551e-01,  3.94453645e-01,\n",
              "         4.67097064e-01,  3.18571280e-01],\n",
              "       [-5.50354182e-02,  1.00000000e+00, -5.53759732e-02,\n",
              "        -7.07391151e-03,  8.87865085e-03, -1.28655201e-01,\n",
              "        -1.35917680e-01, -1.09340372e-01],\n",
              "       [ 9.84948110e-01, -5.53759732e-02,  1.00000000e+00,\n",
              "        -5.21477822e-03,  2.64744326e-01,  3.89784437e-01,\n",
              "         4.62066536e-01,  3.14635386e-01],\n",
              "       [ 2.94603393e-04, -7.07391151e-03, -5.21477822e-03,\n",
              "         1.00000000e+00,  2.93676097e-02, -5.39298448e-03,\n",
              "         4.37989287e-02, -2.09556729e-02],\n",
              "       [ 2.58688551e-01,  8.87865085e-03,  2.64744326e-01,\n",
              "         2.93676097e-02,  1.00000000e+00,  1.63439017e-01,\n",
              "         9.67580628e-02,  1.64010534e-01],\n",
              "       [ 3.94453645e-01, -1.28655201e-01,  3.89784437e-01,\n",
              "        -5.39298448e-03,  1.63439017e-01,  1.00000000e+00,\n",
              "         6.90413565e-01,  9.70948106e-01],\n",
              "       [ 4.67097064e-01, -1.35917680e-01,  4.62066536e-01,\n",
              "         4.37989287e-02,  9.67580628e-02,  6.90413565e-01,\n",
              "         1.00000000e+00,  4.97249685e-01],\n",
              "       [ 3.18571280e-01, -1.09340372e-01,  3.14635386e-01,\n",
              "        -2.09556729e-02,  1.64010534e-01,  9.70948106e-01,\n",
              "         4.97249685e-01,  1.00000000e+00]])"
            ]
          },
          "metadata": {
            "tags": []
          },
          "execution_count": 133
        }
      ]
    },
    {
      "cell_type": "code",
      "metadata": {
        "colab": {
          "base_uri": "https://localhost:8080/"
        },
        "id": "hhy7HpgEzmAf",
        "outputId": "6aa25f99-c312-4056-b723-01da8b557f33"
      },
      "source": [
        " # 휴일과 총이용자 수의 상관관계\n",
        "cor_hol_cou = np.corrcoef(hol, cou)\n",
        "cor_hol_cou"
      ],
      "execution_count": null,
      "outputs": [
        {
          "output_type": "execute_result",
          "data": {
            "text/plain": [
              "array([[1.        , 0.16343902],\n",
              "       [0.16343902, 1.        ]])"
            ]
          },
          "metadata": {
            "tags": []
          },
          "execution_count": 134
        }
      ]
    },
    {
      "cell_type": "code",
      "metadata": {
        "colab": {
          "base_uri": "https://localhost:8080/"
        },
        "id": "vI0KkZTI4rqj",
        "outputId": "b411a36d-e56c-417b-e503-90c4712300ae"
      },
      "source": [
        "# 일하는 날과 총 사용자 수의 상관관계\n",
        "cor_wor_cou = np.corrcoef(wor, cou)\n",
        "cor_wor_cou"
      ],
      "execution_count": null,
      "outputs": [
        {
          "output_type": "execute_result",
          "data": {
            "text/plain": [
              "array([[ 1.        , -0.00539298],\n",
              "       [-0.00539298,  1.        ]])"
            ]
          },
          "metadata": {
            "tags": []
          },
          "execution_count": 136
        }
      ]
    },
    {
      "cell_type": "code",
      "metadata": {
        "colab": {
          "base_uri": "https://localhost:8080/"
        },
        "id": "nBaKaXjl4zyr",
        "outputId": "a84be1c4-6629-4bd0-c5ed-edc0b3384d5e"
      },
      "source": [
        "# 습도와 총이용자 수의 상관관계\n",
        "corr_hum_cou = np.corrcoef(hum, cou)\n",
        "corr_hum_cou"
      ],
      "execution_count": null,
      "outputs": [
        {
          "output_type": "execute_result",
          "data": {
            "text/plain": [
              "array([[1.        , 0.38978444],\n",
              "       [0.38978444, 1.        ]])"
            ]
          },
          "metadata": {
            "tags": []
          },
          "execution_count": 138
        }
      ]
    },
    {
      "cell_type": "code",
      "metadata": {
        "colab": {
          "base_uri": "https://localhost:8080/"
        },
        "id": "7zu_Keqo492j",
        "outputId": "6209046e-eaca-462c-b97e-27c63c62c71a"
      },
      "source": [
        "# 온도와 총이용자 수의 상관관계\n",
        "cor_tem_cou = np.corrcoef(tem, cou)\n",
        "cor_tem_cou"
      ],
      "execution_count": null,
      "outputs": [
        {
          "output_type": "execute_result",
          "data": {
            "text/plain": [
              "array([[ 1.       , -0.1286552],\n",
              "       [-0.1286552,  1.       ]])"
            ]
          },
          "metadata": {
            "tags": []
          },
          "execution_count": 141
        }
      ]
    },
    {
      "cell_type": "code",
      "metadata": {
        "colab": {
          "base_uri": "https://localhost:8080/"
        },
        "id": "p7kIeV7U5Tbz",
        "outputId": "af427750-1498-40cb-b68a-f40fc926af06"
      },
      "source": [
        "# 온도와 등록자 수의 상관관계\n",
        "cor_tem_reg = np.corrcoef(tem, reg)\n",
        "cor_tem_reg"
      ],
      "execution_count": null,
      "outputs": [
        {
          "output_type": "execute_result",
          "data": {
            "text/plain": [
              "array([[ 1.        , -0.10934037],\n",
              "       [-0.10934037,  1.        ]])"
            ]
          },
          "metadata": {
            "tags": []
          },
          "execution_count": 142
        }
      ]
    },
    {
      "cell_type": "code",
      "metadata": {
        "colab": {
          "base_uri": "https://localhost:8080/"
        },
        "id": "Ndci-Np75ktT",
        "outputId": "8220a0b3-70e9-4503-dda9-8f020183536f"
      },
      "source": [
        "# 온도와 비동록자 수의 상관관계\n",
        "cor_tem_cas = np.corrcoef(tem, cas)\n",
        "cor_tem_cas"
      ],
      "execution_count": null,
      "outputs": [
        {
          "output_type": "execute_result",
          "data": {
            "text/plain": [
              "array([[ 1.        , -0.13591768],\n",
              "       [-0.13591768,  1.        ]])"
            ]
          },
          "metadata": {
            "tags": []
          },
          "execution_count": 143
        }
      ]
    },
    {
      "cell_type": "code",
      "metadata": {
        "colab": {
          "base_uri": "https://localhost:8080/",
          "height": 281
        },
        "id": "NkAFnQOcR9oj",
        "outputId": "b3ee841a-3316-4c7b-d871-b8200bb16946"
      },
      "source": [
        "plt.bar(data[:,3], data[:, -1], color='red')\n",
        "\n",
        "plt.xticks(list(range(0, 24)))\n",
        "\n",
        "plt.ylabel('count')\n",
        "plt.title('month')\n",
        "plt.show()"
      ],
      "execution_count": null,
      "outputs": [
        {
          "output_type": "display_data",
          "data": {
            "image/png": "[encoded data removed]",
            "text/plain": [
              "<Figure size 432x288 with 1 Axes>"
            ]
          },
          "metadata": {
            "tags": [],
            "needs_background": "light"
          }
        }
      ]
    },
    {
      "cell_type": "code",
      "metadata": {
        "id": "qO_4uphv6058"
      },
      "source": [
        ""
      ],
      "execution_count": null,
      "outputs": []
    }
  ]
}